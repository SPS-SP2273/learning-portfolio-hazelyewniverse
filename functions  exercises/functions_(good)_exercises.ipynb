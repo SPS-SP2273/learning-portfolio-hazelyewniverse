{
 "cells": [
  {
   "attachments": {},
   "cell_type": "markdown",
   "id": "123456",
   "metadata": {},
   "source": [
    "<div style=\"text-align:left;font-size:2em\"><span style=\"font-weight:bolder;font-size:1.25em\">SP2273 | Learning Portfolio</span><br><br><span style=\"font-weight:bold;color:darkred\">Functions (Good) Exercises</span></div>"
   ]
  },
  {
   "cell_type": "markdown",
   "id": "056f3eab-275d-400e-b328-31fe896589db",
   "metadata": {},
   "source": [
    "# Exercise 1"
   ]
  },
  {
   "cell_type": "code",
   "execution_count": 17,
   "id": "c12cc63a-634d-40cf-ad88-48fa098ccf9f",
   "metadata": {},
   "outputs": [],
   "source": [
    "def convert_celsius(temperature_celsius, target_scale = \"Fahrenheit\"):\n",
    "    if target_scale == 'Kelvin':\n",
    "        temperature_kelvin = temperature_celsius + 273.15\n",
    "        return temperature_kelvin\n",
    "    elif target_scale == \"Fahrenheit\": \n",
    "        temperature_fahrenheit = 9/5 * temperature_celsius + 32\n",
    "        return temperature_fahrenheit"
   ]
  },
  {
   "cell_type": "code",
   "execution_count": 18,
   "id": "3b7d0e42-f3de-44ae-b3f0-3e829c824815",
   "metadata": {},
   "outputs": [
    {
     "name": "stdout",
     "output_type": "stream",
     "text": [
      "86.0\n",
      "303.15\n"
     ]
    }
   ],
   "source": [
    "print(convert_celsius(30))       #default is Fahrenheit\n",
    "print(convert_celsius(30, \"Kelvin\")) #instructed to do Kelvin"
   ]
  },
  {
   "cell_type": "markdown",
   "id": "12991000-98fe-43fb-8c77-0947d9ad4144",
   "metadata": {},
   "source": [
    "# Exercise 2"
   ]
  },
  {
   "cell_type": "code",
   "execution_count": 19,
   "id": "50ed18d6-905b-4c29-a173-798b8e3461bc",
   "metadata": {},
   "outputs": [],
   "source": [
    "def convert_fahrenheit(temperature_fahrenheit, target_scale = \"Celsius\"):\n",
    "    if target_scale == 'Kelvin':\n",
    "        temperature_kelvin = (temperature_fahrenheit - 32) * 5/9 + 273.15\n",
    "        return temperature_kelvin\n",
    "    elif target_scale == 'Celsius':\n",
    "        temperature_celsius = (temperature_fahrenheit - 32) * 5/9\n",
    "        return temperature_celsius\n"
   ]
  },
  {
   "cell_type": "code",
   "execution_count": 20,
   "id": "cd675842-e19f-4333-b05f-acdb9565d0d5",
   "metadata": {},
   "outputs": [
    {
     "name": "stdout",
     "output_type": "stream",
     "text": [
      "-1.1111111111111112\n",
      "272.0388888888889\n"
     ]
    }
   ],
   "source": [
    "print(convert_fahrenheit(30))       #default is Celsius\n",
    "print(convert_fahrenheit(30, \"Kelvin\")) #instructed to do Kelvin"
   ]
  },
  {
   "cell_type": "markdown",
   "id": "67f9d2bd-7743-421b-a698-8daf4b0b4ab6",
   "metadata": {},
   "source": [
    "# Exercise 3"
   ]
  },
  {
   "cell_type": "code",
   "execution_count": 21,
   "id": "542dcc35-ee2d-42f6-b77d-a5c1c8a0f440",
   "metadata": {},
   "outputs": [],
   "source": [
    "def convert_kelvin(temperature_kelvin, target_scale = \"Celsius\"):\n",
    "    if target_scale == 'Fahrenheit':\n",
    "        temperature_fahrenheit = (temperature_kelvin - 273.15) * 9/5 + 32\n",
    "        return temperature_fahrenheit\n",
    "    elif target_scale == 'Celsius':\n",
    "        temperature_celsius = temperature_kelvin - 273.15 \n",
    "        return temperature_celsius"
   ]
  },
  {
   "cell_type": "code",
   "execution_count": 22,
   "id": "85659baf-b218-4313-bab7-5d25c7c8a3f0",
   "metadata": {},
   "outputs": [],
   "source": [
    "def convert_temperature(temperature, source_scale, target_scale):\n",
    "    if source_scale == 'Celsius':\n",
    "        return convert_celsius(temperature, target_scale)\n",
    "    elif source_scale == 'Fahrenheit':\n",
    "        return convert_fahrenheit(temperature, target_scale)\n",
    "    elif source_scale == 'Kelvin':\n",
    "        return convert_kelvin(temperature, target_scale)"
   ]
  },
  {
   "cell_type": "code",
   "execution_count": 23,
   "id": "c5a5b478-7b80-49bc-842b-61f289c6d907",
   "metadata": {},
   "outputs": [
    {
     "name": "stdout",
     "output_type": "stream",
     "text": [
      "303.15\n"
     ]
    }
   ],
   "source": [
    "print(convert_temperature(30, \"Celsius\", \"Kelvin\"))"
   ]
  }
 ],
 "metadata": {
  "kernelspec": {
   "display_name": "Python 3 (ipykernel)",
   "language": "python",
   "name": "python3"
  },
  "language_info": {
   "codemirror_mode": {
    "name": "ipython",
    "version": 3
   },
   "file_extension": ".py",
   "mimetype": "text/x-python",
   "name": "python",
   "nbconvert_exporter": "python",
   "pygments_lexer": "ipython3",
   "version": "3.11.7"
  },
  "toc": {
   "base_numbering": 1,
   "nav_menu": {},
   "number_sections": true,
   "sideBar": true,
   "skip_h1_title": false,
   "title_cell": "Table of Contents",
   "title_sidebar": "Contents",
   "toc_cell": false,
   "toc_position": {},
   "toc_section_display": true,
   "toc_window_display": false
  },
  "vscode": {
   "interpreter": {
    "hash": "31f2aee4e71d21fbe5cf8b01ff0e069b9275f58929596ceb00d14d90e3e16cd6"
   }
  }
 },
 "nbformat": 4,
 "nbformat_minor": 5
}
