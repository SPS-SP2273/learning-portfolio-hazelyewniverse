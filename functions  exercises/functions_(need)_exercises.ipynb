{
 "cells": [
  {
   "attachments": {},
   "cell_type": "markdown",
   "id": "123456",
   "metadata": {},
   "source": [
    "<div style=\"text-align:left;font-size:2em\"><span style=\"font-weight:bolder;font-size:1.25em\">SP2273 | Learning Portfolio</span><br><br><span style=\"font-weight:bold;color:darkred\">Functions (Need) Exercises</span></div>"
   ]
  },
  {
   "cell_type": "markdown",
   "id": "972f1666-3636-4acf-9448-b06844a756f2",
   "metadata": {},
   "source": [
    "# Exercise 1"
   ]
  },
  {
   "cell_type": "markdown",
   "id": "921cf9e2-e987-496e-bdfa-d3c823e5d61a",
   "metadata": {},
   "source": [
    "The reason this code works as expected without an else statement is because the return statement inside the if block immediately exits the function if the condition is true. Therefore, if the name is 'Batman', the function will never reach the last return statement; it will return the special greeting and terminate.\n",
    "\n",
    "On the other hand, if the name is not 'Batman', the if condition evaluates to False, and the function does not enter the if block. Instead, it proceeds to the next line and executes the final return statement, which sends back the general greeting."
   ]
  },
  {
   "cell_type": "markdown",
   "id": "656052c6-65c6-4474-bd3e-d5ebb25c7f29",
   "metadata": {},
   "source": [
    "# Exercise 2"
   ]
  },
  {
   "cell_type": "code",
   "execution_count": 4,
   "id": "8b018843-fc1a-4cbf-bd03-6cbd4295d0d5",
   "metadata": {},
   "outputs": [
    {
     "data": {
      "text/plain": [
       "'Normal weight'"
      ]
     },
     "execution_count": 4,
     "metadata": {},
     "output_type": "execute_result"
    }
   ],
   "source": [
    "def calculate_bmi(weight, height):\n",
    "    bmi = weight / (height ** 2)  # Calculate the BMI using the given formula\n",
    "    \n",
    "    # Determine the BMI category and return the appropriate string\n",
    "    if bmi < 18.5:\n",
    "        return 'Underweight'\n",
    "    elif 18.5 <= bmi < 25:\n",
    "        return 'Normal weight'\n",
    "    elif 25 <= bmi < 30:\n",
    "        return 'Overweight'\n",
    "    else:  # BMI of 30 or more\n",
    "        return 'Obesity'\n",
    "\n",
    "# calculate_bmi(70, 1.75) should return 'Normal weight'\n",
    "calculate_bmi(47, 1.56)\n"
   ]
  }
 ],
 "metadata": {
  "kernelspec": {
   "display_name": "Python 3 (ipykernel)",
   "language": "python",
   "name": "python3"
  },
  "language_info": {
   "codemirror_mode": {
    "name": "ipython",
    "version": 3
   },
   "file_extension": ".py",
   "mimetype": "text/x-python",
   "name": "python",
   "nbconvert_exporter": "python",
   "pygments_lexer": "ipython3",
   "version": "3.11.7"
  },
  "toc": {
   "base_numbering": 1,
   "nav_menu": {},
   "number_sections": true,
   "sideBar": true,
   "skip_h1_title": false,
   "title_cell": "Table of Contents",
   "title_sidebar": "Contents",
   "toc_cell": false,
   "toc_position": {},
   "toc_section_display": true,
   "toc_window_display": false
  },
  "vscode": {
   "interpreter": {
    "hash": "31f2aee4e71d21fbe5cf8b01ff0e069b9275f58929596ceb00d14d90e3e16cd6"
   }
  }
 },
 "nbformat": 4,
 "nbformat_minor": 5
}
