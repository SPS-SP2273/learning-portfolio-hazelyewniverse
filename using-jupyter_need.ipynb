{
 "cells": [
  {
   "cell_type": "markdown",
   "id": "036ba121",
   "metadata": {},
   "source": [
    "# 2 Getting Started with Jupyter"
   ]
  },
  {
   "cell_type": "markdown",
   "id": "8d2d153d",
   "metadata": {},
   "source": [
    "## 2.1 It is all about running cells"
   ]
  },
  {
   "cell_type": "markdown",
   "id": "76dce6cf",
   "metadata": {},
   "source": [
    "This is a cell"
   ]
  },
  {
   "cell_type": "markdown",
   "id": "3c92bee4",
   "metadata": {},
   "source": [
    "Run is Command + Enter"
   ]
  },
  {
   "cell_type": "markdown",
   "id": "e275f6f1",
   "metadata": {},
   "source": [
    "## 2.2 A Traditional Start"
   ]
  },
  {
   "cell_type": "code",
   "execution_count": 10,
   "id": "bc3b4570",
   "metadata": {
    "scrolled": false
   },
   "outputs": [
    {
     "name": "stdout",
     "output_type": "stream",
     "text": [
      "Hello World!\n"
     ]
    }
   ],
   "source": [
    "print('Hello World!')"
   ]
  },
  {
   "cell_type": "markdown",
   "id": "86f9d520",
   "metadata": {},
   "source": [
    "# 3 All about Markdown"
   ]
  },
  {
   "cell_type": "markdown",
   "id": "516b9152",
   "metadata": {},
   "source": [
    "## 3.1 Rendering Markdown Cells"
   ]
  },
  {
   "cell_type": "markdown",
   "id": "f6bb1c54",
   "metadata": {},
   "source": [
    "Code to Markdown is Esc + M"
   ]
  },
  {
   "cell_type": "markdown",
   "id": "c622d36d",
   "metadata": {},
   "source": [
    "The ships hung in the sky in much the same way that bricks don't."
   ]
  },
  {
   "cell_type": "markdown",
   "id": "2a1e0ad3",
   "metadata": {},
   "source": [
    "## 3.2 Some Basic Syntax"
   ]
  },
  {
   "cell_type": "markdown",
   "id": "93dce2e9",
   "metadata": {},
   "source": [
    "The ships *hung in the sky* in much the same way that **bricks don't**<sup>1</sup><sub>QUOTE</sub>"
   ]
  },
  {
   "cell_type": "markdown",
   "id": "eb41d5d1",
   "metadata": {},
   "source": [
    "## 3.3 Headings "
   ]
  },
  {
   "cell_type": "markdown",
   "id": "d5bf43b5",
   "metadata": {},
   "source": [
    "#/ is the largest heading."
   ]
  },
  {
   "cell_type": "markdown",
   "id": "3e15559b",
   "metadata": {},
   "source": [
    "##/ is the second-largest heading."
   ]
  },
  {
   "cell_type": "markdown",
   "id": "1139f59b",
   "metadata": {},
   "source": [
    "###/ is the third-largest heading."
   ]
  },
  {
   "cell_type": "markdown",
   "id": "545e8146",
   "metadata": {},
   "source": [
    "####/ is the smallest heading."
   ]
  },
  {
   "cell_type": "markdown",
   "id": "e645c274",
   "metadata": {},
   "source": [
    "## 3.4 Displaying Code"
   ]
  },
  {
   "cell_type": "markdown",
   "id": "d0eeabba",
   "metadata": {},
   "source": [
    "```python\n",
    "print('Hello World!')\n",
    "```"
   ]
  },
  {
   "cell_type": "markdown",
   "id": "098e5415",
   "metadata": {},
   "source": [
    "## 3.5 Links"
   ]
  },
  {
   "cell_type": "markdown",
   "id": "0884b03f",
   "metadata": {},
   "source": [
    "[SP2273 Website](https://sps.nus.edu.sg/sp2273)"
   ]
  },
  {
   "cell_type": "markdown",
   "id": "5347c87b",
   "metadata": {},
   "source": [
    "## 3.6 Images"
   ]
  },
  {
   "cell_type": "markdown",
   "id": "67d89ed1-27a1-44cf-ae60-f9c257738019",
   "metadata": {},
   "source": [
    "![](https://nus.edu.sg/images/default-source/base/logo.png)"
   ]
  },
  {
   "cell_type": "markdown",
   "id": "d5b19764",
   "metadata": {},
   "source": [
    "## 3.7 Tables"
   ]
  },
  {
   "cell_type": "markdown",
   "id": "40d18293-899e-4b7d-ad09-9b5afb6c320d",
   "metadata": {},
   "source": [
    "|A|B|C|\n",
    "|:---|:--:|---:|\n",
    "|a1|b1|c1|\n",
    "|a2|b2|c2|\n",
    "|a3|b3|c3|"
   ]
  },
  {
   "cell_type": "markdown",
   "id": "f7470348",
   "metadata": {},
   "source": [
    "## 3.8 Lists"
   ]
  },
  {
   "cell_type": "markdown",
   "id": "23e829ef",
   "metadata": {},
   "source": [
    "### Numbered"
   ]
  },
  {
   "cell_type": "markdown",
   "id": "1e1d96f7-f32a-4890-a10e-800f28f0c379",
   "metadata": {},
   "source": [
    "1. Master Yoda\n",
    "1. Luke Skywalker\n",
    "1. Anakin Skywalker"
   ]
  },
  {
   "cell_type": "markdown",
   "id": "87e66d1a",
   "metadata": {},
   "source": [
    "### Unnumbered"
   ]
  },
  {
   "cell_type": "markdown",
   "id": "dfdea801-129e-492b-8694-0bdb5fd81d56",
   "metadata": {},
   "source": [
    "- Master Yoda\n",
    "- Luke Skywalker\n",
    "- Anakin Skywalker"
   ]
  },
  {
   "cell_type": "markdown",
   "id": "2fdd8760",
   "metadata": {},
   "source": [
    "### Numbered-numbered"
   ]
  },
  {
   "cell_type": "markdown",
   "id": "ed36124f-162c-4146-8c52-c1aa4b748e65",
   "metadata": {},
   "source": [
    "1. Master Yoda\n",
    "   1. Was a Jedi\n",
    "   1. Was a bit green\n",
    "1. Luke Skywalker\n",
    "   1. Was a Jedi\n",
    "   1. Is Anakin's son.\n",
    "1. Anakin Skywalker\n",
    "   1. Was a Jedi then became a baddie\n",
    "   1. Is famous for saying 'Luke, I am your father'"
   ]
  },
  {
   "cell_type": "markdown",
   "id": "d9064a6f",
   "metadata": {},
   "source": [
    "### Numbered-unnumbered"
   ]
  },
  {
   "cell_type": "markdown",
   "id": "044566e4-23ab-46fe-adc9-0b461450da70",
   "metadata": {},
   "source": [
    "1. Master Yoda\n",
    "   - Was a Jedi\n",
    "   - Was a bit green\n",
    "1. Luke Skywalker\n",
    "   - Was a Jedi\n",
    "   - Is Anakin's son.\n",
    "1. Anakin Skywalker\n",
    "   - Was a Jedi then, became a baddie\n",
    "   - Is famous for saying, _'Luke, I am your father'_."
   ]
  },
  {
   "cell_type": "markdown",
   "id": "ebcf1011",
   "metadata": {},
   "source": [
    "## 3.9 Equations"
   ]
  },
  {
   "cell_type": "markdown",
   "id": "518f261b-9031-4106-92a9-4afec1fee767",
   "metadata": {},
   "source": [
    "$\\sqrt{b^2-4ac}$"
   ]
  },
  {
   "cell_type": "markdown",
   "id": "79441920-254e-488a-9300-8deb6496a6cd",
   "metadata": {},
   "source": [
    "$\n",
    "x = \\dfrac{-b \\pm \\sqrt{b^2-4ac}}{2a}\n",
    "$"
   ]
  },
  {
   "cell_type": "markdown",
   "id": "df69bb25",
   "metadata": {},
   "source": [
    "### Fraction"
   ]
  },
  {
   "cell_type": "markdown",
   "id": "b0e72075",
   "metadata": {},
   "source": [
    "$\\dfrac{y}{x}$"
   ]
  },
  {
   "cell_type": "markdown",
   "id": "df531303",
   "metadata": {},
   "source": [
    "### Subscript"
   ]
  },
  {
   "cell_type": "markdown",
   "id": "8c1bd8a5",
   "metadata": {},
   "source": [
    "$x_{a}$"
   ]
  },
  {
   "cell_type": "markdown",
   "id": "c5cf8e33",
   "metadata": {},
   "source": [
    "### Power"
   ]
  },
  {
   "cell_type": "markdown",
   "id": "0f2dcb89",
   "metadata": {},
   "source": [
    "$x^{(y+z)}$"
   ]
  },
  {
   "cell_type": "markdown",
   "id": "51c52dc9",
   "metadata": {},
   "source": [
    "### Squareroot"
   ]
  },
  {
   "cell_type": "markdown",
   "id": "df6800e4",
   "metadata": {},
   "source": [
    "$\\sqrt{a+b+c}$"
   ]
  },
  {
   "cell_type": "markdown",
   "id": "5fdd38ae",
   "metadata": {},
   "source": [
    "### Sum"
   ]
  },
  {
   "cell_type": "markdown",
   "id": "02daf1e3",
   "metadata": {},
   "source": [
    "$\\sum_{n=1}^{n=\\infty}x_n$"
   ]
  },
  {
   "cell_type": "markdown",
   "id": "b3a83545",
   "metadata": {},
   "source": [
    "### Integral"
   ]
  },
  {
   "cell_type": "markdown",
   "id": "a5d760f7",
   "metadata": {},
   "source": [
    "$\\int_{x=1}^{x=\\infty}f(x)dx$"
   ]
  },
  {
   "cell_type": "markdown",
   "id": "68f33384",
   "metadata": {},
   "source": [
    "### Not Equal "
   ]
  },
  {
   "cell_type": "markdown",
   "id": "7e6899f3",
   "metadata": {},
   "source": [
    "$ a\\ne b $"
   ]
  },
  {
   "cell_type": "markdown",
   "id": "4f0cfd65",
   "metadata": {},
   "source": [
    "### Less Than"
   ]
  },
  {
   "cell_type": "markdown",
   "id": "e4f8ecc4",
   "metadata": {},
   "source": [
    "$a \\lt b$"
   ]
  },
  {
   "cell_type": "markdown",
   "id": "17e43fe2",
   "metadata": {},
   "source": [
    "### Less Than or Equal To"
   ]
  },
  {
   "cell_type": "markdown",
   "id": "92a3ec7a",
   "metadata": {},
   "source": [
    "$a \\leq b$"
   ]
  },
  {
   "cell_type": "markdown",
   "id": "3fd684f8",
   "metadata": {},
   "source": [
    "### Greater Than"
   ]
  },
  {
   "cell_type": "markdown",
   "id": "eb962770",
   "metadata": {},
   "source": [
    "$a \\gt b$"
   ]
  },
  {
   "cell_type": "markdown",
   "id": "4b8c59ab",
   "metadata": {},
   "source": [
    "### Greater Than or Equal To"
   ]
  },
  {
   "cell_type": "markdown",
   "id": "7f1f2bc1",
   "metadata": {},
   "source": [
    "$a \\geq b$"
   ]
  },
  {
   "cell_type": "markdown",
   "id": "94b9a957",
   "metadata": {},
   "source": [
    "### Greek Letters (alpha)"
   ]
  },
  {
   "cell_type": "markdown",
   "id": "dd7a7fee",
   "metadata": {},
   "source": [
    "$\\alpha$"
   ]
  },
  {
   "cell_type": "markdown",
   "id": "74588f90",
   "metadata": {},
   "source": [
    "### Greek Letters (beta)"
   ]
  },
  {
   "cell_type": "markdown",
   "id": "009a29b1",
   "metadata": {},
   "source": [
    "$\\beta$"
   ]
  },
  {
   "cell_type": "markdown",
   "id": "4bb50f8e",
   "metadata": {},
   "source": [
    "### Greek Letters (gamma)"
   ]
  },
  {
   "cell_type": "markdown",
   "id": "f0b394e3",
   "metadata": {},
   "source": [
    "$\\gamma$"
   ]
  },
  {
   "cell_type": "markdown",
   "id": "6b485df2",
   "metadata": {},
   "source": [
    "### Greek Letters (pi)"
   ]
  },
  {
   "cell_type": "markdown",
   "id": "a3632e77",
   "metadata": {},
   "source": [
    "$\\pi$"
   ]
  },
  {
   "cell_type": "markdown",
   "id": "d56fcb85",
   "metadata": {},
   "source": [
    "### Greek Letters (lambda)"
   ]
  },
  {
   "cell_type": "markdown",
   "id": "70857cfc",
   "metadata": {},
   "source": [
    "$\\lambda$"
   ]
  },
  {
   "cell_type": "code",
   "execution_count": null,
   "id": "99183e1f",
   "metadata": {},
   "outputs": [],
   "source": []
  }
 ],
 "metadata": {
  "kernelspec": {
   "display_name": "Python 3 (ipykernel)",
   "language": "python",
   "name": "python3"
  },
  "language_info": {
   "codemirror_mode": {
    "name": "ipython",
    "version": 3
   },
   "file_extension": ".py",
   "mimetype": "text/x-python",
   "name": "python",
   "nbconvert_exporter": "python",
   "pygments_lexer": "ipython3",
   "version": "3.11.7"
  }
 },
 "nbformat": 4,
 "nbformat_minor": 5
}
