{
 "cells": [
  {
   "attachments": {},
   "cell_type": "markdown",
   "id": "123456",
   "metadata": {},
   "source": [
    "<div style=\"text-align:left;font-size:2em\"><span style=\"font-weight:bolder;font-size:1.25em\">SP2273 | Learning Portfolio</span><br><br><span style=\"font-weight:bold;color:darkred\">Loops (Good)</span></div>"
   ]
  },
  {
   "attachments": {},
   "cell_type": "markdown",
   "id": "a67c309d",
   "metadata": {},
   "source": [
    "# What to expect in this chapter"
   ]
  },
  {
   "cell_type": "markdown",
   "id": "bcbd8ce5-a35b-4914-bd0f-bfb2c348bbe4",
   "metadata": {},
   "source": [
    "In this chapter, I will show you how to exercise more control over what happens in loops by using the <span style=\"color:purple\">continue</span> and <span style=\"color:purple\">break</span> statements. I will also introduce you to **list comprehension**, a super-optimised variant of the <span style=\"color:purple\">for</span> a loop. You can use this to create list from other lists.\n",
    "\n"
   ]
  },
  {
   "attachments": {},
   "cell_type": "markdown",
   "id": "c19f00e6",
   "metadata": {},
   "source": [
    "# 1 Interrupting the flow"
   ]
  },
  {
   "cell_type": "markdown",
   "id": "7360af16-1119-4de7-86b5-75a3671db032",
   "metadata": {},
   "source": [
    "There are many instances when you want to change the flow of a loop from within. The two commands, <span style=\"color:purple\">break</span> and <span style=\"color:purple\">continue</span>, allow us to do just that. Let me show you some examples of how to use them.\n",
    "\n"
   ]
  },
  {
   "cell_type": "markdown",
   "id": "7e678de7-bd57-4fa5-be4d-f33753e59263",
   "metadata": {},
   "source": [
    "## Example 1"
   ]
  },
  {
   "cell_type": "code",
   "execution_count": 19,
   "id": "1e888bec-76d4-439f-8189-8389d57ce06f",
   "metadata": {},
   "outputs": [
    {
     "name": "stdout",
     "output_type": "stream",
     "text": [
      "0 1\n",
      "1 10\n",
      "2 100\n",
      "3 1000\n"
     ]
    }
   ],
   "source": [
    "for power in range(5):\n",
    "    number = 10**power\n",
    "    if number > 5000:  #we use if so that we break out if a certain condition is met\n",
    "        break          #break-out of the loop and terminate it\n",
    "    print(power, number)"
   ]
  },
  {
   "cell_type": "markdown",
   "id": "e5706cb2-1804-484f-a97c-d75b1d564221",
   "metadata": {},
   "source": [
    "## Example 2"
   ]
  },
  {
   "cell_type": "code",
   "execution_count": 20,
   "id": "ffc29133-cb19-4739-907a-765571a3793d",
   "metadata": {},
   "outputs": [
    {
     "name": "stdout",
     "output_type": "stream",
     "text": [
      "0 1\n",
      "1 10\n",
      "2 100\n",
      "4 10000\n"
     ]
    }
   ],
   "source": [
    "for power in range(5):\n",
    "    if power == 3:\n",
    "        continue        # Don't proceed further, allows us to do this by skipping everything after it.\n",
    "                        # IN THE CURRENT LOOP\n",
    "                        # if i == 3\n",
    "    number = 10**power\n",
    "    print(power, number)"
   ]
  },
  {
   "cell_type": "markdown",
   "id": "d0bea46c-b745-4e6e-a01d-9af694ea3cb5",
   "metadata": {},
   "source": [
    "## Example 3"
   ]
  },
  {
   "cell_type": "code",
   "execution_count": 21,
   "id": "6f85052e-bcd4-4c3b-8d07-619fcce8e2b2",
   "metadata": {},
   "outputs": [
    {
     "name": "stdout",
     "output_type": "stream",
     "text": [
      "1\n",
      "3\n",
      "5\n",
      "7\n",
      "9\n"
     ]
    }
   ],
   "source": [
    "for number in range(10):\n",
    "    # Don't proceed if the remainder is zero\n",
    "    # I.e. if the number is even\n",
    "    if number % 2 == 0:\n",
    "        continue\n",
    "    print(number)"
   ]
  },
  {
   "cell_type": "markdown",
   "id": "832bfeaa-78cd-4c4e-bba7-22279483500f",
   "metadata": {},
   "source": [
    "## Example 4"
   ]
  },
  {
   "cell_type": "code",
   "execution_count": 22,
   "id": "c89357ea-43bb-4120-9bce-05daf9079311",
   "metadata": {},
   "outputs": [
    {
     "name": "stdout",
     "output_type": "stream",
     "text": [
      "0\n",
      "1\n",
      "2\n",
      "3\n",
      "4\n"
     ]
    }
   ],
   "source": [
    "number=0\n",
    "\n",
    "while True:\n",
    "    print(number)\n",
    "    number += 1           #loop will run forever\n",
    "    if number > 4: break  #but it wouldn't because a break is introduced"
   ]
  },
  {
   "cell_type": "markdown",
   "id": "bbd1e827-16bf-470b-903c-f4753623f9ea",
   "metadata": {},
   "source": [
    "Remember you can use <span style=\"color:purple\">break</span> and <span style=\"color:purple\">continue</span> (with impunity) to interrupt the flow of loops.\n",
    "\n"
   ]
  },
  {
   "attachments": {},
   "cell_type": "markdown",
   "id": "3afa6a7e",
   "metadata": {},
   "source": [
    "# 2 List comprehension!"
   ]
  },
  {
   "cell_type": "markdown",
   "id": "221c9e7c-5361-4dc8-a03b-e8767c40a221",
   "metadata": {},
   "source": [
    "The exercises of the previous chapter had you using loops to create lists. However, creating new lists from other lists is so common that Python has an optimised syntax called <span style=\"color:orange\">list comprehension</span> to do just that. Here is how it works:\n",
    "\n"
   ]
  },
  {
   "attachments": {},
   "cell_type": "markdown",
   "id": "e57058a2",
   "metadata": {},
   "source": [
    "## 2.1 Basic syntax"
   ]
  },
  {
   "cell_type": "code",
   "execution_count": 23,
   "id": "b00461d0-5249-402e-99af-03ef45aaa449",
   "metadata": {},
   "outputs": [
    {
     "data": {
      "text/plain": [
       "[0, 1, 2, 3, 4]"
      ]
     },
     "execution_count": 23,
     "metadata": {},
     "output_type": "execute_result"
    }
   ],
   "source": [
    "[number for number in range(5)]  #The adjoining creates a simple list with numbers from 0 to 4.\n",
    "                                 #The syntax is very similar to that of a for loop. \n",
    "                                 #You just need to put the thing you want as an output at the front."
   ]
  },
  {
   "cell_type": "code",
   "execution_count": 24,
   "id": "64626637-32de-4cfa-8134-39e348b166f6",
   "metadata": {},
   "outputs": [
    {
     "data": {
      "text/plain": [
       "[0, 1, 4, 9, 16]"
      ]
     },
     "execution_count": 24,
     "metadata": {},
     "output_type": "execute_result"
    }
   ],
   "source": [
    "[number**2 for number in range(5)] #creating a list of squares"
   ]
  },
  {
   "attachments": {},
   "cell_type": "markdown",
   "id": "2f8d3a0c",
   "metadata": {},
   "source": [
    "## 2.2 List comprehension with conditions"
   ]
  },
  {
   "cell_type": "code",
   "execution_count": 25,
   "id": "2a962226-bc1c-471d-990e-f8c202ce0fac",
   "metadata": {},
   "outputs": [
    {
     "data": {
      "text/plain": [
       "[0, 2, 4, 6, 8]"
      ]
     },
     "execution_count": 25,
     "metadata": {},
     "output_type": "execute_result"
    }
   ],
   "source": [
    "[number for number in range(10) if number % 2 ==0]  #specify a condition"
   ]
  },
  {
   "attachments": {},
   "cell_type": "markdown",
   "id": "fc0da4ab",
   "metadata": {},
   "source": [
    "# 3 Other useful stuff"
   ]
  },
  {
   "attachments": {},
   "cell_type": "markdown",
   "id": "f1c101fa",
   "metadata": {},
   "source": [
    "## 3.1 for with unpacking"
   ]
  },
  {
   "cell_type": "markdown",
   "id": "77f1781f-4631-426e-a678-03140efe8c08",
   "metadata": {},
   "source": [
    "Python allows a neat trick called <span style=\"color:orange\">unpacking</span>, which works like this:"
   ]
  },
  {
   "cell_type": "code",
   "execution_count": 26,
   "id": "376bea93-6f83-4552-9794-b58d9a269baa",
   "metadata": {},
   "outputs": [
    {
     "name": "stdout",
     "output_type": "stream",
     "text": [
      "x = 1, y = 2, z = 3\n"
     ]
    }
   ],
   "source": [
    "x, y, z=[1, 2, 3]\n",
    "print(f'x = {x}, y = {y}, z = {z}')"
   ]
  },
  {
   "cell_type": "markdown",
   "id": "f7d947f4-b649-4e83-87c3-8db33bdb0a9d",
   "metadata": {},
   "source": [
    "Unpacking can be put to good use (for example) when we are dealing with 2D list. We can combine unpacking with a <span style=\"color:purple\">for</span> loop to extract elements as follows:\n",
    "\n"
   ]
  },
  {
   "cell_type": "code",
   "execution_count": 27,
   "id": "acbe55bc-e644-4e95-9aeb-ce0f098e52b0",
   "metadata": {},
   "outputs": [
    {
     "name": "stdout",
     "output_type": "stream",
     "text": [
      "Natasha Romanoff is Marvel's Black Widow!\n",
      "Tony Stark is Marvel's Iron Man!\n",
      "Stephen Strange is Marvel's Doctor Strange!\n"
     ]
    }
   ],
   "source": [
    "py_superhero_info = [['Natasha Romanoff', 'Black Widow'],\n",
    "                     ['Tony Stark', 'Iron Man'],\n",
    "                     ['Stephen Strange', 'Doctor Strange']]\n",
    "\n",
    "for real_name, super_name in py_superhero_info:\n",
    "    print(f\"{real_name} is Marvel's {super_name}!\")"
   ]
  },
  {
   "attachments": {},
   "cell_type": "markdown",
   "id": "dd9e72cc",
   "metadata": {},
   "source": [
    "## 3.2 for with zip()"
   ]
  },
  {
   "cell_type": "markdown",
   "id": "9e737bbf-4db8-4800-b75c-8da477a74104",
   "metadata": {},
   "source": [
    "Let’s revisit the example from the previous chapter that had two lists of real and superhero names that we used to print. \n",
    "\n",
    "There is yet another way to solve this task using a function called <span style=\"color:purple\">zip()</span>. <span style=\"color:purple\">zip()</span> is a neat function that can do some cool things. \n",
    "\n",
    "This is how to use <span style=\"color:purple\">zip()</span> to combine two lists.\n",
    "\n"
   ]
  },
  {
   "cell_type": "code",
   "execution_count": 28,
   "id": "6a2436a8-3f8a-4602-8773-e5c632ef0671",
   "metadata": {},
   "outputs": [
    {
     "name": "stdout",
     "output_type": "stream",
     "text": [
      "Natasha Romanoff is Marvel's Black Widow!\n",
      "Tony Stark is Marvel's Iron Man!\n",
      "Stephen Strange is Marvel's Doctor Strange!\n"
     ]
    }
   ],
   "source": [
    "super_names = [\"Black Widow\", \"Iron Man\", \"Doctor Strange\"]\n",
    "real_names = [\"Natasha Romanoff\", \"Tony Stark\", \"Stephen Strange\"]\n",
    "\n",
    "for real_name, super_name in zip(real_names,super_names):\n",
    "    print(f\"{real_name} is Marvel's {super_name}!\")"
   ]
  },
  {
   "cell_type": "markdown",
   "id": "8655a0e5-95aa-46c3-9b87-ec895f55f2ef",
   "metadata": {},
   "source": [
    "This is by far the most elegant solution we have for using multiple lists with a <span style=\"color:purple\">for</span> loop."
   ]
  },
  {
   "attachments": {},
   "cell_type": "markdown",
   "id": "5fe0d87e",
   "metadata": {},
   "source": [
    "## 3.3 for with dictionaries"
   ]
  },
  {
   "cell_type": "markdown",
   "id": "71b07af3-4e01-4eff-8e5a-52f989e9dbad",
   "metadata": {},
   "source": [
    "You will invariably need to loop through dictionaries in your programming career. Here is how you can do it with a <span style=\"color:purple\">for</span> loop.\n",
    "\n"
   ]
  },
  {
   "cell_type": "code",
   "execution_count": 29,
   "id": "e184f3aa-df01-4aa7-aff7-c891d1191a8f",
   "metadata": {},
   "outputs": [
    {
     "name": "stdout",
     "output_type": "stream",
     "text": [
      "Natasha Romanoff is Marvel's Black Widow!\n",
      "Tony Stark is Marvel's Iron Man!\n",
      "Stephen Strange is Marvel's Doctor Strange!\n"
     ]
    }
   ],
   "source": [
    "superhero_info={\"Natasha Romanoff\": \"Black Widow\",\n",
    "                \"Tony Stark\": \"Iron Man\",\n",
    "                \"Stephen Strange\": \"Doctor Strange\"}\n",
    "\n",
    "for key, value in superhero_info.items():\n",
    "    print(f\"{key} is Marvel's {value}!\")"
   ]
  },
  {
   "cell_type": "markdown",
   "id": "546afa41-939b-4f88-b3c3-36b1d2437dd9",
   "metadata": {},
   "source": [
    "The ‘hidden’ function <span style=\"color:purple\">items()</span> spits out both the key and the corresponding value."
   ]
  },
  {
   "cell_type": "code",
   "execution_count": 30,
   "id": "37a591bf-abcb-4142-821f-f3bf2879ecad",
   "metadata": {},
   "outputs": [
    {
     "name": "stdout",
     "output_type": "stream",
     "text": [
      "Natasha Romanoff is Marvel's Black Widow!\n",
      "Tony Stark is Marvel's Iron Man!\n",
      "Stephen Strange is Marvel's Doctor Strange!\n"
     ]
    }
   ],
   "source": [
    "for key in superhero_info.keys():\n",
    "    value=superhero_info[key]\n",
    "    print(f\"{key} is Marvel's {value}!\")  #to directly access the keys"
   ]
  },
  {
   "cell_type": "markdown",
   "id": "3a973866-12b3-4bc1-ae3e-cb39de269a14",
   "metadata": {},
   "source": [
    "By the way, I have used the variable names <span style=\"color:purple\">key</span> and <span style=\"color:purple\">value</span> to highlight their roles in the dictionary. You can use whatever you like. In fact, using <span style=\"color:purple\">real_name</span> and <span style=\"color:purple\">super_name</span> is preferred.\n",
    "\n"
   ]
  }
 ],
 "metadata": {
  "kernelspec": {
   "display_name": "Python 3 (ipykernel)",
   "language": "python",
   "name": "python3"
  },
  "language_info": {
   "codemirror_mode": {
    "name": "ipython",
    "version": 3
   },
   "file_extension": ".py",
   "mimetype": "text/x-python",
   "name": "python",
   "nbconvert_exporter": "python",
   "pygments_lexer": "ipython3",
   "version": "3.11.7"
  },
  "toc": {
   "base_numbering": 1,
   "nav_menu": {},
   "number_sections": true,
   "sideBar": true,
   "skip_h1_title": false,
   "title_cell": "Table of Contents",
   "title_sidebar": "Contents",
   "toc_cell": false,
   "toc_position": {},
   "toc_section_display": true,
   "toc_window_display": false
  },
  "vscode": {
   "interpreter": {
    "hash": "31f2aee4e71d21fbe5cf8b01ff0e069b9275f58929596ceb00d14d90e3e16cd6"
   }
  }
 },
 "nbformat": 4,
 "nbformat_minor": 5
}
