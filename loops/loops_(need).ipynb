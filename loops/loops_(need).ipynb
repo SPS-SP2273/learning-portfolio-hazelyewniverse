{
 "cells": [
  {
   "attachments": {},
   "cell_type": "markdown",
   "id": "123456",
   "metadata": {},
   "source": [
    "<div style=\"text-align:left;font-size:2em\"><span style=\"font-weight:bolder;font-size:1.25em\">SP2273 | Learning Portfolio</span><br><br><span style=\"font-weight:bold;color:darkred\">Loops (Need)</span></div>"
   ]
  },
  {
   "attachments": {},
   "cell_type": "markdown",
   "id": "c51593c1",
   "metadata": {},
   "source": [
    "# What to expect in this chapter"
   ]
  },
  {
   "cell_type": "markdown",
   "id": "cdd3c97c-3a4e-4c7f-89b3-48e24481cfac",
   "metadata": {},
   "source": [
    "One of the most powerful features of programming is the ability to repeat a task over and over again. This can be as mundane as renaming a set of files or more involved, like running the same statistical analysis on many experimental data sets. \n",
    "\n",
    "While humans quickly become tired (and bored) with such tasks, computers excel at mindless repetitive tasks. \n",
    "\n",
    "This section will show you how to repeat things in Python. This topic is called loops or iterations and is one of the most valuable features of any programming language.\n",
    "\n",
    "Python offers two mechanisms for looping. One is the for **statement**, and the other is the **while** statement. We will spend more time on the former as it is the more used of the two."
   ]
  },
  {
   "attachments": {},
   "cell_type": "markdown",
   "id": "1fad6d6d",
   "metadata": {},
   "source": [
    "# 1 The for iterator"
   ]
  },
  {
   "cell_type": "markdown",
   "id": "8449ac1f-73f5-4665-a9bf-1562e31cbfd9",
   "metadata": {},
   "source": [
    "Let me quickly show you a few examples of using a <span style=\"color:purple\">for</span> loop.\n",
    "\n",
    "Let’s say I want to print a message corresponding to every superhero in the following list."
   ]
  },
  {
   "cell_type": "code",
   "execution_count": 1,
   "id": "eb9cfab7-44bb-4d36-b604-0e95d2e5a19a",
   "metadata": {},
   "outputs": [],
   "source": [
    "real_names = [\"Natasha Romanoff\", \"Tony Stark\", \"Stephen Strange\"]"
   ]
  },
  {
   "cell_type": "markdown",
   "id": "b9b46379-af0f-47ae-a200-7ac7f8e64f04",
   "metadata": {},
   "source": [
    "Here is one (poor) way of doing this.\n",
    "\n"
   ]
  },
  {
   "cell_type": "code",
   "execution_count": 2,
   "id": "955370dd-7b1c-4fe2-9109-314467728bed",
   "metadata": {},
   "outputs": [
    {
     "name": "stdout",
     "output_type": "stream",
     "text": [
      "Natasha Romanoff is a Marvel superhero!\n",
      "Tony Stark is a Marvel superhero!\n",
      "Stephen Strange is a Marvel superhero!\n"
     ]
    }
   ],
   "source": [
    "name=real_names[0]\n",
    "print(f\"{name} is a Marvel superhero!\")\n",
    "\n",
    "name=real_names[1]\n",
    "print(f\"{name} is a Marvel superhero!\")\n",
    "\n",
    "name=real_names[2]\n",
    "print(f\"{name} is a Marvel superhero!\")"
   ]
  },
  {
   "cell_type": "markdown",
   "id": "ea4e55d1-38e7-4ab2-8efc-3a3caace5fd3",
   "metadata": {},
   "source": [
    "This way of programming is not very good because:\n",
    "\n",
    "1. it does not scale very well (imagine if you have a 100 names!),\n",
    "2. it is cumbersome to make changes, you have to do it three times.\n",
    "3. it is highly error prone, since you need to type something new (even if you are copying and pasting most of it).\n",
    "\n",
    "This is where a <span style=\"color:purple\">for</span> loop can come in handy."
   ]
  },
  {
   "attachments": {},
   "cell_type": "markdown",
   "id": "27754da0",
   "metadata": {},
   "source": [
    "## 1.1 for with a list"
   ]
  },
  {
   "cell_type": "markdown",
   "id": "414fd6f6-f768-4449-afcb-d8aaf2d3cde5",
   "metadata": {},
   "source": [
    "I can achieve the same result using a for loop as follows:"
   ]
  },
  {
   "cell_type": "code",
   "execution_count": 6,
   "id": "aef6f339-2b3f-420d-9b26-546eb093e755",
   "metadata": {},
   "outputs": [
    {
     "name": "stdout",
     "output_type": "stream",
     "text": [
      "Natasha Romanoff is a Marvel superhero!\n",
      "Tony Stark is a Marvel superhero!\n",
      "Stephen Strange is a Marvel superhero!\n"
     ]
    }
   ],
   "source": [
    "for name in real_names:\n",
    "    print(f\"{name} is a Marvel superhero!\")"
   ]
  },
  {
   "cell_type": "markdown",
   "id": "f2deb72d-95ff-4c99-bd6b-1eb7a4894e96",
   "metadata": {},
   "source": [
    "Notice the structure of the <span style=\"color:purple\">for</span> loop;\n",
    "\n",
    "1. it goes through the list and assigns <span style=\"color:purple\">name</span> the value of each element of the list.\n",
    "2. it then runs the code-block using this value of <span style=\"color:purple\">name</span>.\n",
    "3. the code block is deginted by using <span style=\"color:purple\">:</span> and tabs like with <span style=\"color:purple\">if</span>.\n",
    "\n",
    "\n"
   ]
  },
  {
   "cell_type": "markdown",
   "id": "8cac0de5-8782-4ee0-9551-799e5af6c98f",
   "metadata": {},
   "source": [
    "Remember that <span style=\"color:purple\">:for</span> can be used to directly loop through a list.\n",
    "\n"
   ]
  },
  {
   "cell_type": "markdown",
   "id": "78800b86-e438-4f1b-abed-26cb6c899ec1",
   "metadata": {},
   "source": [
    "There is nothing special about the names of the variables I have used. The following will work too. However, it will not be very readable because x is a bit cryptic in this context.\n",
    "\n"
   ]
  },
  {
   "cell_type": "code",
   "execution_count": 7,
   "id": "8e77afda-87f8-4ef9-b622-0ec65a8d7af3",
   "metadata": {},
   "outputs": [
    {
     "name": "stdout",
     "output_type": "stream",
     "text": [
      "Natasha Romanoff is a Marvel superhero!\n",
      "Tony Stark is a Marvel superhero!\n",
      "Stephen Strange is a Marvel superhero!\n"
     ]
    }
   ],
   "source": [
    "for x in real_names:\n",
    "    print(f\"{x} is a Marvel superhero!\")"
   ]
  },
  {
   "attachments": {},
   "cell_type": "markdown",
   "id": "f7186280",
   "metadata": {},
   "source": [
    "## 1.2 for with enumerate"
   ]
  },
  {
   "cell_type": "markdown",
   "id": "5532cd05-47d9-4b2a-abdf-8cbe4ff9e3c5",
   "metadata": {},
   "source": [
    "Using the information in both of the following lists."
   ]
  },
  {
   "cell_type": "code",
   "execution_count": 8,
   "id": "09af355c-f9d5-48ef-af55-6d772770bd2d",
   "metadata": {},
   "outputs": [],
   "source": [
    "super_names = [\"Black Widow\", \"Iron Man\", \"Doctor Strange\"]\n",
    "real_names = [\"Natasha Romanoff\", \"Tony Stark\", \"Stephen Strange\"]"
   ]
  },
  {
   "cell_type": "markdown",
   "id": "e23ecc05-725e-463b-8165-f6b98523d892",
   "metadata": {},
   "source": [
    "Since the <span style=\"color:purple\">for</span> loop only accepts one list, we need to do something else to access the data in both lists. One option is to use <span style=\"color:purple\">enumerate()</span>. Let's see <span style=\"color:purple\">enumerate()</span> works.\n",
    "\n"
   ]
  },
  {
   "cell_type": "code",
   "execution_count": 9,
   "id": "2b1a5040-b389-4c28-8cfb-37b7a34b3ffe",
   "metadata": {},
   "outputs": [
    {
     "name": "stdout",
     "output_type": "stream",
     "text": [
      "0: Natasha Romanoff is a Marvel superhero!\n",
      "1: Tony Stark is a Marvel superhero!\n",
      "2: Stephen Strange is a Marvel superhero!\n"
     ]
    }
   ],
   "source": [
    "for count, name in enumerate(real_names):\n",
    "    print(f'{count}: {name} is a Marvel superhero!')"
   ]
  },
  {
   "cell_type": "markdown",
   "id": "d426676e-eaa5-4f6a-aad2-0aab657872cf",
   "metadata": {},
   "source": [
    "You can think of <span style=\"color:purple\">enumerate()</span> as something that keeps count. In the above example, <span style=\"color:purple\">enumerate()</span> not only gives the elements of the list, it also gives you a number (that is stored in <span style=\"color:purple\">count</span>).\n",
    "\n"
   ]
  },
  {
   "cell_type": "markdown",
   "id": "d0bac614-4184-4ba8-84a1-263083df606e",
   "metadata": {},
   "source": [
    "Other than counting, we can use the count given by <span style=\"color:purple\">enumerate()</span> to index the other list!\n",
    "\n",
    "for index, name in enumerate(real_names):\n",
    "    superhero_name = super_names[index]\n",
    "    print(f'{name} is {superhero_name}!')"
   ]
  },
  {
   "cell_type": "code",
   "execution_count": 11,
   "id": "7a0d8958-bb9f-4b9d-83e1-feb071de9b09",
   "metadata": {},
   "outputs": [
    {
     "name": "stdout",
     "output_type": "stream",
     "text": [
      "Natasha Romanoff is Black Widow!\n",
      "Tony Stark is Iron Man!\n",
      "Stephen Strange is Doctor Strange!\n"
     ]
    }
   ],
   "source": [
    "for index, name in enumerate(real_names):\n",
    "    superhero_name = super_names[index]\n",
    "    print(f'{name} is {superhero_name}!')"
   ]
  },
  {
   "cell_type": "markdown",
   "id": "3f1eb842-e97a-4beb-9ac6-46dbd6d7b5dc",
   "metadata": {},
   "source": [
    "Before we move on, I would like to highlight two things:\n",
    "\n",
    "Notice how I changed the variable name used with <span style=\"color:purple\">enumerate()</span> to (<span style=\"color:purple\">count</span> and <span style=\"color:purple\">index</span>) to match their logical use. This makes it easy to immediately see what you are doing (i.e., the intention) wiht the code. Python does not really care abot this, but remember that we write programmes for humans!\n",
    "\n",
    "Although by default, <span style=\"color:purple\">enumerate()</span> starts counting from 0, we can easily change it to start at another value, say 100."
   ]
  },
  {
   "cell_type": "code",
   "execution_count": 12,
   "id": "7ad72c75-e933-40fb-bed6-219f197cfac3",
   "metadata": {},
   "outputs": [
    {
     "name": "stdout",
     "output_type": "stream",
     "text": [
      "100: Natasha Romanoff is a Marvel superhero!\n",
      "101: Tony Stark is a Marvel superhero!\n",
      "102: Stephen Strange is a Marvel superhero!\n"
     ]
    }
   ],
   "source": [
    "for count, name in enumerate(real_names, 100):\n",
    "    print(f'{count}: {name} is a Marvel superhero!')"
   ]
  },
  {
   "cell_type": "markdown",
   "id": "116089a5-09da-4c15-a187-6fa52304453f",
   "metadata": {},
   "source": [
    "Remember that <span style=\"color:purple\">for</span> can be combined with <span style=\"color:purple\">enumerate()</span> to count while looping through a list.\n",
    "\n"
   ]
  },
  {
   "attachments": {},
   "cell_type": "markdown",
   "id": "9c258efa",
   "metadata": {},
   "source": [
    "## 1.3 for with range"
   ]
  },
  {
   "cell_type": "markdown",
   "id": "c66651a9-987e-4f9e-8b0a-cfb4dd44a21e",
   "metadata": {},
   "source": [
    "Yet, another way to achieve the result above is by using the function <span style=\"color:purple\">range()</span>. But, first let's see what <span style=\"color:purple\">range()</span> can do.\n",
    "\n"
   ]
  },
  {
   "cell_type": "markdown",
   "id": "b55cf951-32a6-422d-b432-1487ab282d95",
   "metadata": {},
   "source": [
    "### Example 1"
   ]
  },
  {
   "cell_type": "code",
   "execution_count": 17,
   "id": "93514445-a1dc-40d1-bcea-116b81851fb1",
   "metadata": {},
   "outputs": [
    {
     "name": "stdout",
     "output_type": "stream",
     "text": [
      "0\n",
      "1\n",
      "2\n",
      "3\n",
      "4\n"
     ]
    }
   ],
   "source": [
    "for i in range(5):\n",
    "    print(i)           #We can use range() to get the for loop to run a given number of loops (5 in this example)."
   ]
  },
  {
   "cell_type": "markdown",
   "id": "8e53611b-f6ee-4e92-acf6-3346041e68c1",
   "metadata": {},
   "source": [
    "### Example 2"
   ]
  },
  {
   "cell_type": "code",
   "execution_count": 18,
   "id": "b8bdd079-ee30-494a-bdf5-b74888b2f1b4",
   "metadata": {},
   "outputs": [
    {
     "name": "stdout",
     "output_type": "stream",
     "text": [
      "5\n",
      "6\n",
      "7\n",
      "8\n",
      "9\n"
     ]
    }
   ],
   "source": [
    "for i in range(5, 10):\n",
    "    print(i)            #We can tailor the starting and ending values…"
   ]
  },
  {
   "cell_type": "markdown",
   "id": "e80b692a-8d41-44f5-96d3-0390aaba8770",
   "metadata": {},
   "source": [
    "### Example 3"
   ]
  },
  {
   "cell_type": "code",
   "execution_count": 19,
   "id": "32206384-f4e0-48f8-836a-5cb654b10167",
   "metadata": {},
   "outputs": [
    {
     "name": "stdout",
     "output_type": "stream",
     "text": [
      "1\n",
      "4\n",
      "7\n"
     ]
    }
   ],
   "source": [
    "for i in range(1, 10, 3):\n",
    "    print(i)            #We can even adjust the step size."
   ]
  },
  {
   "cell_type": "markdown",
   "id": "16223a1f-c97e-44b3-ba46-5115d4806ae7",
   "metadata": {},
   "source": [
    "- Functions like <span style=\"color:purple\">range()</span> and <span style=\"color:purple\">enumerate()</span> only work with looping structures.\n",
    "- <span style=\"color:purple\">range()</span> always ends one short of the ending number."
   ]
  },
  {
   "cell_type": "markdown",
   "id": "a5e464c4-9d5d-4b97-8472-6c91aba340c9",
   "metadata": {},
   "source": [
    "Now, let’s return to our initial problem of printing superhero names. We can use  <span style=\"color:purple\">range()</span> as follows:\n",
    "\n"
   ]
  },
  {
   "cell_type": "code",
   "execution_count": 21,
   "id": "20e82c91-5c08-4c62-995d-db4ac677cdc5",
   "metadata": {},
   "outputs": [
    {
     "name": "stdout",
     "output_type": "stream",
     "text": [
      "Natasha Romanoff is Marvel's Black Widow!\n",
      "Tony Stark is Marvel's Iron Man!\n",
      "Stephen Strange is Marvel's Doctor Strange!\n"
     ]
    }
   ],
   "source": [
    "list_len = len(real_names) \n",
    "\n",
    "for i in range(list_len):\n",
    "    real_name = real_names[i]\n",
    "    super_name = super_names[i]        \n",
    "    print(f\"{real_name} is Marvel's {super_name}!\")"
   ]
  },
  {
   "cell_type": "markdown",
   "id": "3570d177-031c-436a-99e9-0091d146375e",
   "metadata": {},
   "source": [
    "Notice that I have used the <span style=\"color:purple\">len(real_names)</span> to get how many times the loop should run."
   ]
  },
  {
   "cell_type": "markdown",
   "id": "a7205db2-37da-42e3-b8bb-58852a55d2a6",
   "metadata": {},
   "source": [
    "Remember that <span style=\"color:purple\">for</span> can be run a given number of times using <span style=\"color:purple\">range()</span>.\n",
    "\n"
   ]
  },
  {
   "attachments": {},
   "cell_type": "markdown",
   "id": "a5238cab",
   "metadata": {},
   "source": [
    "# 2 while"
   ]
  },
  {
   "cell_type": "code",
   "execution_count": 23,
   "id": "3f9c0e2e-30d6-4bc5-a2e1-7986c80d3d11",
   "metadata": {},
   "outputs": [
    {
     "name": "stdout",
     "output_type": "stream",
     "text": [
      "0\n",
      "1\n",
      "2\n",
      "3\n",
      "4\n"
     ]
    }
   ],
   "source": [
    "number = 0\n",
    "\n",
    "while number < 5:\n",
    "    print(number)\n",
    "    number += 1"
   ]
  },
  {
   "cell_type": "markdown",
   "id": "57aac092-81aa-41e5-a1eb-6451e9b02edf",
   "metadata": {},
   "source": [
    "Now let’s take a quick look at the <span style=\"color:purple\">while</span> loop. \n",
    "\n",
    "A <span style=\"color:purple\">while</span> loop is set up so that it keeps on running while a condition is <span style=\"color:purple\">True</span>. \n",
    "\n",
    "So the <span style=\"color:purple\">while</span> loop checks the condition at the start and begins another loop if it is <span style=\"color:purple\">True</span>.\n",
    "\n",
    "In the adjoining example the loop keeps on going while the number is less than 5.\n",
    "\n",
    "A useful feature of the <span style=\"color:purple\">while</span> loop is that you do not need to know beforehand how many iterations are needed.\n",
    "\n",
    "\n"
   ]
  }
 ],
 "metadata": {
  "kernelspec": {
   "display_name": "Python 3 (ipykernel)",
   "language": "python",
   "name": "python3"
  },
  "language_info": {
   "codemirror_mode": {
    "name": "ipython",
    "version": 3
   },
   "file_extension": ".py",
   "mimetype": "text/x-python",
   "name": "python",
   "nbconvert_exporter": "python",
   "pygments_lexer": "ipython3",
   "version": "3.11.7"
  },
  "toc": {
   "base_numbering": 1,
   "nav_menu": {},
   "number_sections": true,
   "sideBar": true,
   "skip_h1_title": false,
   "title_cell": "Table of Contents",
   "title_sidebar": "Contents",
   "toc_cell": false,
   "toc_position": {},
   "toc_section_display": true,
   "toc_window_display": false
  },
  "vscode": {
   "interpreter": {
    "hash": "31f2aee4e71d21fbe5cf8b01ff0e069b9275f58929596ceb00d14d90e3e16cd6"
   }
  }
 },
 "nbformat": 4,
 "nbformat_minor": 5
}
