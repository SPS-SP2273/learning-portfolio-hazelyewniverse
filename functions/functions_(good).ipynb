{
 "cells": [
  {
   "attachments": {},
   "cell_type": "markdown",
   "id": "123456",
   "metadata": {},
   "source": [
    "<div style=\"text-align:left;font-size:2em\"><span style=\"font-weight:bolder;font-size:1.25em\">SP2273 | Learning Portfolio</span><br><br><span style=\"font-weight:bold;color:darkred\">Functions (Good)</span></div>"
   ]
  },
  {
   "attachments": {},
   "cell_type": "markdown",
   "id": "5f2cebdf",
   "metadata": {},
   "source": [
    "# What to expect in this chapter"
   ]
  },
  {
   "cell_type": "markdown",
   "id": "89adbb9b-b7e4-459a-929c-83dd7b56e444",
   "metadata": {},
   "source": [
    "- Tie up some loose ends about functions like types of arguments and docstrings. \n",
    "- Discuss exception handling so that you can better understand how to deal with errors\n",
    "- Know the difference between positional, keyword, and default arguments of functions\n",
    "- Write code that checks and handles potential problems.\n",
    "\n"
   ]
  },
  {
   "attachments": {},
   "cell_type": "markdown",
   "id": "d6cf93b3",
   "metadata": {},
   "source": [
    "# 1 Checks, balances, and contingencies"
   ]
  },
  {
   "cell_type": "markdown",
   "id": "40b1c66f-139e-4ad6-87da-7d795cfc19e4",
   "metadata": {},
   "source": [
    "Users and programmers are not infallible, and you cannot think of everything that can go wrong. \n",
    "\n",
    "So, having checks, balances, and contingencies in your code is a good idea. \n",
    "\n",
    "So, let’s talk about pre-empting problems. This topic applies to more than just functions, but let’s start here.\n",
    "\n"
   ]
  },
  {
   "cell_type": "markdown",
   "id": "d22d5082-c8a6-46d5-81c3-a49a88b9aeac",
   "metadata": {},
   "source": [
    "There are two standard ways Python allows us to incorporate checks: <span style=\"color:purple\">assert</span> and <span style=\"color:purple\">try-except</span>."
   ]
  },
  {
   "attachments": {},
   "cell_type": "markdown",
   "id": "398a1796",
   "metadata": {},
   "source": [
    "## 1.1 assert"
   ]
  },
  {
   "cell_type": "markdown",
   "id": "967599da-3014-4d0e-b15f-21c22440643e",
   "metadata": {},
   "source": [
    "Python has a command called <span style=\"color:purple\">assert</span> that can check a condition and halt execution if necessary. It also gives the option of printing a message.\n",
    "\n"
   ]
  },
  {
   "cell_type": "code",
   "execution_count": 27,
   "id": "e64e2fc1-b987-4a59-bd92-5405691eab2a",
   "metadata": {},
   "outputs": [
    {
     "ename": "AssertionError",
     "evalue": "x is negative!",
     "output_type": "error",
     "traceback": [
      "\u001b[0;31m---------------------------------------------------------------------------\u001b[0m",
      "\u001b[0;31mAssertionError\u001b[0m                            Traceback (most recent call last)",
      "Cell \u001b[0;32mIn[27], line 2\u001b[0m\n\u001b[1;32m      1\u001b[0m x \u001b[38;5;241m=\u001b[39m \u001b[38;5;241m-\u001b[39m\u001b[38;5;241m1\u001b[39m\n\u001b[0;32m----> 2\u001b[0m \u001b[38;5;28;01massert\u001b[39;00m x \u001b[38;5;241m>\u001b[39m\u001b[38;5;241m=\u001b[39m \u001b[38;5;241m0\u001b[39m, \u001b[38;5;124m\"\u001b[39m\u001b[38;5;124mx is negative!\u001b[39m\u001b[38;5;124m\"\u001b[39m \u001b[38;5;66;03m#assert condition-to-check, message\u001b[39;00m\n",
      "\u001b[0;31mAssertionError\u001b[0m: x is negative!"
     ]
    }
   ],
   "source": [
    "x = -1\n",
    "assert x >= 0, \"x is negative!\" #assert condition-to-check, message"
   ]
  },
  {
   "cell_type": "code",
   "execution_count": 28,
   "id": "3bdab96e-a1f2-453d-b58b-d5450fa5236e",
   "metadata": {},
   "outputs": [],
   "source": [
    "x = 10\n",
    "assert x >= 0, \"x is negative!\""
   ]
  },
  {
   "attachments": {},
   "cell_type": "markdown",
   "id": "03cc46a2",
   "metadata": {},
   "source": [
    "## 1.2 try-except"
   ]
  },
  {
   "cell_type": "markdown",
   "id": "55806bca-70c5-4e06-a6ca-24d0a72b106b",
   "metadata": {},
   "source": [
    "A technical name for things going wrong is <span style=\"color:orange\">exceptions</span>. \n",
    "\n",
    "For example, division by zero will raise a <span style=\"color:purple\">ZeroDivisionError</span>. An exception left unhandled will halt the flow of the programme. However, if you are a control freak, Python offers an (absurdly) simple ‘try-except’ structure to catch and handle these exceptions yourself.\n",
    "\n"
   ]
  },
  {
   "cell_type": "markdown",
   "id": "ae19d43d-3ab7-4404-ada9-5f9ef20f971d",
   "metadata": {},
   "source": [
    "The <span style=\"color:purple\">try-except</span> syntax can also ensure that your programme can handle some situations beyond your control. For example, when I use Python to speak to the Canvas server, I use <span style=\"color:purple\">try-except</span> to handle situations when the server does not respond.\n",
    "\n",
    "This is how to use the <span style=\"color:purple\">try-except</span> flow control statement.\n",
    "\n",
    "We can solicit a user response using the <span style=\"color:purple\">input()</span> function. Let’s say we do this and ask for a number, as shown in the snippet below.\n",
    "\n"
   ]
  },
  {
   "cell_type": "code",
   "execution_count": 33,
   "id": "8207944f-c40e-461e-8976-68a5ad7679b1",
   "metadata": {},
   "outputs": [
    {
     "name": "stdin",
     "output_type": "stream",
     "text": [
      "Give me a number and I will calculate its square. 3\n"
     ]
    },
    {
     "name": "stdout",
     "output_type": "stream",
     "text": [
      "The square of 3 is 9!\n"
     ]
    }
   ],
   "source": [
    "number=input(\"Give me a number and I will calculate its square.\")\n",
    "square=int(number)**2              # Convert English to number\n",
    "print(f'The square of {number} is {square}!')"
   ]
  },
  {
   "cell_type": "markdown",
   "id": "281b24f6-9d8b-4c4d-8080-2c45e8864b1b",
   "metadata": {},
   "source": [
    "This will work fine if the typecasting <span style=\"color:purple\">int(number)</span> makes sense. What if the input is not a number but something else like ‘hahaha’?\n"
   ]
  },
  {
   "cell_type": "code",
   "execution_count": 34,
   "id": "7acb7553-c6b3-42b6-ac8b-6f8aec174d07",
   "metadata": {},
   "outputs": [
    {
     "name": "stdin",
     "output_type": "stream",
     "text": [
      "Give me a number and I will calculate its square. nine\n"
     ]
    },
    {
     "name": "stdout",
     "output_type": "stream",
     "text": [
      "Oh oh! I cannot square nine!\n"
     ]
    }
   ],
   "source": [
    "try:\n",
    "    number=input(\"Give me a number and I will calculate its square.\")\n",
    "    square=int(number)**2\n",
    "    print(f'The square of {number} is {square}!')\n",
    "except:\n",
    "    print(f\"Oh oh! I cannot square {number}!\")"
   ]
  },
  {
   "cell_type": "markdown",
   "id": "cfcf1712-7225-4263-b855-ad32fd4792f6",
   "metadata": {},
   "source": [
    "Notice how I have enclosed (and protected) that part of the code that we think can potentially lead to trouble in the try block. If something (anything) goes wrong, Python will ignore the error and run the code in the <span style=\"color:purple\">except</span> block.\n",
    "\n",
    "You can have more control over how the exceptions are handled with a <span style=\"color:purple\">try-except</span> block. However, we do not have to worry about that at this point."
   ]
  },
  {
   "attachments": {},
   "cell_type": "markdown",
   "id": "58454868",
   "metadata": {},
   "source": [
    "## 1.3 A simple suggestion"
   ]
  },
  {
   "cell_type": "markdown",
   "id": "99c3d188-2564-4b19-8540-3dcf5bf60d10",
   "metadata": {},
   "source": [
    "When starting out with some code, it is always good for your code to signal to the outside world that it has finished certain milestones. \n",
    "\n",
    "A ‘soft’ way to do this is to include ‘print()’ statements here and there to let the outside world know what is happening in the innards of \n",
    "your program. Otherwise, you will stare at a blank cell, wondering what is happening.\n",
    "\n"
   ]
  },
  {
   "attachments": {},
   "cell_type": "markdown",
   "id": "b1a5d628",
   "metadata": {},
   "source": [
    "# 2 Some loose ends"
   ]
  },
  {
   "attachments": {},
   "cell_type": "markdown",
   "id": "21ba977b",
   "metadata": {},
   "source": [
    "## 2.1 Positional, keyword and default arguments"
   ]
  },
  {
   "cell_type": "markdown",
   "id": "8adad742-3190-430a-9ce3-b7965f355692",
   "metadata": {},
   "source": [
    "In the past chapter, some of you may have noticed that I was (carelessly) switching between passing two styles of passing arguments to the function greeting(). \n",
    "\n",
    "I wrote greeting('Super Man') or greeting(name='Super Man'). We need to talk a bit more about this so that you are not bewildered when you see other people’s code."
   ]
  },
  {
   "cell_type": "markdown",
   "id": "053917e1-4190-4fd9-b4f1-484a9bc1962c",
   "metadata": {},
   "source": [
    "There are three ‘ways’ to pass a value to an argument. \n",
    "\n",
    "I will call them **positional**, **keyword** or **default**. To make this clearer, consider the following function.\n",
    "\n"
   ]
  },
  {
   "cell_type": "code",
   "execution_count": 35,
   "id": "a4117da0-1683-474c-bf46-53d50a320639",
   "metadata": {},
   "outputs": [],
   "source": [
    "def side_by_side(a, b, c=42):\n",
    "    return f'{a: 2d}|{b: 2d}|{c: 2d}'"
   ]
  },
  {
   "cell_type": "markdown",
   "id": "63643e87-ec4c-4a73-ac4f-11a33f265b3a",
   "metadata": {},
   "source": [
    "### Positional"
   ]
  },
  {
   "cell_type": "code",
   "execution_count": 36,
   "id": "6b1c1349-5dbb-4586-a98c-5856cbfa2524",
   "metadata": {},
   "outputs": [
    {
     "data": {
      "text/plain": [
       "' 1| 2| 3'"
      ]
     },
     "execution_count": 36,
     "metadata": {},
     "output_type": "execute_result"
    }
   ],
   "source": [
    "side_by_side(1, 2, 3)  #telling Python to assign 1, 2, 3 to a, b, c using the positional order of the arguments"
   ]
  },
  {
   "cell_type": "markdown",
   "id": "37df0c2f-c3ed-4d53-9ac1-7debb850a899",
   "metadata": {},
   "source": [
    "### Keywords"
   ]
  },
  {
   "cell_type": "code",
   "execution_count": 37,
   "id": "5d9911a9-113e-4e0c-9014-5fe1d284f201",
   "metadata": {},
   "outputs": [
    {
     "data": {
      "text/plain": [
       "' 2| 1| 3'"
      ]
     },
     "execution_count": 37,
     "metadata": {},
     "output_type": "execute_result"
    }
   ],
   "source": [
    "side_by_side(c=3, b=1, a=2)  #explicitly specify the keyword to assign the values to each of a, b, c. (No, the order does not matter)"
   ]
  },
  {
   "cell_type": "markdown",
   "id": "56dc7ec1-d55e-4c71-82fc-fc13a092bd71",
   "metadata": {},
   "source": [
    "### Default"
   ]
  },
  {
   "cell_type": "code",
   "execution_count": 38,
   "id": "91270e41-5e24-4c1d-80c1-50e39d19493b",
   "metadata": {},
   "outputs": [
    {
     "data": {
      "text/plain": [
       "' 1| 2| 42'"
      ]
     },
     "execution_count": 38,
     "metadata": {},
     "output_type": "execute_result"
    }
   ],
   "source": [
    "side_by_side(1, b=2) #since c is optional, I can choose not to specify it (of course, provided I want c to be 1)."
   ]
  },
  {
   "cell_type": "code",
   "execution_count": 39,
   "id": "d5d88782-2c0e-40fb-8666-ae76852479eb",
   "metadata": {},
   "outputs": [
    {
     "data": {
      "text/plain": [
       "' 1| 2| 42'"
      ]
     },
     "execution_count": 39,
     "metadata": {},
     "output_type": "execute_result"
    }
   ],
   "source": [
    "side_by_side(1, 2)           # Two positional, 1 default\n",
    "## ' 1| 2| 42'\n",
    "side_by_side(1, 2, 3)        # Three positional\n",
    "## ' 1| 2| 3'\n",
    "side_by_side(a=1, b=2)       # Two keyword, 1 default\n",
    "## ' 1| 2| 42'\n",
    "side_by_side(c=3, b=1, a=2)  # Three keyword\n",
    "## ' 2| 1| 3'\n",
    "side_by_side(1, c=3, b=2)    # One positional, 2 keyword\n",
    "## ' 1| 2| 3'\n",
    "side_by_side(1, b=2)         # One positional, 1 keyword, 1 default\n",
    "## ' 1| 2| 42'"
   ]
  },
  {
   "cell_type": "code",
   "execution_count": 40,
   "id": "aea005c0-7faf-4fe7-a5fa-41ce32e73f7c",
   "metadata": {},
   "outputs": [
    {
     "ename": "SyntaxError",
     "evalue": "positional argument follows keyword argument (3855048630.py, line 3)",
     "output_type": "error",
     "traceback": [
      "\u001b[0;36m  Cell \u001b[0;32mIn[40], line 3\u001b[0;36m\u001b[0m\n\u001b[0;31m    side_by_side(a=2, 1)      # Won't work.\u001b[0m\n\u001b[0m                       ^\u001b[0m\n\u001b[0;31mSyntaxError\u001b[0m\u001b[0;31m:\u001b[0m positional argument follows keyword argument\n"
     ]
    }
   ],
   "source": [
    "# Keywords cannot be followed \n",
    "# by positional arguments\n",
    "side_by_side(a=2, 1)      # Won't work.                          "
   ]
  },
  {
   "attachments": {},
   "cell_type": "markdown",
   "id": "948a548f",
   "metadata": {},
   "source": [
    "## 2.2 Docstrings"
   ]
  },
  {
   "cell_type": "markdown",
   "id": "bf7a55b1-f12d-443f-ad5f-638334a742d1",
   "metadata": {},
   "source": [
    "Python has a <span style=\"color:orange\">docstring</span> feature that allows us to document what a function does inside the function. \n",
    "\n",
    "This documentation (i.e., the docstring) is displayed when we ask Python to show us the help info using <span style=\"color:purple\">help()</span>.\n",
    "\n"
   ]
  },
  {
   "cell_type": "code",
   "execution_count": 41,
   "id": "8b22387f-bb37-4311-8867-20774d151294",
   "metadata": {},
   "outputs": [],
   "source": [
    "def side_by_side(a, b, c=42):\n",
    "    '''\n",
    "    A test function to demonstrate how \n",
    "    positional, keyword and default arguments \n",
    "    work.\n",
    "    '''\n",
    "    return f'{a: 2d}|{b: 2d}|{c: 2d}'"
   ]
  },
  {
   "cell_type": "markdown",
   "id": "b00922eb-911f-4c06-b5cc-5d666b84baf0",
   "metadata": {},
   "source": [
    "A docstring needs to be sandwiched between a pair of <span style=\"color:purple\">'''</span> (or <span style=\"color:purple\">\"\"\"</span>) and can span multiple lines."
   ]
  },
  {
   "cell_type": "code",
   "execution_count": 42,
   "id": "2254a95f-54bb-4ad7-80b1-476445dbfcf6",
   "metadata": {},
   "outputs": [
    {
     "name": "stdout",
     "output_type": "stream",
     "text": [
      "Help on function side_by_side in module __main__:\n",
      "\n",
      "side_by_side(a, b, c=42)\n",
      "    A test function to demonstrate how \n",
      "    positional, keyword and default arguments \n",
      "    work.\n",
      "\n"
     ]
    }
   ],
   "source": [
    "help(side_by_side)"
   ]
  },
  {
   "attachments": {},
   "cell_type": "markdown",
   "id": "79eb18d8",
   "metadata": {},
   "source": [
    "## 2.3 Function are first-class citizens"
   ]
  },
  {
   "cell_type": "markdown",
   "id": "edf35cdd-d8c7-49e1-bc75-f4970b1b8a6f",
   "metadata": {},
   "source": [
    "Python functions are called <span style=\"color:orange\">first-class citizens</span> because they have the same privileges as variables. \n",
    "\n",
    "This opens up useful possibilities for scientific programming because we can **pass a function as an argument to another function**"
   ]
  },
  {
   "cell_type": "code",
   "execution_count": 43,
   "id": "3adfbb8b-e1f0-4c73-8d75-bee9774fef87",
   "metadata": {},
   "outputs": [],
   "source": [
    "import numpy as np"
   ]
  },
  {
   "cell_type": "code",
   "execution_count": 44,
   "id": "d77cef09-9efb-4a08-8d82-5d66a6486cf0",
   "metadata": {},
   "outputs": [
    {
     "data": {
      "text/plain": [
       "-1.0"
      ]
     },
     "execution_count": 44,
     "metadata": {},
     "output_type": "execute_result"
    }
   ],
   "source": [
    "def my_function(angle, trig_function):\n",
    "        return trig_function(angle)\n",
    "\n",
    "# Let's use the function\n",
    "my_function(np.pi/2, np.sin)        \n",
    "## 1.0\n",
    "my_function(np.pi/2, np.cos)        \n",
    "## 6.123233995736766e-17\n",
    "my_function(np.pi/2, lambda x: np.cos(2*x))  \n",
    "## -1.0\n",
    "#Note: When we pass a function as an argument, we do not include the parenthesis ()."
   ]
  },
  {
   "attachments": {},
   "cell_type": "markdown",
   "id": "320a521d",
   "metadata": {},
   "source": [
    "## 2.4 More about unpacking"
   ]
  },
  {
   "cell_type": "markdown",
   "id": "d619d97a-7d05-4692-99d6-297f787d1c06",
   "metadata": {},
   "source": [
    "There is more to unpacking. For example, unpacking can make extracting information from lists and arrays a breeze. Here are some examples.\n",
    "\n"
   ]
  },
  {
   "cell_type": "markdown",
   "id": "e0f4d1fb-9292-4681-89f8-82227a300c36",
   "metadata": {},
   "source": [
    "### Example 1"
   ]
  },
  {
   "cell_type": "code",
   "execution_count": 45,
   "id": "5f26254c-3ba2-41f1-9f5f-05dfcd9a37ea",
   "metadata": {},
   "outputs": [
    {
     "data": {
      "text/plain": [
       "(1, 2, 3)"
      ]
     },
     "execution_count": 45,
     "metadata": {},
     "output_type": "execute_result"
    }
   ],
   "source": [
    "x, y, z = [1, 2, 3]\n",
    "x, y, z"
   ]
  },
  {
   "cell_type": "markdown",
   "id": "f1ad2fa3-b0d5-4378-b2e9-825828c5eafc",
   "metadata": {},
   "source": [
    "### Example 2"
   ]
  },
  {
   "cell_type": "code",
   "execution_count": 46,
   "id": "3148d4a8-af07-470a-b118-291c971486a9",
   "metadata": {},
   "outputs": [
    {
     "data": {
      "text/plain": [
       "(1, 2, 3)"
      ]
     },
     "execution_count": 46,
     "metadata": {},
     "output_type": "execute_result"
    }
   ],
   "source": [
    "x, y, z = np.array([1, 2, 3])\n",
    "x, y, z"
   ]
  },
  {
   "cell_type": "markdown",
   "id": "2bd56812-bfec-4c27-9bec-ac957a6700ef",
   "metadata": {},
   "source": [
    "### Example 3"
   ]
  },
  {
   "cell_type": "markdown",
   "id": "0e7800f8-bffc-4f78-aebf-be1162b85e04",
   "metadata": {},
   "source": [
    "x, *y, z = np.array([1, 2, 3, 4, 5])\n",
    "x, y, z"
   ]
  },
  {
   "cell_type": "markdown",
   "id": "df09ce85-8d10-4a00-9e6d-649515a20741",
   "metadata": {},
   "source": [
    "### Example 4"
   ]
  },
  {
   "cell_type": "code",
   "execution_count": 47,
   "id": "68f0978f-1674-4974-b609-9fd993a34180",
   "metadata": {},
   "outputs": [
    {
     "data": {
      "text/plain": [
       "(1, 5)"
      ]
     },
     "execution_count": 47,
     "metadata": {},
     "output_type": "execute_result"
    }
   ],
   "source": [
    "x, *_, y = [1, 2, 3, 4, 5]\n",
    "x, y"
   ]
  }
 ],
 "metadata": {
  "kernelspec": {
   "display_name": "Python 3 (ipykernel)",
   "language": "python",
   "name": "python3"
  },
  "language_info": {
   "codemirror_mode": {
    "name": "ipython",
    "version": 3
   },
   "file_extension": ".py",
   "mimetype": "text/x-python",
   "name": "python",
   "nbconvert_exporter": "python",
   "pygments_lexer": "ipython3",
   "version": "3.11.7"
  },
  "toc": {
   "base_numbering": 1,
   "nav_menu": {},
   "number_sections": true,
   "sideBar": true,
   "skip_h1_title": false,
   "title_cell": "Table of Contents",
   "title_sidebar": "Contents",
   "toc_cell": false,
   "toc_position": {},
   "toc_section_display": true,
   "toc_window_display": false
  },
  "vscode": {
   "interpreter": {
    "hash": "31f2aee4e71d21fbe5cf8b01ff0e069b9275f58929596ceb00d14d90e3e16cd6"
   }
  }
 },
 "nbformat": 4,
 "nbformat_minor": 5
}
