{
 "cells": [
  {
   "attachments": {},
   "cell_type": "markdown",
   "id": "123456",
   "metadata": {},
   "source": [
    "<div style=\"text-align:left;font-size:2em\"><span style=\"font-weight:bolder;font-size:1.25em\">SP2273 | Learning Portfolio</span><br><br><span style=\"font-weight:bold;color:darkred\">Functions (Need)</span></div>"
   ]
  },
  {
   "attachments": {},
   "cell_type": "markdown",
   "id": "123ea904",
   "metadata": {},
   "source": [
    "# What to expect in this chapter"
   ]
  },
  {
   "cell_type": "markdown",
   "id": "86359778-74a7-4f52-980c-efd02f00b0ff",
   "metadata": {},
   "source": [
    "By now, functions (e.g. <span style=\"color:purple\">print()</span>, <span style=\"color:purple\">enumerate()</span>) should be well used. \n",
    "\n",
    "A function is just a chunk of code that does a specific conceptual task. There is also the advantage that you can treat a function as a black box and just use it without knowing exactly what is going on in it. Sometimes this is good because too many details can be detrimental; other times it can be unwise as you do not know how an output is generated.\n",
    "\n",
    "this chapter looks into crafting our own functions. In addition to its practicality, the modularity of functions prompts us to think of solutions about modular solutions to problems.\n"
   ]
  },
  {
   "cell_type": "code",
   "execution_count": 14,
   "id": "a958fe0f-04e7-4da4-afdb-26b3d2ae79ef",
   "metadata": {},
   "outputs": [],
   "source": [
    "import numpy as np"
   ]
  },
  {
   "attachments": {},
   "cell_type": "markdown",
   "id": "f8652e01",
   "metadata": {},
   "source": [
    "# 1 User-defined functions"
   ]
  },
  {
   "cell_type": "markdown",
   "id": "6a45c1a9-f615-4a9f-aee3-d7ab10046ad2",
   "metadata": {},
   "source": [
    "<span style=\"color:purple\">print()</span> is an example of an **internal** function in Python. Creating of our own functions is also possible. \n",
    "\n",
    "There are 2 ways of doing it:\n",
    "1. named\n",
    "2. anonymous"
   ]
  },
  {
   "attachments": {},
   "cell_type": "markdown",
   "id": "8d1d72fc",
   "metadata": {},
   "source": [
    "## 1.1 Named Functions"
   ]
  },
  {
   "attachments": {},
   "cell_type": "markdown",
   "id": "7f6ab675",
   "metadata": {},
   "source": [
    "### Named functions that return"
   ]
  },
  {
   "cell_type": "code",
   "execution_count": 16,
   "id": "5b8f3aa6-c0c5-4ae3-a0dc-899568331fd4",
   "metadata": {},
   "outputs": [
    {
     "data": {
      "text/plain": [
       "'Hello Super Man!'"
      ]
     },
     "execution_count": 16,
     "metadata": {},
     "output_type": "execute_result"
    }
   ],
   "source": [
    "def greeting(name):       #defining a function, function is greeting and argument is name\n",
    "    if name == 'Batman':\n",
    "        return 'Hello Batman! So, nice to meet you!'\n",
    "    else:\n",
    "        return f'Hello {name}!'\n",
    "\n",
    "greeting(\"Super Man\")"
   ]
  },
  {
   "cell_type": "code",
   "execution_count": 17,
   "id": "d843a41f-56c3-4094-8501-d2455f500db9",
   "metadata": {},
   "outputs": [
    {
     "data": {
      "text/plain": [
       "'Hello Super Man!'"
      ]
     },
     "execution_count": 17,
     "metadata": {},
     "output_type": "execute_result"
    }
   ],
   "source": [
    "def greeting(name):       #defining a function, function is greeting and argument is name\n",
    "    if name == 'Batman':\n",
    "        return 'Hello Batman! So, nice to meet you!'\n",
    "    else:\n",
    "        return f'Hello {name}!'\n",
    "\n",
    "greeting(name=\"Super Man\")"
   ]
  },
  {
   "cell_type": "markdown",
   "id": "d2272e3d-617c-4b3e-9fde-ca70b3070150",
   "metadata": {},
   "source": [
    "As with all structures in Python, notice the keyword <span style=\"color:purple\">def</span>, the colon (<span style=\"color:purple\">:</span>) and the indentation that demarcates the function’s code block. Notice also that I have used the keyword <span style=\"color:purple\">return</span> to get an output from the function. When Python sees a <span style=\"color:purple\">return</span> keyword it jumps out of the function with the return value. You can pick up the returned value by assigning it to a variable or even use it directly like:\n",
    "\n"
   ]
  },
  {
   "cell_type": "code",
   "execution_count": 18,
   "id": "bcb8e81c-374a-4135-99a4-dd73b812d14b",
   "metadata": {},
   "outputs": [
    {
     "name": "stdout",
     "output_type": "stream",
     "text": [
      "Hello Super Man!\n"
     ]
    }
   ],
   "source": [
    "greet=greeting(name='Super Man')\n",
    "print(greet)"
   ]
  },
  {
   "cell_type": "code",
   "execution_count": 19,
   "id": "c3bba97f-5e5a-4de3-b8d0-9f352afdc63f",
   "metadata": {},
   "outputs": [
    {
     "name": "stdout",
     "output_type": "stream",
     "text": [
      "Hello Super Man!\n"
     ]
    }
   ],
   "source": [
    "print(greeting(name='Super Man'))"
   ]
  },
  {
   "cell_type": "markdown",
   "id": "f7b12d24-eaf5-4833-be02-7d42c7d38ca9",
   "metadata": {},
   "source": [
    "Incidentally, you can use <span style=\"color:purple\">return</span> only within a function.\n",
    "\n",
    "I also like to point out that you can return almost anything! Here is an example of a function that accepts a list and returns the maximum, minimum and mean.\n",
    "\n",
    "\n"
   ]
  },
  {
   "cell_type": "code",
   "execution_count": 20,
   "id": "e4e29173-e5e1-4fbc-b068-c3e2bccd7836",
   "metadata": {},
   "outputs": [],
   "source": [
    "def basic_stats(numbers):\n",
    "    np_numbers = np.array(numbers)\n",
    "    my_min = np_numbers.min()\n",
    "    my_max = np_numbers.max()\n",
    "    my_mean = np_numbers.mean()\n",
    "    return my_max, my_min, my_mean"
   ]
  },
  {
   "cell_type": "code",
   "execution_count": 21,
   "id": "f7073f4e-b00b-4aff-8905-d24cc7af75d9",
   "metadata": {},
   "outputs": [],
   "source": [
    "list_min, list_max, list_mean = basic_stats([1, 2, 3, 4, 5])"
   ]
  },
  {
   "attachments": {},
   "cell_type": "markdown",
   "id": "34b2fce9",
   "metadata": {},
   "source": [
    "### Named functions that don’t return"
   ]
  },
  {
   "cell_type": "markdown",
   "id": "4290e24d-6806-4f0b-a2dc-8a4b68abada2",
   "metadata": {},
   "source": [
    "A function does not have to return anything. \n",
    "\n",
    "A good example is <span style=\"color:purple\">print()</span>, which does something but does not return a value. \n",
    "\n",
    "We often also need functions like these, for instance, to save data to a file."
   ]
  },
  {
   "attachments": {},
   "cell_type": "markdown",
   "id": "b4fae4b6",
   "metadata": {},
   "source": [
    "## 1.2 Anonymous functions"
   ]
  },
  {
   "cell_type": "markdown",
   "id": "18b73750-e076-4696-8151-c277b506861e",
   "metadata": {},
   "source": [
    "Anonymous or <span style=\"color:orange\">lambda</span>, functions are suitable for short one-liners. Here are 2 examples:\n",
    "\n"
   ]
  },
  {
   "cell_type": "markdown",
   "id": "1e1515ab-ac6e-47e4-8da2-1062b952046f",
   "metadata": {},
   "source": [
    "### Example 1"
   ]
  },
  {
   "cell_type": "code",
   "execution_count": 23,
   "id": "25afdc61-3bcf-47b8-b7cc-f3035185df9c",
   "metadata": {},
   "outputs": [],
   "source": [
    "my_short_function = lambda name: f\"Hello {name}!\"  #function accepts a single argument called name"
   ]
  },
  {
   "cell_type": "code",
   "execution_count": 24,
   "id": "0178d884-d361-4883-bfeb-089e1101d4d5",
   "metadata": {},
   "outputs": [
    {
     "data": {
      "text/plain": [
       "'Hello Super Man!'"
      ]
     },
     "execution_count": 24,
     "metadata": {},
     "output_type": "execute_result"
    }
   ],
   "source": [
    "my_short_function(name=\"Super Man\")"
   ]
  },
  {
   "cell_type": "markdown",
   "id": "0d0c4f56-58a1-4e48-9468-a9039f9eca81",
   "metadata": {},
   "source": [
    "A <span style=\"color:orange\">lambda</span> function always returns the value of the last statement.\n",
    "\n"
   ]
  },
  {
   "cell_type": "markdown",
   "id": "36e00702-51ff-4ffd-9b93-e0c046840c77",
   "metadata": {},
   "source": [
    "### Example 3"
   ]
  },
  {
   "cell_type": "markdown",
   "id": "47ffa52f-72a1-4442-8b4b-df6f47766fa2",
   "metadata": {},
   "source": [
    "The above example is not a very good ‘anonymous’ one because I have used a name! \n",
    "\n",
    "Here's another one where things are really anonymous.\n",
    "\n"
   ]
  },
  {
   "cell_type": "code",
   "execution_count": 5,
   "id": "c4d06a51-95dd-4bcf-956d-f4dbc0499d55",
   "metadata": {},
   "outputs": [
    {
     "data": {
      "text/plain": [
       "[[0, 9, -19],\n",
       " [1, 8, -18],\n",
       " [2, 7, -17],\n",
       " [3, 6, -16],\n",
       " [4, 5, -15],\n",
       " [5, 4, -14],\n",
       " [6, 3, -13],\n",
       " [7, 2, -12],\n",
       " [8, 1, -11],\n",
       " [9, 0, -10]]"
      ]
     },
     "execution_count": 5,
     "metadata": {},
     "output_type": "execute_result"
    }
   ],
   "source": [
    "numbers=[[9, 0, -10],\n",
    "         [8, 1, -11],\n",
    "         [7, 2, -12],\n",
    "         [6, 3, -13],\n",
    "         [5, 4, -14],\n",
    "         [4, 5, -15],\n",
    "         [3, 6, -16],\n",
    "         [2, 7, -17],\n",
    "         [1, 8, -18],\n",
    "         [0, 9, -19]]\n",
    "\n",
    "# Sort by comparing the default key\n",
    "# (i.e., the 1st element)\n",
    "sorted(numbers)    #Notice that this sorting is based on comparing the first elements of the sub-lists."
   ]
  },
  {
   "cell_type": "code",
   "execution_count": 6,
   "id": "004536a9-08d5-401c-8208-eb4be087ecf4",
   "metadata": {},
   "outputs": [
    {
     "data": {
      "text/plain": [
       "[[9, 0, -10],\n",
       " [8, 1, -11],\n",
       " [7, 2, -12],\n",
       " [6, 3, -13],\n",
       " [5, 4, -14],\n",
       " [4, 5, -15],\n",
       " [3, 6, -16],\n",
       " [2, 7, -17],\n",
       " [1, 8, -18],\n",
       " [0, 9, -19]]"
      ]
     },
     "execution_count": 6,
     "metadata": {},
     "output_type": "execute_result"
    }
   ],
   "source": [
    "# Sort by comparing a custom key\n",
    "# that uses the 2nd element (index=1)\n",
    "sorted(numbers, key=lambda x: x[1])     \n",
    "\n",
    "#If I want to use some other criteria, then I need to specify a key that sorted() can be used for comparison. \n",
    "#As you can see, I have used a lambda function for this."
   ]
  },
  {
   "cell_type": "code",
   "execution_count": 8,
   "id": "b8a0edcb-e168-426d-b02a-1218858129a5",
   "metadata": {},
   "outputs": [
    {
     "data": {
      "text/plain": [
       "[[0, 9, -19],\n",
       " [1, 8, -18],\n",
       " [2, 7, -17],\n",
       " [3, 6, -16],\n",
       " [4, 5, -15],\n",
       " [5, 4, -14],\n",
       " [6, 3, -13],\n",
       " [7, 2, -12],\n",
       " [8, 1, -11],\n",
       " [9, 0, -10]]"
      ]
     },
     "execution_count": 8,
     "metadata": {},
     "output_type": "execute_result"
    }
   ],
   "source": [
    "# Sort by comparing a custom key\n",
    "# that uses the sum of the elements.\n",
    "sorted(numbers, key=lambda x:sum(x))\n",
    "\n",
    "#This is really powerful as I can specify almost any criterion I like. \n",
    "#For example, I can sort according to the sum of the elements of the sub-lists."
   ]
  },
  {
   "attachments": {},
   "cell_type": "markdown",
   "id": "f3df231e",
   "metadata": {},
   "source": [
    "## 1.3 Optional arguments"
   ]
  },
  {
   "cell_type": "markdown",
   "id": "28917f10-8834-4b38-a753-64933e68e67b",
   "metadata": {},
   "source": [
    "Python allows us to make arguments to our function <span style=\"color:orange\">optional</span>. \n",
    "To do this, we need to give the argument a <span\n",
    "                                               style=\"color:orange\">default</span> value so that it always has something to work with.\n",
    "\n"
   ]
  },
  {
   "cell_type": "code",
   "execution_count": 10,
   "id": "a426e26e-e5a5-466e-971d-6e1d68232ff3",
   "metadata": {},
   "outputs": [],
   "source": [
    "def greeting(name='no one'):\n",
    "    if name == 'Batman':\n",
    "        return 'Hello Batman! So, nice to meet you!'\n",
    "    else:\n",
    "        return f'Hello {name}!'"
   ]
  },
  {
   "cell_type": "markdown",
   "id": "a8ce8bb8-a213-41ba-a83c-1cc1fc004502",
   "metadata": {},
   "source": [
    "Now we can run this function without an argument, and it will still work without throwing an error.\n",
    "\n"
   ]
  },
  {
   "cell_type": "code",
   "execution_count": 11,
   "id": "e47e5340-dfd4-414e-8d0d-88f1bafe0ec0",
   "metadata": {},
   "outputs": [
    {
     "data": {
      "text/plain": [
       "'Hello no one!'"
      ]
     },
     "execution_count": 11,
     "metadata": {},
     "output_type": "execute_result"
    }
   ],
   "source": [
    "greeting()"
   ]
  },
  {
   "cell_type": "code",
   "execution_count": 12,
   "id": "fd1fcc1d-2ade-4ad6-9338-1e9977a23449",
   "metadata": {},
   "outputs": [
    {
     "data": {
      "text/plain": [
       "\u001b[0;31mSignature:\u001b[0m \u001b[0mprint\u001b[0m\u001b[0;34m(\u001b[0m\u001b[0;34m*\u001b[0m\u001b[0margs\u001b[0m\u001b[0;34m,\u001b[0m \u001b[0msep\u001b[0m\u001b[0;34m=\u001b[0m\u001b[0;34m' '\u001b[0m\u001b[0;34m,\u001b[0m \u001b[0mend\u001b[0m\u001b[0;34m=\u001b[0m\u001b[0;34m'\\n'\u001b[0m\u001b[0;34m,\u001b[0m \u001b[0mfile\u001b[0m\u001b[0;34m=\u001b[0m\u001b[0;32mNone\u001b[0m\u001b[0;34m,\u001b[0m \u001b[0mflush\u001b[0m\u001b[0;34m=\u001b[0m\u001b[0;32mFalse\u001b[0m\u001b[0;34m)\u001b[0m\u001b[0;34m\u001b[0m\u001b[0;34m\u001b[0m\u001b[0m\n",
       "\u001b[0;31mDocstring:\u001b[0m\n",
       "Prints the values to a stream, or to sys.stdout by default.\n",
       "\n",
       "sep\n",
       "  string inserted between values, default a space.\n",
       "end\n",
       "  string appended after the last value, default a newline.\n",
       "file\n",
       "  a file-like object (stream); defaults to the current sys.stdout.\n",
       "flush\n",
       "  whether to forcibly flush the stream.\n",
       "\u001b[0;31mType:\u001b[0m      builtin_function_or_method"
      ]
     },
     "metadata": {},
     "output_type": "display_data"
    }
   ],
   "source": [
    "?print"
   ]
  },
  {
   "cell_type": "code",
   "execution_count": 13,
   "id": "fcbd19dd-5a46-4e6f-b5a9-546762086886",
   "metadata": {},
   "outputs": [
    {
     "name": "stdout",
     "output_type": "stream",
     "text": [
      "I am Batman!\n",
      "I---am---Batman!\n"
     ]
    }
   ],
   "source": [
    "#You see that print() can accept other arguments that are optional with default values. However, we can specify them if we like; here goes.\n",
    "\n",
    "# Using default values\n",
    "print('I', 'am', 'Batman!')\n",
    "# Specifying an optional argument\n",
    "print('I', 'am', 'Batman!', sep='---')  "
   ]
  },
  {
   "cell_type": "markdown",
   "id": "57c457fc-6f6d-4d88-83f9-a8ab1e8176d6",
   "metadata": {},
   "source": [
    "Remember:\n",
    "\n",
    "1.You can define your own functions\n",
    "\n",
    "2.Functions can have optional arguments\n",
    "\n",
    "3.Functions **don’t** always have to return anything"
   ]
  },
  {
   "attachments": {},
   "cell_type": "markdown",
   "id": "68ebf8d0",
   "metadata": {},
   "source": [
    "## 1.4 The importance of functions?"
   ]
  },
  {
   "attachments": {},
   "cell_type": "markdown",
   "id": "f0bbd0e4",
   "metadata": {},
   "source": [
    "### An argument for functions"
   ]
  },
  {
   "cell_type": "markdown",
   "id": "2c0c24c4-4274-40d4-8417-727dd254365a",
   "metadata": {},
   "source": [
    "**Abstraction of details** \n",
    "\n",
    "The most important benefit of functions goes beyond programming and relates to your ability to strategize. \n",
    "\n",
    "If you break up a complicated solution into modular chunks (i.e., functions), it becomes easier to think about it because you are not dealing with all the details all at once. \n",
    "\n",
    "As a result, it is easier to focus on your overall solution because you are not distracted by unnecessary information. This hiding of ‘stuff’ is called <span style=\"color:orange\">abstraction</span> in computer science lingo. The concept of abstraction can be tricky to grasp.\n",
    "\n"
   ]
  },
  {
   "cell_type": "markdown",
   "id": "4d44ddfc-395f-4cc7-ab1b-04b563bc7565",
   "metadata": {},
   "source": [
    "A vehicle has many ‘abstracted’ systems, amongst which the engine is a good example. You do not need to know the engine’s details (e.g. electric, petrol, diesel, guineapig) to use it. You can use the engine of almost any car because you are not required to know what happens inside. This frees up your resources because you are not distracted by unnecessary details. Of course, there will be times when you want to know how an engine works to pick the best engine."
   ]
  },
  {
   "cell_type": "markdown",
   "id": "16e6866e-ab28-4be1-97f1-45200c256b9f",
   "metadata": {},
   "source": [
    "Reusability of code If you <span style=\"color:orange\">encapsulate</span> a chunk of code in a function, it becomes straightforward to reuse it instead of copying and pasting at different places. This means your code will be shorter and more compact.\n",
    "\n"
   ]
  },
  {
   "cell_type": "markdown",
   "id": "67b6fbc0-c524-4590-b19d-345ecf322774",
   "metadata": {},
   "source": [
    "Maintainability of code With functions, your code is easier to change and maintain because you need only make changes in one place, at the function definition.\n",
    "\n"
   ]
  },
  {
   "attachments": {},
   "cell_type": "markdown",
   "id": "d1568a7a",
   "metadata": {},
   "source": [
    "### A word of caution"
   ]
  },
  {
   "cell_type": "markdown",
   "id": "4e32f9a7-44bd-4ce1-ba46-f0baa894e60a",
   "metadata": {},
   "source": [
    "I have seen many instances where functions are **abused**; for example, by trying to do too many things or having too many arguments. They can also be **overused**. Having too many functions can make it difficult to read your code and also increase computational overheads. You will get a better feel for when to use functions with experience, but please bear in mind that functions can be misused.\n",
    "\n"
   ]
  }
 ],
 "metadata": {
  "kernelspec": {
   "display_name": "Python 3 (ipykernel)",
   "language": "python",
   "name": "python3"
  },
  "language_info": {
   "codemirror_mode": {
    "name": "ipython",
    "version": 3
   },
   "file_extension": ".py",
   "mimetype": "text/x-python",
   "name": "python",
   "nbconvert_exporter": "python",
   "pygments_lexer": "ipython3",
   "version": "3.11.7"
  },
  "toc": {
   "base_numbering": 1,
   "nav_menu": {},
   "number_sections": true,
   "sideBar": true,
   "skip_h1_title": false,
   "title_cell": "Table of Contents",
   "title_sidebar": "Contents",
   "toc_cell": false,
   "toc_position": {},
   "toc_section_display": true,
   "toc_window_display": false
  },
  "vscode": {
   "interpreter": {
    "hash": "31f2aee4e71d21fbe5cf8b01ff0e069b9275f58929596ceb00d14d90e3e16cd6"
   }
  }
 },
 "nbformat": 4,
 "nbformat_minor": 5
}
