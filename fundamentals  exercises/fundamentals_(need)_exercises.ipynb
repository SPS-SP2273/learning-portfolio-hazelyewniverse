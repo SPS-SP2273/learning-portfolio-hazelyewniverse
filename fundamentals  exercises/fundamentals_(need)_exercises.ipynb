{
 "cells": [
  {
   "attachments": {},
   "cell_type": "markdown",
   "id": "123456",
   "metadata": {},
   "source": [
    "<div style=\"text-align:left;font-size:2em\"><span style=\"font-weight:bolder;font-size:1.25em\">SP2273 | Learning Portfolio</span><br><br><span style=\"font-weight:bold;color:darkred\">Fundamentals (Need) Exercises</span></div>"
   ]
  },
  {
   "cell_type": "markdown",
   "id": "f7da6a4f-f31b-4886-b6e5-97d450102c3b",
   "metadata": {},
   "source": [
    "# Exercise 1"
   ]
  },
  {
   "cell_type": "markdown",
   "id": "d87fddb7-b223-419b-b9db-8ab20f2ba76e",
   "metadata": {},
   "source": [
    "**Basic Python Features**\n",
    "\n",
    "1. Functions\n",
    "2. *Interpreter*\n",
    "3. Sensitivity\n",
    "4. Comments\n",
    "5. *= versus ==*\n",
    "6. Decision making\n",
    "7. *Indentations*\n",
    "8. English and Variables\n",
    "9. Brackets\n",
    "10. Packages\n",
    "11. Dot (.)"
   ]
  },
  {
   "cell_type": "markdown",
   "id": "5e657a07-2aa0-4a95-b4f8-fbd00d522233",
   "metadata": {},
   "source": [
    "# Exercise 2"
   ]
  },
  {
   "cell_type": "code",
   "execution_count": 22,
   "id": "7fbf4aa1-422e-41ba-b6f7-0d2a3d884dcc",
   "metadata": {},
   "outputs": [],
   "source": [
    "import math         # Adding(importing) the functions\n",
    "                    # of the 'math' package    "
   ]
  },
  {
   "cell_type": "code",
   "execution_count": 23,
   "id": "7418d3fe-7d38-46bb-b0d5-6a4ffa6c98bf",
   "metadata": {},
   "outputs": [
    {
     "name": "stdout",
     "output_type": "stream",
     "text": [
      "3 4 5.0\n"
     ]
    }
   ],
   "source": [
    "x, y = 3, 4, \n",
    "z = math.sqrt(x**2 + y**2)\n",
    "print(x, y, z)"
   ]
  },
  {
   "cell_type": "markdown",
   "id": "0e7c2126-25f1-4953-92c5-c9974b78ebc8",
   "metadata": {},
   "source": [
    "# Exercise 3"
   ]
  },
  {
   "cell_type": "markdown",
   "id": "e4780152-da39-4934-8bf5-14be045353cf",
   "metadata": {},
   "source": [
    "| #   | Term  | Description   |\n",
    "|-------------|-------------|-------------|\n",
    "|1| Function| It is something that does a specific task.|\n",
    "|2| Arguments|They are values passed to functions when they are called.|\n",
    "|3| Comments| They help the future self understand the purpose of the code.|\n",
    "|4| Indentations| They make Python easy to read and dictates the structure and flow of the program. |\n",
    "|5| Packages| They enable Python to have more math skills and each package have different capabilities and efficiencies.|\n",
    "|6| dot (.)| It indicates ownership and what it can access depending on the context.|\n",
    "|7| :| It is used to designate a block of code.|\n",
    "|8| []| It is used for basic lists of data.|\n",
    "|9| [[[]]]| It is used for 3D lists, which is a list of lists of lists, for more complex data. |\n",
    "|10| {}| It is used to store data in a 'thing' called Python uses dictionary|"
   ]
  },
  {
   "cell_type": "markdown",
   "id": "0d1e560f-bf30-4787-9ce9-500b2f18f6d7",
   "metadata": {},
   "source": [
    "# Exercise 4"
   ]
  },
  {
   "cell_type": "markdown",
   "id": "e345be4e-28dc-4cd4-90b2-b904503846d0",
   "metadata": {},
   "source": [
    "5/2 # This performs floating-point division and returns a float result. For 5 divided by 2, it returns 2.5.\n",
    "\n",
    "5//2 # This performs integer (floor) division. It divides 5 by 2 and rounds down to the nearest whole number, returning 2.\n",
    "\n",
    "5%2 # This calculates the remainder of the division of 5 by 2, known as the modulo operation. It returns 1."
   ]
  },
  {
   "cell_type": "code",
   "execution_count": 24,
   "id": "e620004f-bd6a-4ce6-af52-73b9088fd17e",
   "metadata": {},
   "outputs": [
    {
     "name": "stdout",
     "output_type": "stream",
     "text": [
      "2.5\n",
      "2\n",
      "1\n"
     ]
    }
   ],
   "source": [
    "print (5/2)      #This is a floating-point division and returns a float result. For 5 divided by 2, it returns 2.5.\n",
    "print (5//2)     #This performs integer (floor) division. It divides 5 by 2 and rounds down to the nearest whole number, returning 2.\n",
    "print (5%2)      #This calculates the remainder of the division of 5 by 2, known as the modulo operation. It returns 1."
   ]
  }
 ],
 "metadata": {
  "kernelspec": {
   "display_name": "Python 3 (ipykernel)",
   "language": "python",
   "name": "python3"
  },
  "language_info": {
   "codemirror_mode": {
    "name": "ipython",
    "version": 3
   },
   "file_extension": ".py",
   "mimetype": "text/x-python",
   "name": "python",
   "nbconvert_exporter": "python",
   "pygments_lexer": "ipython3",
   "version": "3.11.7"
  },
  "toc": {
   "base_numbering": 1,
   "nav_menu": {},
   "number_sections": true,
   "sideBar": true,
   "skip_h1_title": false,
   "title_cell": "Table of Contents",
   "title_sidebar": "Contents",
   "toc_cell": false,
   "toc_position": {},
   "toc_section_display": true,
   "toc_window_display": false
  },
  "vscode": {
   "interpreter": {
    "hash": "31f2aee4e71d21fbe5cf8b01ff0e069b9275f58929596ceb00d14d90e3e16cd6"
   }
  }
 },
 "nbformat": 4,
 "nbformat_minor": 5
}
