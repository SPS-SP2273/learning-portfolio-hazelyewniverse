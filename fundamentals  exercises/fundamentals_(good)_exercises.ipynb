{
 "cells": [
  {
   "attachments": {},
   "cell_type": "markdown",
   "id": "123456",
   "metadata": {},
   "source": [
    "<div style=\"text-align:left;font-size:2em\"><span style=\"font-weight:bolder;font-size:1.25em\">SP2273 | Learning Portfolio</span><br><br><span style=\"font-weight:bold;color:darkred\">Fundamentals (Good) Exercises</span></div>"
   ]
  },
  {
   "cell_type": "markdown",
   "id": "565cbc8e-f6b1-401e-87a0-0d317a9d16e0",
   "metadata": {},
   "source": [
    "Python allows us to solicit information from the user."
   ]
  },
  {
   "cell_type": "markdown",
   "id": "0b36cc05-36dc-45ce-83b6-15660e2e9a26",
   "metadata": {},
   "source": [
    "One way to do this is uing the <span style=\"color:purple\">input()</span>.\n",
    "\n",
    "Example:"
   ]
  },
  {
   "cell_type": "code",
   "execution_count": 1,
   "id": "ec6d77da-bc0c-4176-bcbd-9861696d3ade",
   "metadata": {},
   "outputs": [
    {
     "name": "stdin",
     "output_type": "stream",
     "text": [
      "Give me a number? 9\n"
     ]
    },
    {
     "name": "stdout",
     "output_type": "stream",
     "text": [
      "You entered 9\n"
     ]
    }
   ],
   "source": [
    "user_input = input('Give me a number?')\n",
    "print('You entered', user_input)"
   ]
  },
  {
   "cell_type": "code",
   "execution_count": 2,
   "id": "e3e16851-cbc0-4dda-9720-95a7cf2ee6b3",
   "metadata": {},
   "outputs": [],
   "source": [
    "# Python waits for the answer from user and shows the input by the user"
   ]
  },
  {
   "cell_type": "code",
   "execution_count": 1,
   "id": "3a987193-1c26-46d7-8e43-f21e8d0f4830",
   "metadata": {},
   "outputs": [
    {
     "name": "stdin",
     "output_type": "stream",
     "text": [
      "Enter the student's score (0-100):  68\n"
     ]
    },
    {
     "name": "stdout",
     "output_type": "stream",
     "text": [
      "The student's letter grade is: B\n"
     ]
    }
   ],
   "source": [
    "while True:\n",
    "    try:\n",
    "        score = int(input(\"Enter the student's score (0-100): \"))\n",
    "        if 0 <= score <= 100:  # Check if the score is within the valid range\n",
    "            break  # Exit the loop if a valid score is entered\n",
    "        else:\n",
    "            print(\"Score must be between 0 and 100. Please try again.\")\n",
    "    except ValueError:\n",
    "        print(\"Invalid input. Please enter a numerical value.\")\n",
    "\n",
    "# Determine the letter grade based on the score\n",
    "if score >= 70:\n",
    "    grade = 'A'\n",
    "elif score >= 50:\n",
    "    grade = 'B'\n",
    "elif score >= 35:\n",
    "    grade = 'C'\n",
    "else:\n",
    "    grade = 'Fail'\n",
    "\n",
    "print(f\"The student's letter grade is: {grade}\")"
   ]
  },
  {
   "cell_type": "markdown",
   "id": "80181916-daaf-4f57-94f7-d80ba0994c17",
   "metadata": {},
   "source": [
    "'while' is a **loop control statement** that allows you to **execute a block of code repeatedly** as long as the condition after while is true.\n",
    "\n",
    "'True'  is a **boolean value** that represents the **concept of truth**. In a boolean context, True always evaluates to true."
   ]
  },
  {
   "cell_type": "markdown",
   "id": "3300b0c8-bd39-4f38-9b56-2aff81aa7dbc",
   "metadata": {},
   "source": [
    "'while True':, it means that **the block of code inside the loop** will continue to **execute over and over again without stopping**, creating what is known as a loop."
   ]
  }
 ],
 "metadata": {
  "kernelspec": {
   "display_name": "Python 3 (ipykernel)",
   "language": "python",
   "name": "python3"
  },
  "language_info": {
   "codemirror_mode": {
    "name": "ipython",
    "version": 3
   },
   "file_extension": ".py",
   "mimetype": "text/x-python",
   "name": "python",
   "nbconvert_exporter": "python",
   "pygments_lexer": "ipython3",
   "version": "3.11.7"
  },
  "toc": {
   "base_numbering": 1,
   "nav_menu": {},
   "number_sections": true,
   "sideBar": true,
   "skip_h1_title": false,
   "title_cell": "Table of Contents",
   "title_sidebar": "Contents",
   "toc_cell": false,
   "toc_position": {},
   "toc_section_display": true,
   "toc_window_display": false
  },
  "vscode": {
   "interpreter": {
    "hash": "31f2aee4e71d21fbe5cf8b01ff0e069b9275f58929596ceb00d14d90e3e16cd6"
   }
  }
 },
 "nbformat": 4,
 "nbformat_minor": 5
}
