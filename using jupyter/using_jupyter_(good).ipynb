{
 "cells": [
  {
   "cell_type": "markdown",
   "id": "123456",
   "metadata": {},
   "source": [
    "<div style=\"text-align:left;font-size:2em\"><span style=\"font-weight:bolder;font-size:1.25em\">SP2273 | Learning Portfolio</span><br><br><span style=\"font-weight:bold;color:darkred\">Using Jupyter (Good)</span></div>"
   ]
  },
  {
   "cell_type": "markdown",
   "id": "992096a7",
   "metadata": {},
   "source": [
    "# What to expect in this chapter"
   ]
  },
  {
   "cell_type": "markdown",
   "id": "ea29d16c",
   "metadata": {},
   "source": [
    "The basics of using a Jupyter Notebook. However. the Jupyter environment offers many more goodies (e.g. extensions, shell magic). In tis chapter, some of these will be covered and this is to help to optimise the environment to make it easier and faster to use Jupyter."
   ]
  },
  {
   "cell_type": "markdown",
   "id": "fd0b0aa3",
   "metadata": {},
   "source": [
    "# 1 Some tips and tricks"
   ]
  },
  {
   "cell_type": "markdown",
   "id": "15f3862f",
   "metadata": {},
   "source": [
    "## 1.1 Keyboard Shortcuts"
   ]
  },
  {
   "cell_type": "markdown",
   "id": "a9cd3f45",
   "metadata": {},
   "source": [
    "Using keyboard shortcuts will make your workflow smooth and efficient. Here are some essential shortcuts. It will help you to practice using these keyboard shortcuts."
   ]
  },
  {
   "cell_type": "markdown",
   "id": "74c76416",
   "metadata": {},
   "source": [
    "| $Action$ | $Shortcut$ |\n",
    "|:----------|:----------|\n",
    "| Run cell   | Control + Enter OR Command + Enter   |\n",
    "| Run cell and move to the next   | Shift + Enter  |\n",
    "| Convert cell to code cell    | Esc + Y   |\n",
    "| Convert cell to Markdown cell    | Esc + M   |\n",
    "| Create new cell    | Esc + A (Top) and Esc + B (Bottom)  |\n",
    "| Copy cell(s)    | Esc + C   |\n",
    "| Paste cell(s)    | Esc + V   |\n",
    "| Merge Cells    | Shift + M   |\n",
    "| Delete Cell    | Esc + D + D   |\n",
    "| Show shorts   | Esc + H  |"
   ]
  },
  {
   "cell_type": "markdown",
   "id": "de8be4f1",
   "metadata": {},
   "source": [
    "Many shortcut commands use Esc because typing Esc puts Jupyter into command mode, ready for a command, not code or text. "
   ]
  },
  {
   "cell_type": "markdown",
   "id": "f4fcfc2f",
   "metadata": {},
   "source": [
    "### Things to Note\n"
   ]
  },
  {
   "cell_type": "markdown",
   "id": "137ad0e6",
   "metadata": {},
   "source": [
    "1. You can select one or more cells using SHIFT and the up down arrow keys\n",
    "2. Be careful with the delete shortcut! \n",
    "3. You can view and set shortcuts for Jupyter Notebooks by typing Esc + H."
   ]
  },
  {
   "cell_type": "markdown",
   "id": "bc3f3982",
   "metadata": {},
   "source": [
    "## 1.2 Shell commands"
   ]
  },
  {
   "cell_type": "markdown",
   "id": "3a12190d",
   "metadata": {},
   "source": [
    "You can run 'terminal' commands (called <span style=\"color:orange\">shell commands</span>) from Jupyter without switching to the terminal. The only thing you need to do is to add a ! in front of the command."
   ]
  },
  {
   "cell_type": "markdown",
   "id": "ac788026",
   "metadata": {},
   "source": [
    "To test out this feature, run the following:"
   ]
  },
  {
   "cell_type": "markdown",
   "id": "9a375baf",
   "metadata": {},
   "source": [
    "This will **p**rint the **w**orking **d**irectory. - !pwd"
   ]
  },
  {
   "cell_type": "markdown",
   "id": "9e1e245a",
   "metadata": {},
   "source": [
    "This will show you a list of all the files in your folder. - !ls"
   ]
  },
  {
   "cell_type": "code",
   "execution_count": null,
   "id": "5ac43d64-70f3-4591-82cc-7a22aebf7432",
   "metadata": {},
   "outputs": [],
   "source": [
    "!conda list"
   ]
  },
  {
   "cell_type": "markdown",
   "id": "9a6a3e61",
   "metadata": {},
   "source": [
    "# 2 Jupyter Extensions"
   ]
  },
  {
   "cell_type": "markdown",
   "id": "aabae903",
   "metadata": {},
   "source": [
    "## 2.1 Installing the extensions"
   ]
  },
  {
   "cell_type": "markdown",
   "id": "171df53e",
   "metadata": {},
   "source": [
    "## 2.2 Enabling the extensions"
   ]
  },
  {
   "cell_type": "markdown",
   "id": "b67b3393",
   "metadata": {},
   "source": [
    "# 3 Shell Magic"
   ]
  },
  {
   "cell_type": "markdown",
   "id": "540c30ed",
   "metadata": {},
   "source": [
    "One of the most useful goodies that come with Jupyter are the magic commands. For example, try the following:"
   ]
  },
  {
   "cell_type": "code",
   "execution_count": 12,
   "id": "a0bd576d",
   "metadata": {},
   "outputs": [
    {
     "name": "stdout",
     "output_type": "stream",
     "text": [
      "6.84 ns ± 0.0258 ns per loop (mean ± std. dev. of 7 runs, 100,000,000 loops each)\n"
     ]
    }
   ],
   "source": [
    "%timeit x=10"
   ]
  },
  {
   "cell_type": "markdown",
   "id": "4697b0f8",
   "metadata": {},
   "source": [
    "This will run for a while and then tell you statistics on how long the command takes to execute. \n",
    "The above is called line magic because it works (i.e., does the timing in this case) for only a single line. \n",
    "If you want to apply it to a whole cell, we will use the cell magic command <span style=\"color:purple\">%%timeit</span>."
   ]
  },
  {
   "cell_type": "code",
   "execution_count": 13,
   "id": "80110f78",
   "metadata": {},
   "outputs": [
    {
     "name": "stdout",
     "output_type": "stream",
     "text": [
      "14.3 ns ± 0.862 ns per loop (mean ± std. dev. of 7 runs, 100,000,000 loops each)\n"
     ]
    }
   ],
   "source": [
    "%%timeit \n",
    "x=10\n",
    "y=10\n",
    "z=10"
   ]
  },
  {
   "cell_type": "markdown",
   "id": "0a93e2b1",
   "metadata": {},
   "source": [
    "You will only need the <span style=\"color:purple\">timeit</span> in 73. However, there is more magic to be found. Use <span style=\"color:purple\">%lsmagic</span> to discover what else is available."
   ]
  },
  {
   "cell_type": "markdown",
   "id": "45298ab3",
   "metadata": {},
   "source": [
    "# 4 The Kernel"
   ]
  },
  {
   "cell_type": "markdown",
   "id": "b3a66ca6",
   "metadata": {},
   "source": [
    " You will have realised that there is more going on with Jupyter Notebooks than just Python. All the behind-the-scenes work of running a Jupyter Notebook is done by a sub-routine called the <span style=\"color:orange\">Kernel</span>.\n",
    "\n",
    "You can interrupt, restart or shut down the kernel using the Kernel button in the toolbar. As you start coding with Python, you **will** need to do these because Jupyter sometimes misbehaves, and you can make blunders that require a reset.\n"
   ]
  },
  {
   "cell_type": "code",
   "execution_count": null,
   "id": "9d7da2cf",
   "metadata": {},
   "outputs": [],
   "source": []
  }
 ],
 "metadata": {
  "kernelspec": {
   "display_name": "Python 3 (ipykernel)",
   "language": "python",
   "name": "python3"
  },
  "language_info": {
   "codemirror_mode": {
    "name": "ipython",
    "version": 3
   },
   "file_extension": ".py",
   "mimetype": "text/x-python",
   "name": "python",
   "nbconvert_exporter": "python",
   "pygments_lexer": "ipython3",
   "version": "3.11.7"
  },
  "toc": {
   "base_numbering": 1,
   "nav_menu": {},
   "number_sections": true,
   "sideBar": true,
   "skip_h1_title": false,
   "title_cell": "Table of Contents",
   "title_sidebar": "Contents",
   "toc_cell": false,
   "toc_position": {},
   "toc_section_display": true,
   "toc_window_display": false
  },
  "vscode": {
   "interpreter": {
    "hash": "31f2aee4e71d21fbe5cf8b01ff0e069b9275f58929596ceb00d14d90e3e16cd6"
   }
  }
 },
 "nbformat": 4,
 "nbformat_minor": 5
}
