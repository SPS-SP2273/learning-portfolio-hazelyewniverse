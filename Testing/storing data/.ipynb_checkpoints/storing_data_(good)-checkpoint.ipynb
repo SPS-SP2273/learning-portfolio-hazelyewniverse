{
 "cells": [
  {
   "attachments": {},
   "cell_type": "markdown",
   "id": "123456",
   "metadata": {},
   "source": [
    "<div style=\"text-align:left;font-size:2em\"><span style=\"font-weight:bolder;font-size:1.25em\">SP2273 | Learning Portfolio</span><br><br><span style=\"font-weight:bold;color:darkred\">Storing Data (Good)</span></div>"
   ]
  },
  {
   "attachments": {},
   "cell_type": "markdown",
   "id": "3d435916",
   "metadata": {},
   "source": [
    "# What to expect in this chapter"
   ]
  },
  {
   "cell_type": "markdown",
   "id": "46bebc6e-2e71-45e2-9642-e991639c54ea",
   "metadata": {},
   "source": [
    "- More details on accessing and modifying these structures.\n",
    "\n",
    "This is important because most of what you do with programming is related to accessing and changing data. \n",
    "\n",
    "- Gain a better understanding of the differences and similarities between lists, NumPy arrays and dictionaries.\n",
    "\n"
   ]
  },
  {
   "attachments": {},
   "cell_type": "markdown",
   "id": "6c0e32cf",
   "metadata": {},
   "source": [
    "# 1 Subsetting: Indexing and Slicing"
   ]
  },
  {
   "cell_type": "markdown",
   "id": "6ea9f47f-dcce-4d43-83d9-49a935a5d70d",
   "metadata": {},
   "source": [
    "You will often need to select a subset (<span style=\"color:orange\">subsetting</span>) of the data in a list (or array).\n",
    "\n",
    "One form of this is picking a single element called <span style=\"color:orange\">indexing</span> (from the previous chapters).\n",
    "\n",
    "Another option is to select a range of elements - <span style=\"color:orange\">slicing</span>."
   ]
  },
  {
   "cell_type": "markdown",
   "id": "ba8abff3-d5d1-474b-bf2f-65a901da3ccf",
   "metadata": {},
   "source": [
    "**Subsetting** - select\n",
    "\n",
    "**Indexing** - selecting one element\n",
    "\n",
    "**Slicing** - selecting a range of elements"
   ]
  },
  {
   "attachments": {},
   "cell_type": "markdown",
   "id": "232ca39f",
   "metadata": {},
   "source": [
    "## 1.1 Lists & Arrays in 1D | Subsetting & Indexing"
   ]
  },
  {
   "cell_type": "markdown",
   "id": "f7502750-e6bd-4b43-9513-0851f1db48f0",
   "metadata": {},
   "source": [
    "Since slicing gives us a range of elements, we must specify two indices to indicate where to start and end. The various syntaxes for these are shown in the table below.\n",
    "\n",
    "The following applies to **both** lists and arrays.\n"
   ]
  },
  {
   "cell_type": "code",
   "execution_count": 2,
   "id": "d1fbdd04-5baf-49c7-a5bd-7dcddf462061",
   "metadata": {},
   "outputs": [],
   "source": [
    "import numpy as np"
   ]
  },
  {
   "cell_type": "code",
   "execution_count": 10,
   "id": "e4a85a81-b0e4-4353-8efa-de6b54e6204d",
   "metadata": {},
   "outputs": [],
   "source": [
    "py_list=[\"a1\", \"b2\", \"c3\", \"d4\", \"e5\",\n",
    "         \"f6\", \"g7\", \"h8\", \"i9\", \"j10\"]\n",
    "np_array=np.array(py_list)\n",
    "\n",
    "x = py_list"
   ]
  },
  {
   "cell_type": "code",
   "execution_count": 17,
   "id": "fb8e7ca8-58a9-42d0-ab40-d158f266da80",
   "metadata": {},
   "outputs": [
    {
     "data": {
      "text/plain": [
       "'a1'"
      ]
     },
     "execution_count": 17,
     "metadata": {},
     "output_type": "execute_result"
    }
   ],
   "source": [
    "x[0]     #first element"
   ]
  },
  {
   "cell_type": "code",
   "execution_count": 18,
   "id": "4b942f76-a23b-4df2-bd24-e8d0777fd90b",
   "metadata": {},
   "outputs": [
    {
     "data": {
      "text/plain": [
       "'j10'"
      ]
     },
     "execution_count": 18,
     "metadata": {},
     "output_type": "execute_result"
    }
   ],
   "source": [
    "x[-1]\t #last element"
   ]
  },
  {
   "cell_type": "code",
   "execution_count": 19,
   "id": "ea8dfca3-ed02-43c1-bfb9-1c88da26ee01",
   "metadata": {},
   "outputs": [
    {
     "data": {
      "text/plain": [
       "['a1', 'b2', 'c3']"
      ]
     },
     "execution_count": 19,
     "metadata": {},
     "output_type": "execute_result"
    }
   ],
   "source": [
    "x[0:3]\t #index 0 to 2"
   ]
  },
  {
   "cell_type": "code",
   "execution_count": 20,
   "id": "6c474d25-8d1e-4a62-b155-fcb353738b61",
   "metadata": {},
   "outputs": [
    {
     "data": {
      "text/plain": [
       "['b2', 'c3', 'd4', 'e5', 'f6']"
      ]
     },
     "execution_count": 20,
     "metadata": {},
     "output_type": "execute_result"
    }
   ],
   "source": [
    "x[1:6]\t#index 1 to 5"
   ]
  },
  {
   "cell_type": "code",
   "execution_count": 21,
   "id": "371f136b-daa7-40a6-b4cf-43b6ac181afa",
   "metadata": {},
   "outputs": [
    {
     "data": {
      "text/plain": [
       "['b2', 'd4', 'f6']"
      ]
     },
     "execution_count": 21,
     "metadata": {},
     "output_type": "execute_result"
    }
   ],
   "source": [
    "x[1:6:2] #index 1 to 5 in steps of 2"
   ]
  },
  {
   "cell_type": "code",
   "execution_count": 22,
   "id": "e201ba54-eeaf-4623-be8f-5dff8945b3e6",
   "metadata": {},
   "outputs": [
    {
     "data": {
      "text/plain": [
       "['f6', 'g7', 'h8', 'i9', 'j10']"
      ]
     },
     "execution_count": 22,
     "metadata": {},
     "output_type": "execute_result"
    }
   ],
   "source": [
    "x[5:]\t#index 5 to the end"
   ]
  },
  {
   "cell_type": "code",
   "execution_count": 23,
   "id": "5dd483ca-4b2a-439b-8645-db27c5d02f45",
   "metadata": {},
   "outputs": [
    {
     "data": {
      "text/plain": [
       "['a1', 'b2', 'c3', 'd4', 'e5']"
      ]
     },
     "execution_count": 23,
     "metadata": {},
     "output_type": "execute_result"
    }
   ],
   "source": [
    "x[:5]\t#index 0 to 5"
   ]
  },
  {
   "cell_type": "code",
   "execution_count": 24,
   "id": "7bb1823e-4339-4155-b9be-ed49e0e4896f",
   "metadata": {},
   "outputs": [
    {
     "data": {
      "text/plain": [
       "['f6', 'e5', 'd4']"
      ]
     },
     "execution_count": 24,
     "metadata": {},
     "output_type": "execute_result"
    }
   ],
   "source": [
    "x[5:2:-1]\t#index 5 to 3 (i.e., in reverse)"
   ]
  },
  {
   "cell_type": "code",
   "execution_count": 25,
   "id": "e1d5e68b-af01-49c4-beba-dd2b5b7f9f9d",
   "metadata": {},
   "outputs": [
    {
     "data": {
      "text/plain": [
       "['j10', 'i9', 'h8', 'g7', 'f6', 'e5', 'd4', 'c3', 'b2', 'a1']"
      ]
     },
     "execution_count": 25,
     "metadata": {},
     "output_type": "execute_result"
    }
   ],
   "source": [
    "x[::-1]\t #reverses the list"
   ]
  },
  {
   "cell_type": "markdown",
   "id": "fd92b2e1-daca-4dd8-bda8-0f367e1f1e29",
   "metadata": {},
   "source": [
    "If you slice with <span style=\"color:purple\">[i:j]</span> , the slice will start at <span style=\"color:purple\">i</span> and end at <span style=\"color:purple\">j-1</span>, giving you a total of <span style=\"color:purple\">j-1</span> elements.\n",
    "\n"
   ]
  },
  {
   "attachments": {},
   "cell_type": "markdown",
   "id": "7cbdd12b",
   "metadata": {},
   "source": [
    "## 1.2 Arrays only | Subsetting by masking"
   ]
  },
  {
   "cell_type": "markdown",
   "id": "45344f76-8294-4a0c-9ac0-624ab2251e08",
   "metadata": {},
   "source": [
    "One of the most powerful things you can do with NumPy arrays is subsetting by **masking**. To make sense of this, consider the following.\n",
    "\n"
   ]
  },
  {
   "cell_type": "code",
   "execution_count": 26,
   "id": "321e8efd-f26e-42be-a8ad-fed22fb97404",
   "metadata": {},
   "outputs": [
    {
     "data": {
      "text/plain": [
       "array([False, False, False,  True,  True,  True,  True,  True,  True,\n",
       "        True])"
      ]
     },
     "execution_count": 26,
     "metadata": {},
     "output_type": "execute_result"
    }
   ],
   "source": [
    "np_array = np.array([1, 2, 3, 4, 5, 6, 7, 8, 9, 10])\n",
    "my_mask = np_array > 3\n",
    "my_mask"
   ]
  },
  {
   "cell_type": "markdown",
   "id": "2d37121d-67e1-41a0-8526-a307f0dacfbd",
   "metadata": {},
   "source": [
    "The answer to my question is in the form of a ‘Yes’/‘No’ or True/False format. I can use this True/False format to ask NumPy to show me only those that are True by:\n"
   ]
  },
  {
   "cell_type": "code",
   "execution_count": 29,
   "id": "64b6bea9-27a9-4c1e-91b2-68e67b1d09aa",
   "metadata": {},
   "outputs": [
    {
     "data": {
      "text/plain": [
       "array([ 4,  5,  6,  7,  8,  9, 10])"
      ]
     },
     "execution_count": 29,
     "metadata": {},
     "output_type": "execute_result"
    }
   ],
   "source": [
    "np_array[my_mask]   #only works with NumPy arrays"
   ]
  },
  {
   "cell_type": "markdown",
   "id": "943dd392-6047-45fc-812e-e3ab90ffef89",
   "metadata": {},
   "source": [
    "This is why I used the term ‘masking’. The True/False answer acts like a mask allowing only the True subset to be seen.\n",
    "\n"
   ]
  },
  {
   "cell_type": "markdown",
   "id": "9ba6ba54-0433-42e1-9ac6-f817a853ad25",
   "metadata": {},
   "source": [
    "Instead of creating another variable, I can also do all of this succinctly as:"
   ]
  },
  {
   "cell_type": "code",
   "execution_count": 32,
   "id": "58856f20-df11-4593-a213-d638fce402aa",
   "metadata": {},
   "outputs": [
    {
     "data": {
      "text/plain": [
       "array([ 4,  5,  6,  7,  8,  9, 10])"
      ]
     },
     "execution_count": 32,
     "metadata": {},
     "output_type": "execute_result"
    }
   ],
   "source": [
    "np_array[np_array > 3]"
   ]
  },
  {
   "cell_type": "markdown",
   "id": "0f475718-6aa0-4245-902c-597c01a0724f",
   "metadata": {},
   "source": [
    "### Example 1"
   ]
  },
  {
   "cell_type": "code",
   "execution_count": 34,
   "id": "e8c2d7d9-c1cc-40ec-b35a-59de7adf47f5",
   "metadata": {},
   "outputs": [
    {
     "data": {
      "text/plain": [
       "array([1, 2, 3])"
      ]
     },
     "execution_count": 34,
     "metadata": {},
     "output_type": "execute_result"
    }
   ],
   "source": [
    "np_array[~(np_array > 3)]                 # '~' means 'NOT'\n",
    "\n",
    "# We can invert our mask by using the ~, called the Bitwise Not operator."
   ]
  },
  {
   "cell_type": "markdown",
   "id": "37fd315f-6e0e-4695-9128-60fb43b6bd36",
   "metadata": {},
   "source": [
    "### Example 2\n",
    "\n"
   ]
  },
  {
   "cell_type": "code",
   "execution_count": 38,
   "id": "239fadcd-7122-4742-a770-208055613d9e",
   "metadata": {},
   "outputs": [
    {
     "data": {
      "text/plain": [
       "array([4, 5, 6, 7])"
      ]
     },
     "execution_count": 38,
     "metadata": {},
     "output_type": "execute_result"
    }
   ],
   "source": [
    "np_array[(np_array > 3) & (np_array < 8)]    # '&' means 'AND'\n",
    "\n",
    "# We can combine one mask AND another mask. \n",
    "# AND will show something only if both masks are true."
   ]
  },
  {
   "cell_type": "markdown",
   "id": "e7f7fa28-7396-40ac-8f80-3e6018e66222",
   "metadata": {},
   "source": [
    "### Example 3\n"
   ]
  },
  {
   "cell_type": "code",
   "execution_count": 39,
   "id": "0e6ae740-e1fa-4f5d-b5e7-66bb9e611af4",
   "metadata": {},
   "outputs": [
    {
     "data": {
      "text/plain": [
       "array([ 1,  2,  9, 10])"
      ]
     },
     "execution_count": 39,
     "metadata": {},
     "output_type": "execute_result"
    }
   ],
   "source": [
    "np_array[(np_array < 3) | (np_array > 8)] # '|' means 'OR'\n",
    "\n",
    "# We can combine one mask OR another mask.\n",
    "# OR will show something if either mask is true."
   ]
  },
  {
   "cell_type": "markdown",
   "id": "5f84bdf6-26e4-483e-9a93-3cd1039253ca",
   "metadata": {},
   "source": [
    "- Always use the Bitwise NOT(~), Bitwise OR(|) and Bitwise AND(&) when combining masks with NumPy.\n",
    "- Always use brackets to clarify what you are asking the mask to do.\n"
   ]
  },
  {
   "attachments": {},
   "cell_type": "markdown",
   "id": "2f576c5c",
   "metadata": {},
   "source": [
    "## 1.3 Lists & Arrays in 2D | Indexing & Slicing"
   ]
  },
  {
   "cell_type": "markdown",
   "id": "b2c56240-83f1-4e5d-9a23-b4a5743d458f",
   "metadata": {},
   "source": [
    "The differences between lists and arrays become even more apparent with higher dimensional lists and arrays. Especially when you try indexing and slicing in higher dimensions.\n",
    "\n",
    "Let’s consider the following 2D list.\n",
    "\n",
    "\n"
   ]
  },
  {
   "cell_type": "code",
   "execution_count": 40,
   "id": "5c9ac5d1-e34b-477a-b8c1-e472b6e2133a",
   "metadata": {},
   "outputs": [],
   "source": [
    "py_list_2d = [[1, \"A\"], [2, \"B\"], [3, \"C\"], [4, \"D\"],\n",
    "              [5, \"E\"], [6, \"F\"], [7, \"G\"], [8, \"H\"],\n",
    "              [9, \"I\"], [10, \"J\"]]\n",
    "\n",
    "np_array_2d = np.array(py_list_2d)"
   ]
  },
  {
   "cell_type": "markdown",
   "id": "b7f6f3dc-5ab6-4982-828c-ba34d1cbad01",
   "metadata": {},
   "source": [
    "### Example 1"
   ]
  },
  {
   "cell_type": "markdown",
   "id": "cc3c7333-b525-489d-ad90-ee594057844e",
   "metadata": {},
   "source": [
    "What is at position 4 (index 3)?"
   ]
  },
  {
   "cell_type": "code",
   "execution_count": 45,
   "id": "66300abb-9590-4877-937d-9dd9b559dc84",
   "metadata": {},
   "outputs": [
    {
     "data": {
      "text/plain": [
       "array(['4', 'D'], dtype='<U21')"
      ]
     },
     "execution_count": 45,
     "metadata": {},
     "output_type": "execute_result"
    }
   ],
   "source": [
    "py_list_2d[3]\n",
    "np_array_2d[3]"
   ]
  },
  {
   "cell_type": "markdown",
   "id": "806ecd09-e89f-4ad9-815b-fe41d8988c69",
   "metadata": {},
   "source": [
    "### Example 2"
   ]
  },
  {
   "cell_type": "markdown",
   "id": "0e0260e8-7e34-45e4-9d6e-560d74dd03b5",
   "metadata": {},
   "source": [
    "What is the FIRST element at position 4 (index 3)?\n",
    "\n"
   ]
  },
  {
   "cell_type": "code",
   "execution_count": 46,
   "id": "d02536f8-a88b-446b-b372-393ba3ce1465",
   "metadata": {},
   "outputs": [
    {
     "data": {
      "text/plain": [
       "'4'"
      ]
     },
     "execution_count": 46,
     "metadata": {},
     "output_type": "execute_result"
    }
   ],
   "source": [
    "py_list_2d[3][0]\n",
    "np_array_2d[3, 0]"
   ]
  },
  {
   "cell_type": "markdown",
   "id": "bb888679-4b79-4a4c-9f9e-7bc2d0d3097b",
   "metadata": {},
   "source": [
    "### Example 3"
   ]
  },
  {
   "cell_type": "markdown",
   "id": "43a8a72d-75c7-47e7-9e32-1bb012ac0465",
   "metadata": {},
   "source": [
    "What are the first three elements?"
   ]
  },
  {
   "cell_type": "code",
   "execution_count": 47,
   "id": "8410a55a-78e7-44b2-bbd8-9fa8ba93bdab",
   "metadata": {},
   "outputs": [
    {
     "data": {
      "text/plain": [
       "array([['1', 'A'],\n",
       "       ['2', 'B'],\n",
       "       ['3', 'C']], dtype='<U21')"
      ]
     },
     "execution_count": 47,
     "metadata": {},
     "output_type": "execute_result"
    }
   ],
   "source": [
    "py_list_2d[:3]\n",
    "np_array_2d[:3]"
   ]
  },
  {
   "cell_type": "markdown",
   "id": "23c57bb0-8d4f-4585-b0aa-97381075ad75",
   "metadata": {},
   "source": [
    "### Example 4"
   ]
  },
  {
   "cell_type": "code",
   "execution_count": 48,
   "id": "62f8d2f2-7326-4cfb-8333-b71ce021a032",
   "metadata": {},
   "outputs": [
    {
     "data": {
      "text/plain": [
       "array(['1', '2', '3'], dtype='<U21')"
      ]
     },
     "execution_count": 48,
     "metadata": {},
     "output_type": "execute_result"
    }
   ],
   "source": [
    "py_list_2d[:3][0]\n",
    "np_array_2d[:3, 0]"
   ]
  },
  {
   "cell_type": "markdown",
   "id": "940294e0-9bc4-46c9-8354-d4c1a7d205ce",
   "metadata": {},
   "source": [
    "You might think that this will yield the first elements (i.e., [1, 2, 3]) of all the sub-lists up to index 2.\n",
    "No! Instead, it gives the first of the list you get from py_list_2d[:3]."
   ]
  },
  {
   "cell_type": "markdown",
   "id": "a71537be-64d6-4456-8f1a-0e2fd9046077",
   "metadata": {},
   "source": [
    "### Example 5"
   ]
  },
  {
   "cell_type": "code",
   "execution_count": 51,
   "id": "1113e12c-c5a5-4a21-b022-cb815dd68d7a",
   "metadata": {},
   "outputs": [
    {
     "data": {
      "text/plain": [
       "array(['4', '5', '6'], dtype='<U21')"
      ]
     },
     "execution_count": 51,
     "metadata": {},
     "output_type": "execute_result"
    }
   ],
   "source": [
    "py_list_2d[3:6][0]\n",
    "np_array_2d[3:6, 0]"
   ]
  },
  {
   "cell_type": "code",
   "execution_count": 53,
   "id": "ba8acb78-1b49-46b6-bbd7-ec54d1b97e3c",
   "metadata": {},
   "outputs": [
    {
     "data": {
      "text/plain": [
       "array(['1', '2', '3', '4', '5', '6', '7', '8', '9', '10'], dtype='<U21')"
      ]
     },
     "execution_count": 53,
     "metadata": {},
     "output_type": "execute_result"
    }
   ],
   "source": [
    "np_array_2d[:, 0]  #if i want everything"
   ]
  },
  {
   "attachments": {},
   "cell_type": "markdown",
   "id": "92358202",
   "metadata": {},
   "source": [
    "## 1.4 Growing lists"
   ]
  },
  {
   "cell_type": "markdown",
   "id": "775497aa-31d3-46d6-ac4d-ce3abc016a68",
   "metadata": {},
   "source": [
    "NumPy arrays are invaluable, and their slicing syntax (e.g. <span style=\"color:orange\">[:3,0]</span>) is more intuitive than lists. \n",
    "\n",
    "So, why do we even bother with lists? \n",
    "\n",
    "One advantage of lists is their ease and efficiency in growing. NumPy arrays are fantastic for fast math operations, provided you do not change their size.\n",
    "\n"
   ]
  },
  {
   "cell_type": "markdown",
   "id": "2244b33a-1a6d-4742-93d3-5f56f151da2f",
   "metadata": {},
   "source": [
    "### Example 1"
   ]
  },
  {
   "cell_type": "markdown",
   "id": "96cb70b4-5ec4-4ce0-8a8e-5ccc81ab19e6",
   "metadata": {},
   "source": [
    "Creating a larger list from a smaller one.\n"
   ]
  },
  {
   "cell_type": "code",
   "execution_count": 56,
   "id": "7534ec5c-262d-462f-b155-ce107a261be2",
   "metadata": {},
   "outputs": [
    {
     "data": {
      "text/plain": [
       "[1, 2, 1, 2, 1, 2, 1, 2, 1, 2]"
      ]
     },
     "execution_count": 56,
     "metadata": {},
     "output_type": "execute_result"
    }
   ],
   "source": [
    "x=[1, 2]*5\n",
    "x"
   ]
  },
  {
   "cell_type": "markdown",
   "id": "9fbdcb4c-86e0-40ae-9fb2-82f9a25c1dea",
   "metadata": {},
   "source": [
    "### Example 2"
   ]
  },
  {
   "cell_type": "markdown",
   "id": "da77eb38-8b3c-469e-ba8f-2ff5ea462b54",
   "metadata": {},
   "source": [
    "Three ways to grow a list by appending one element at a time.\n",
    "\n"
   ]
  },
  {
   "cell_type": "code",
   "execution_count": 58,
   "id": "922bcb71-1523-4327-a941-56447ae9d36b",
   "metadata": {},
   "outputs": [
    {
     "data": {
      "text/plain": [
       "[1, 2, 3, 4]"
      ]
     },
     "execution_count": 58,
     "metadata": {},
     "output_type": "execute_result"
    }
   ],
   "source": [
    "x=[1]\n",
    "x= x + [2]\n",
    "x= x + [3]\n",
    "x= x + [4]\n",
    "x"
   ]
  },
  {
   "cell_type": "code",
   "execution_count": 59,
   "id": "4bccb2c5-261a-42ac-beb2-6203418989cc",
   "metadata": {},
   "outputs": [
    {
     "data": {
      "text/plain": [
       "[1, 2, 3, 4]"
      ]
     },
     "execution_count": 59,
     "metadata": {},
     "output_type": "execute_result"
    }
   ],
   "source": [
    "x=[1]\n",
    "x+= [2]\n",
    "x+= [3]\n",
    "x+= [4]\n",
    "x"
   ]
  },
  {
   "cell_type": "code",
   "execution_count": 60,
   "id": "3c6a69c6-8ea1-4487-9c04-3c8696c6728f",
   "metadata": {},
   "outputs": [
    {
     "data": {
      "text/plain": [
       "[1, 2, 3, 4]"
      ]
     },
     "execution_count": 60,
     "metadata": {},
     "output_type": "execute_result"
    }
   ],
   "source": [
    "x=[1]\n",
    "x.append(2)\n",
    "x.append(3)\n",
    "x.append(4)\n",
    "x"
   ]
  },
  {
   "cell_type": "markdown",
   "id": "aaba6ed9-ac4a-4ee4-8c32-27d2f1f31fa5",
   "metadata": {},
   "source": [
    "There are differences between these three versions. \n",
    "\n",
    "Their execution speeds are different; the version with <span style=\"color:orange\">append()</span> runs about 1.5 times faster than the rest!\n",
    "\n"
   ]
  },
  {
   "cell_type": "markdown",
   "id": "3ff6080d-4bba-49c6-8bc7-87b5dbce7171",
   "metadata": {},
   "source": [
    "### Example 3"
   ]
  },
  {
   "cell_type": "markdown",
   "id": "b4452d05-8673-43af-99c1-20a5a273a883",
   "metadata": {},
   "source": [
    "Here are three ways of incorporating multiple elements.\n",
    "Notice the difference between the effects of <span style=\"color:orange\">extend()</span> and <span style=\"color:orange\">append()</span>.\n",
    "\n"
   ]
  },
  {
   "cell_type": "code",
   "execution_count": 61,
   "id": "7a4b289e-ebca-4920-bcc5-2607b78b439a",
   "metadata": {},
   "outputs": [
    {
     "data": {
      "text/plain": [
       "[1, 2, 3, 4, 5, 6]"
      ]
     },
     "execution_count": 61,
     "metadata": {},
     "output_type": "execute_result"
    }
   ],
   "source": [
    "x = [1, 2, 3]\n",
    "x += [4, 5, 6]\n",
    "x"
   ]
  },
  {
   "cell_type": "code",
   "execution_count": 62,
   "id": "ab423c39-8ed0-461c-91da-60c9de6db49e",
   "metadata": {},
   "outputs": [
    {
     "data": {
      "text/plain": [
       "[1, 2, 3, 4, 5, 6]"
      ]
     },
     "execution_count": 62,
     "metadata": {},
     "output_type": "execute_result"
    }
   ],
   "source": [
    "x=[1, 2, 3]\n",
    "x.extend([4, 5, 6])\n",
    "x"
   ]
  },
  {
   "cell_type": "code",
   "execution_count": 63,
   "id": "f45c7a50-3b30-43c5-bd74-3372f1bbd868",
   "metadata": {},
   "outputs": [
    {
     "data": {
      "text/plain": [
       "[1, 2, 3, [4, 5, 6]]"
      ]
     },
     "execution_count": 63,
     "metadata": {},
     "output_type": "execute_result"
    }
   ],
   "source": [
    "x=[1, 2, 3]\n",
    "x.append([4, 5, 6])\n",
    "x"
   ]
  },
  {
   "attachments": {},
   "cell_type": "markdown",
   "id": "30879502",
   "metadata": {},
   "source": [
    "# Some loose ends"
   ]
  },
  {
   "attachments": {},
   "cell_type": "markdown",
   "id": "4b7b1ce9",
   "metadata": {},
   "source": [
    "## 1.5 Tuples"
   ]
  },
  {
   "cell_type": "markdown",
   "id": "44568a26-9e2e-4130-a821-32509a4bf101",
   "metadata": {},
   "source": [
    "Tuples are similar to lists, except they use ( ) and cannot be changed after creation (i.e., they are immutable)."
   ]
  },
  {
   "cell_type": "markdown",
   "id": "5828bdee-b1b4-427f-a286-efee832c45a9",
   "metadata": {},
   "source": [
    "Let me first create a simple tuple."
   ]
  },
  {
   "cell_type": "code",
   "execution_count": 64,
   "id": "803296a6-9f53-4823-8b14-076d0245765f",
   "metadata": {},
   "outputs": [],
   "source": [
    "a=(1, 2, 3)     # Define tuple"
   ]
  },
  {
   "cell_type": "code",
   "execution_count": 65,
   "id": "77ccf226-3882-4af0-8de6-ca3a18838508",
   "metadata": {},
   "outputs": [
    {
     "name": "stdout",
     "output_type": "stream",
     "text": [
      "1\n"
     ]
    }
   ],
   "source": [
    "print(a[0])    # Access data"
   ]
  },
  {
   "cell_type": "code",
   "execution_count": 66,
   "id": "810e0999-8a25-4b57-a35b-6610464a0d47",
   "metadata": {},
   "outputs": [
    {
     "ename": "TypeError",
     "evalue": "'tuple' object does not support item assignment",
     "output_type": "error",
     "traceback": [
      "\u001b[0;31m---------------------------------------------------------------------------\u001b[0m",
      "\u001b[0;31mTypeError\u001b[0m                                 Traceback (most recent call last)",
      "Cell \u001b[0;32mIn[66], line 2\u001b[0m\n\u001b[1;32m      1\u001b[0m \u001b[38;5;66;03m# The following will NOT work as data cannot be changed\u001b[39;00m\n\u001b[0;32m----> 2\u001b[0m \u001b[43ma\u001b[49m\u001b[43m[\u001b[49m\u001b[38;5;241;43m0\u001b[39;49m\u001b[43m]\u001b[49m\u001b[38;5;241m=\u001b[39m\u001b[38;5;241m-\u001b[39m\u001b[38;5;241m1\u001b[39m\n\u001b[1;32m      3\u001b[0m a[\u001b[38;5;241m0\u001b[39m]\u001b[38;5;241m+\u001b[39m\u001b[38;5;241m=\u001b[39m [\u001b[38;5;241m10\u001b[39m]\n",
      "\u001b[0;31mTypeError\u001b[0m: 'tuple' object does not support item assignment"
     ]
    }
   ],
   "source": [
    "# The following will NOT work as data cannot be changed\n",
    "a[0]=-1\n",
    "a[0]+= [10]"
   ]
  },
  {
   "attachments": {},
   "cell_type": "markdown",
   "id": "7c9b4aad",
   "metadata": {},
   "source": [
    "## 1.6 Be VERY careful when copying"
   ]
  },
  {
   "cell_type": "markdown",
   "id": "baebacb4-482f-46d6-b342-be4b326f47c6",
   "metadata": {},
   "source": [
    "Variables in Python have subtle features that might make your life miserable if you are not careful. \n",
    "\n",
    "You should be particularly mindful when making copies of lists and arrays.\n",
    "\n"
   ]
  },
  {
   "cell_type": "markdown",
   "id": "fadcb8f6-d4e2-45fb-b8c0-11eb76f07738",
   "metadata": {},
   "source": [
    "For example, if you want to copy a list, you might be tempted to do the following; PLEASE DON’T!\n",
    "\n"
   ]
  },
  {
   "cell_type": "code",
   "execution_count": 67,
   "id": "caaa2049-d363-405d-be9a-e767f3c86b08",
   "metadata": {},
   "outputs": [],
   "source": [
    "x=[1, 2, 3]\n",
    "y=x           # DON'T do this!\n",
    "z=x           # DON'T do this!"
   ]
  },
  {
   "cell_type": "code",
   "execution_count": 68,
   "id": "56412519-2083-4bdb-b25b-29e492e98160",
   "metadata": {},
   "outputs": [],
   "source": [
    "#correct method\n",
    "x=[1, 2, 3]\n",
    "y=x.copy()\n",
    "z=x.copy()"
   ]
  },
  {
   "cell_type": "markdown",
   "id": "3828bfeb-afe2-4afe-a024-a492bee68c7e",
   "metadata": {},
   "source": [
    "Note: At this stage, you only have to know that you must use copy() to be safe; you do not have to understand why. \n",
    "\n"
   ]
  }
 ],
 "metadata": {
  "kernelspec": {
   "display_name": "Python 3 (ipykernel)",
   "language": "python",
   "name": "python3"
  },
  "language_info": {
   "codemirror_mode": {
    "name": "ipython",
    "version": 3
   },
   "file_extension": ".py",
   "mimetype": "text/x-python",
   "name": "python",
   "nbconvert_exporter": "python",
   "pygments_lexer": "ipython3",
   "version": "3.11.7"
  },
  "toc": {
   "base_numbering": 1,
   "nav_menu": {},
   "number_sections": true,
   "sideBar": true,
   "skip_h1_title": false,
   "title_cell": "Table of Contents",
   "title_sidebar": "Contents",
   "toc_cell": false,
   "toc_position": {},
   "toc_section_display": true,
   "toc_window_display": false
  },
  "vscode": {
   "interpreter": {
    "hash": "31f2aee4e71d21fbe5cf8b01ff0e069b9275f58929596ceb00d14d90e3e16cd6"
   }
  }
 },
 "nbformat": 4,
 "nbformat_minor": 5
}
