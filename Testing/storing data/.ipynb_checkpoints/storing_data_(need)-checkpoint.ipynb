{
 "cells": [
  {
   "attachments": {},
   "cell_type": "markdown",
   "id": "123456",
   "metadata": {},
   "source": [
    "<div style=\"text-align:left;font-size:2em\"><span style=\"font-weight:bolder;font-size:1.25em\">SP2273 | Learning Portfolio</span><br><br><span style=\"font-weight:bold;color:darkred\">Storing Data (Need)</span></div>"
   ]
  },
  {
   "attachments": {},
   "cell_type": "markdown",
   "id": "49d2e7cb",
   "metadata": {},
   "source": [
    "# What to expect in this chapter"
   ]
  },
  {
   "cell_type": "markdown",
   "id": "90d1a2d7-b045-402c-88c5-e8c46a65b167",
   "metadata": {},
   "source": [
    "We learnt Python as a tool to help us understand science and solve problems related to science.\n",
    "\n",
    "To do this, we must interact with information/data and transform to yield a solution.\n",
    "\n",
    "For this, it is essential to have ways to store and manipulate data easily and efficiently beyond the simple variable we encountered so far.\n",
    "\n",
    "Python offers a variety of ways to store and manipulate data.\n",
    "\n",
    "We have seen the **list** and **dictionary** in the previous chapter.\n",
    "\n",
    "However, there are several more; here is a (non-comprehensive) list.\n",
    "\n",
    "1. Lists\n",
    "2. Numpy arrays\n",
    "3. Dictionaries\n",
    "4. Tuples\n",
    "5. Dataframes\n",
    "6. Classes"
   ]
  },
  {
   "cell_type": "markdown",
   "id": "f820d1ad-3641-4ee2-b029-6af15a7ccc5f",
   "metadata": {},
   "source": [
    "In these chapters on basics, only Python **lists**, Numpy **arrays**, **dictionaries** and **tuples** will be discussed.\n",
    "\n",
    "If you want to learnt about **dataframes**, refer to the Data Processing basket in the Applications part.\n",
    "\n",
    "**Clasees** are an advanced topic that will be covered in the Nice Chapter."
   ]
  },
  {
   "cell_type": "markdown",
   "id": "602c8540-8e95-40fc-8790-e8256964bd60",
   "metadata": {},
   "source": [
    "It is VERY VERY important to understand how to store, retrieve and modify data in programming. This is beacsue these abstract structures will **influence how you think about data**. This will ultimately aid (or hinder) your ability to conjure up algorithms to solve problems."
   ]
  },
  {
   "cell_type": "code",
   "execution_count": 1,
   "id": "2cbe5319-f8aa-4b00-9b55-2c04128c89a7",
   "metadata": {},
   "outputs": [],
   "source": [
    "import numpy as np"
   ]
  },
  {
   "attachments": {},
   "cell_type": "markdown",
   "id": "1eaab43c",
   "metadata": {},
   "source": [
    "# 1 Lists, Arrays & Dictionaries"
   ]
  },
  {
   "attachments": {},
   "cell_type": "markdown",
   "id": "111a32ed",
   "metadata": {},
   "source": [
    "## 1.1 Let’s compare"
   ]
  },
  {
   "cell_type": "markdown",
   "id": "f2b16544-74df-47a4-b4cf-ee8774db1adc",
   "metadata": {},
   "source": [
    "We will see how to store the same information (in this case, some superhero data) using <span style=\"color:orange\">lists</span>, <span style=\"color:orange\">arrays</span> and <span style=\"color:orange\">dictionaries</span>."
   ]
  },
  {
   "cell_type": "markdown",
   "id": "cf94f238-0bd4-4472-92f8-e13d0c3e83e2",
   "metadata": {},
   "source": [
    "### Python Lists"
   ]
  },
  {
   "cell_type": "code",
   "execution_count": 4,
   "id": "f31f04ce-afd5-4d78-8491-431342a4d2c4",
   "metadata": {},
   "outputs": [],
   "source": [
    "py_super_names = [\"Black Widow\", \"Iron Man\", \"Doctor Strange\"]\n",
    "py_real_names = [\"Natasha Romanoff\", \"Tony Stark\", \"Stephen Strange\"]"
   ]
  },
  {
   "cell_type": "markdown",
   "id": "44221b3e-0dcd-4889-aac9-395741ae44a4",
   "metadata": {},
   "source": [
    "### Numpy Arrays"
   ]
  },
  {
   "cell_type": "code",
   "execution_count": 5,
   "id": "71a40517-be03-4332-b6a4-d223991f78b1",
   "metadata": {},
   "outputs": [],
   "source": [
    "np_super_names = np.array([\"Black Widow\", \"Iron Man\", \"Doctor Strange\"])\n",
    "np_real_names = np.array([\"Natasha Romanoff\", \"Tony Stark\", \"Stephen Strange\"])"
   ]
  },
  {
   "cell_type": "markdown",
   "id": "d16f559f-8c87-42f3-b210-3c1b18324fe6",
   "metadata": {},
   "source": [
    "### Dictionary"
   ]
  },
  {
   "cell_type": "code",
   "execution_count": 7,
   "id": "edda07fd-b217-4a8d-92ec-9999cd6e5dcf",
   "metadata": {},
   "outputs": [],
   "source": [
    "superhero_info = {\n",
    "    \"Natasha Romanoff\": \"Black Widow\",\n",
    "    \"Tony Stark\": \"Iron Man\",\n",
    "    \"Stephen Strange\": \"Doctor Strange\"\n",
    "}"
   ]
  },
  {
   "cell_type": "markdown",
   "id": "92243471-663b-4770-b0ae-f95d7c7e8314",
   "metadata": {},
   "source": [
    "Notice:\n",
    "- Dictionaries use a key and an associated value separated by <span style=\"color:purple\">:</span>\n",
    "- The dictionary very elegantly holds the real and superhero names in one structure while we need two (or arrays) for the same data.\n",
    "- For lists and arrays, the order matters. I.e. 'Iron Man' must be in the same position as 'Tony Stark' for things to work."
   ]
  },
  {
   "cell_type": "markdown",
   "id": "9ca3bb4a-ced6-40b0-bea9-a74f7d755d00",
   "metadata": {},
   "source": [
    "Lists (and arrays) offer many features that dictionaries don’t and vice versa."
   ]
  },
  {
   "cell_type": "markdown",
   "id": "1b2e50da-668e-4213-849b-0661f0383d48",
   "metadata": {},
   "source": [
    "There are 3 basic ways of storing data:\n",
    "1. Lists\n",
    "2. NumPy arrays\n",
    "3. Dictionaries"
   ]
  },
  {
   "cell_type": "markdown",
   "id": "5f19a7f2-2a1b-4be6-bf9a-3e4431e4a46b",
   "metadata": {},
   "source": [
    "- <span style=\"color:purple\">py</span> and <span style=\"color:purple\">np</span> in front of the variable for clarity. You can choose any name for the variables (provided that they are not a Python keywords like <span style=\"color:purple\">for</span>, <span style=\"color:purple\">if</span>.\n",
    "- arrays means NumPy arrays and lists means Python lists."
   ]
  },
  {
   "attachments": {},
   "cell_type": "markdown",
   "id": "32fc2bc6",
   "metadata": {},
   "source": [
    "## 1.2 Accessing data from a list (or array)"
   ]
  },
  {
   "cell_type": "markdown",
   "id": "f6d981f8-562c-437e-a871-374dc2280a1e",
   "metadata": {},
   "source": [
    "To access data from lists (and arrays), we need to use an index corresponding to the data’s position. \n",
    "\n",
    "Python is a zero-indexed language, meaning it starts counting at 0. So if you want to access a particular element in the list (or array), you need to specify the relevant index starting from zero. The image below shows the relationship between the position and index.\n",
    "\n"
   ]
  },
  {
   "cell_type": "markdown",
   "id": "9cdccd0d-0fce-425e-9402-8621e8d1edba",
   "metadata": {},
   "source": [
    "<img src = \"https://sps.nus.edu.sg/sp2273/docs/python_basics/03_storing-data/python-zero-indexed-counting.png\">"
   ]
  },
  {
   "cell_type": "code",
   "execution_count": 12,
   "id": "0d304477-e772-4ddc-ba7f-ba5d4e50c699",
   "metadata": {},
   "outputs": [],
   "source": [
    "py_super_names = [\"Black Widow\", \"Iron Man\", \"Doctor Strange\"]\n",
    "py_real_names = [\"Natasha Romanoff\", \"Tony Stark\", \"Stephen Strange\"]"
   ]
  },
  {
   "cell_type": "markdown",
   "id": "b04a54ca-9e5e-43d3-9293-df9971cbb096",
   "metadata": {},
   "source": [
    "### Example 1"
   ]
  },
  {
   "cell_type": "code",
   "execution_count": 15,
   "id": "dd550cb6-cc58-4f76-b70e-e54784a616c6",
   "metadata": {},
   "outputs": [
    {
     "data": {
      "text/plain": [
       "'Natasha Romanoff'"
      ]
     },
     "execution_count": 15,
     "metadata": {},
     "output_type": "execute_result"
    }
   ],
   "source": [
    "py_real_names[0]"
   ]
  },
  {
   "cell_type": "markdown",
   "id": "532abdbc-d643-4f94-93ab-39ac2a5f0bfa",
   "metadata": {},
   "source": [
    "### Example 2"
   ]
  },
  {
   "cell_type": "markdown",
   "id": "cf0e7f9c-72b3-4e0b-9feb-602684792504",
   "metadata": {},
   "source": [
    "py_super_names[0]"
   ]
  },
  {
   "cell_type": "markdown",
   "id": "7e791625-88e5-4a67-b96f-43b2d7ffb4b8",
   "metadata": {},
   "source": [
    "### Example 3\n",
    "\n",
    "Using a negative index allows us to count from the back of the list. For instance, using the index -1 will give the last element. This is super useful because we can easily access the last element without knowing the list size."
   ]
  },
  {
   "cell_type": "code",
   "execution_count": 17,
   "id": "fe98f79e-8dbf-457d-975a-b483a7c94752",
   "metadata": {},
   "outputs": [
    {
     "data": {
      "text/plain": [
       "'Doctor Strange'"
      ]
     },
     "execution_count": 17,
     "metadata": {},
     "output_type": "execute_result"
    }
   ],
   "source": [
    "py_super_names[2]    # Forward indexing \n",
    "                     # We need to know the size \n",
    "                     # beforehand for this to work."
   ]
  },
  {
   "cell_type": "code",
   "execution_count": 18,
   "id": "10921184-6134-4f48-b505-5ffe6a7f4c61",
   "metadata": {},
   "outputs": [
    {
     "data": {
      "text/plain": [
       "'Doctor Strange'"
      ]
     },
     "execution_count": 18,
     "metadata": {},
     "output_type": "execute_result"
    }
   ],
   "source": [
    "py_super_names[-1]   # Reverse indexing"
   ]
  },
  {
   "cell_type": "markdown",
   "id": "3ad2cfd2-b2a9-4b5e-9be0-f542a6b6033c",
   "metadata": {},
   "source": [
    "Data in lists (and arrays) must be accessed using a zero-based index.\n",
    "\n"
   ]
  },
  {
   "attachments": {},
   "cell_type": "markdown",
   "id": "1960fb1d",
   "metadata": {},
   "source": [
    "## 1.3 Accessing data from a dictionary"
   ]
  },
  {
   "cell_type": "markdown",
   "id": "b157b712-180a-4bd4-9e2b-5495be81a3ed",
   "metadata": {},
   "source": [
    "Dictionaries hold data (values) paired with a key. i.e. you can access the value (in this case, the superhero name) using the real name as a key.\n",
    "\n"
   ]
  },
  {
   "cell_type": "code",
   "execution_count": 19,
   "id": "ec309569-2894-4706-ba97-339517f7750a",
   "metadata": {},
   "outputs": [],
   "source": [
    "superhero_info = {\n",
    "    \"Natasha Romanoff\": \"Black Widow\",\n",
    "    \"Tony Stark\": \"Iron Man\",\n",
    "    \"Stephen Strange\": \"Doctor Strange\"\n",
    "}                  "
   ]
  },
  {
   "cell_type": "code",
   "execution_count": 20,
   "id": "5bd2916e-9497-4233-b40a-49918615b5b4",
   "metadata": {},
   "outputs": [
    {
     "data": {
      "text/plain": [
       "'Black Widow'"
      ]
     },
     "execution_count": 20,
     "metadata": {},
     "output_type": "execute_result"
    }
   ],
   "source": [
    "superhero_info[\"Natasha Romanoff\"]"
   ]
  },
  {
   "cell_type": "markdown",
   "id": "7f7bfaa7-f50d-4d09-b103-02fca7fbdb1f",
   "metadata": {},
   "source": [
    "Remember that dictionaries have a key-value structure.\n",
    "\n"
   ]
  },
  {
   "cell_type": "markdown",
   "id": "9294758d-9305-44a2-9524-d016ab20a457",
   "metadata": {},
   "source": [
    "If you want, you can access all the keys and all the values as follows:\n",
    "\n"
   ]
  },
  {
   "cell_type": "code",
   "execution_count": 21,
   "id": "bc67ec0c-567f-406e-84f4-df494203c43e",
   "metadata": {},
   "outputs": [
    {
     "data": {
      "text/plain": [
       "dict_keys(['Natasha Romanoff', 'Tony Stark', 'Stephen Strange'])"
      ]
     },
     "execution_count": 21,
     "metadata": {},
     "output_type": "execute_result"
    }
   ],
   "source": [
    "superhero_info.keys()"
   ]
  },
  {
   "cell_type": "code",
   "execution_count": 22,
   "id": "b7175278-c0a1-423b-8588-597835416816",
   "metadata": {},
   "outputs": [
    {
     "data": {
      "text/plain": [
       "dict_values(['Black Widow', 'Iron Man', 'Doctor Strange'])"
      ]
     },
     "execution_count": 22,
     "metadata": {},
     "output_type": "execute_result"
    }
   ],
   "source": [
    "superhero_info.values()"
   ]
  },
  {
   "attachments": {},
   "cell_type": "markdown",
   "id": "0a0e6683",
   "metadata": {},
   "source": [
    "## 1.4 Higher dimensional lists"
   ]
  },
  {
   "cell_type": "markdown",
   "id": "9bbd47fd-71d3-429f-aa90-1e8e0d25ae07",
   "metadata": {},
   "source": [
    "Unlike with a dictionary, we needed two lists to store the corresponding real and superhero names. An obvious way around the need to have two lists is to have a 2D list (or array) as follows.\n",
    "\n"
   ]
  },
  {
   "cell_type": "code",
   "execution_count": 23,
   "id": "e45ce6ee-4e20-454e-a789-07952cf38753",
   "metadata": {},
   "outputs": [],
   "source": [
    "py_superhero_info = [['Natasha Romanoff', 'Black Widow'],\n",
    "                     ['Tony Stark', 'Iron Man'],\n",
    "                     ['Stephen Strange', 'Doctor Strange']]"
   ]
  },
  {
   "attachments": {},
   "cell_type": "markdown",
   "id": "8e81aab7",
   "metadata": {},
   "source": [
    "# 2 Lists vs. Arrays"
   ]
  },
  {
   "cell_type": "markdown",
   "id": "b65da79b-b643-4845-9293-745a27d15a7c",
   "metadata": {},
   "source": [
    "Lists and arrays have some similarities but more differences. It is important to know these to make full use of these differences. \n",
    "\n",
    "A few quick examples of using lists and arrays. These will allow you to appreciate the versatility that each offers.\n",
    "\n"
   ]
  },
  {
   "attachments": {},
   "cell_type": "markdown",
   "id": "7d9cedfd",
   "metadata": {},
   "source": [
    "## 2.1 Size"
   ]
  },
  {
   "cell_type": "markdown",
   "id": "b765b22a-367c-4601-b80d-b4d06b75a789",
   "metadata": {},
   "source": [
    "Often, you need to know how many elements there are in lists or arrays. We can use the <span style=\"color:purple\">len ()</span> function for this purpose for both lists and arrays. However, arrays also offer other options.\n",
    "\n"
   ]
  },
  {
   "cell_type": "code",
   "execution_count": 24,
   "id": "1c358ec7-a259-4d73-a945-5c4a4d94e1bd",
   "metadata": {},
   "outputs": [],
   "source": [
    "py_list_2d = [[1, \"A\"], [2, \"B\"], [3, \"C\"], [4, \"D\"],\n",
    "              [5, \"E\"], [6, \"F\"], [7, \"G\"], [8, \"H\"],\n",
    "              [9, \"I\"], [10, \"J\"]]\n",
    "\n",
    "np_array_2d = np.array(py_list_2d)      # Reusing the Python list \n",
    "                                        # to create a NEW\n",
    "                                        # NumPy array"
   ]
  },
  {
   "cell_type": "code",
   "execution_count": 25,
   "id": "52e38fa5-f7c4-4b31-a595-2d3ac5fd935d",
   "metadata": {},
   "outputs": [
    {
     "data": {
      "text/plain": [
       "(10, 2)"
      ]
     },
     "execution_count": 25,
     "metadata": {},
     "output_type": "execute_result"
    }
   ],
   "source": [
    "len(py_list_2d)\n",
    "len(np_array_2d)\n",
    "np_array_2d.shape"
   ]
  },
  {
   "cell_type": "markdown",
   "id": "b6a1a4f4-ade4-4c34-bdac-35f3064c30c1",
   "metadata": {},
   "source": [
    "Notice the absence of brackets <span style=\"color:purple\">()</span> in <span style=\"color:purple\">shape</span> above.\n",
    "\n",
    "This is because <span style=\"color:purple\">shape</span> is **not** a function.\n",
    "\n",
    "It is a property or <span style=\"color:orange\">attribute</span> of the NumPy array."
   ]
  },
  {
   "attachments": {},
   "cell_type": "markdown",
   "id": "4fb2ba83",
   "metadata": {},
   "source": [
    "## 2.2 Arrays are fussy about type"
   ]
  },
  {
   "cell_type": "markdown",
   "id": "835d60a8-66f1-4851-a395-252033c7ea07",
   "metadata": {},
   "source": [
    "Please recall the previous discussion about data types (e.g., <span style=\"color:purple\">int</span>, <span style=\"color:purple\">float</span>, <span style=\"color:purple\">str</span>). \n",
    "\n",
    "One prominent difference between lists and arrays is that arrays insist on having only a single data type; lists are more accommodating. Consider the following example and notice how the numbers are converted to English (<span style=\"color:purple\">' '</span>) when we create the NumPy array.\n",
    "\n"
   ]
  },
  {
   "cell_type": "code",
   "execution_count": 36,
   "id": "852a0642-5002-470a-8031-8a02b25392fd",
   "metadata": {},
   "outputs": [],
   "source": [
    "py_list = [1, 1.5, 'A']        #Lists [1, 1.5, 'A']\n",
    "np_array = np.array(py_list)   #array(['1', '1.5', 'A'], dtype='<U32')"
   ]
  },
  {
   "cell_type": "code",
   "execution_count": 33,
   "id": "174629da-dd88-46c5-becc-9a76f542caa3",
   "metadata": {},
   "outputs": [
    {
     "data": {
      "text/plain": [
       "array(['1', '1.5', 'A'], dtype='<U32')"
      ]
     },
     "execution_count": 33,
     "metadata": {},
     "output_type": "execute_result"
    }
   ],
   "source": [
    "py_list\n",
    "np_array"
   ]
  },
  {
   "cell_type": "markdown",
   "id": "bb78ec98-ffd5-431d-be28-d31284cb8ab8",
   "metadata": {},
   "source": [
    "When dealing with datasets with both numbers and text, you must be mindful of this restriction. However, this is just an annoyance and not a problem as we can easily change type (typecast) using the ‘hidden’ function <span style=\"color:purple\">astypes()</span>.\n",
    "\n",
    "Remember that NumPy arrays tolerate only a single type.\n"
   ]
  },
  {
   "attachments": {},
   "cell_type": "markdown",
   "id": "ebd64891",
   "metadata": {},
   "source": [
    "## 2.3 Adding a number"
   ]
  },
  {
   "cell_type": "code",
   "execution_count": 39,
   "id": "2e1e6181-0fa0-4b0c-b4a4-419a1deb5e84",
   "metadata": {},
   "outputs": [],
   "source": [
    "py_list = [1, 2, 3, 4, 5]\n",
    "np_array = np.array(py_list)         # Reusing the Python list\n",
    "                                     # to create a NEW\n",
    "                                     # NumPy array"
   ]
  },
  {
   "cell_type": "code",
   "execution_count": 41,
   "id": "61977a99-8639-4961-beab-135c8f1ee27e",
   "metadata": {},
   "outputs": [
    {
     "data": {
      "text/plain": [
       "array([11, 12, 13, 14, 15])"
      ]
     },
     "execution_count": 41,
     "metadata": {},
     "output_type": "execute_result"
    }
   ],
   "source": [
    "np_array + 10                        "
   ]
  },
  {
   "cell_type": "code",
   "execution_count": 42,
   "id": "cdb199b4-2f04-42bb-9c1e-f7825b307f87",
   "metadata": {},
   "outputs": [
    {
     "ename": "TypeError",
     "evalue": "can only concatenate list (not \"int\") to list",
     "output_type": "error",
     "traceback": [
      "\u001b[0;31m---------------------------------------------------------------------------\u001b[0m",
      "\u001b[0;31mTypeError\u001b[0m                                 Traceback (most recent call last)",
      "Cell \u001b[0;32mIn[42], line 1\u001b[0m\n\u001b[0;32m----> 1\u001b[0m \u001b[43mpy_list\u001b[49m\u001b[43m \u001b[49m\u001b[38;5;241;43m+\u001b[39;49m\u001b[43m \u001b[49m\u001b[38;5;241;43m10\u001b[39;49m        \u001b[38;5;66;03m# Won't work!\u001b[39;00m\n",
      "\u001b[0;31mTypeError\u001b[0m: can only concatenate list (not \"int\") to list"
     ]
    }
   ],
   "source": [
    "py_list + 10        # Won't work!"
   ]
  },
  {
   "attachments": {},
   "cell_type": "markdown",
   "id": "a43c7d1d",
   "metadata": {},
   "source": [
    "## 2.4 Adding another list"
   ]
  },
  {
   "cell_type": "code",
   "execution_count": 43,
   "id": "f9a79d62-c516-4777-8cd5-5f97bc796ce9",
   "metadata": {},
   "outputs": [],
   "source": [
    "py_list_1 = [1, 2, 3, 4, 5]\n",
    "py_list_2 = [10, 20, 30, 40, 50]\n",
    "\n",
    "np_array_1 = np.array(py_list_1)\n",
    "np_array_2 = np.array(py_list_2)"
   ]
  },
  {
   "cell_type": "code",
   "execution_count": 44,
   "id": "d8e7d1d8-80c3-45f7-9c4b-af6530e7f3e5",
   "metadata": {},
   "outputs": [
    {
     "data": {
      "text/plain": [
       "array([11, 22, 33, 44, 55])"
      ]
     },
     "execution_count": 44,
     "metadata": {},
     "output_type": "execute_result"
    }
   ],
   "source": [
    "py_list_1 + py_list_2\n",
    "np_array_1 + np_array_2"
   ]
  },
  {
   "cell_type": "markdown",
   "id": "f3ac0a8f-0373-4c3b-a206-9b12a11fb31a",
   "metadata": {},
   "source": [
    "So, adding lists cause them to grow while adding arrays is an element-wise operation."
   ]
  },
  {
   "attachments": {},
   "cell_type": "markdown",
   "id": "3c5d19ce",
   "metadata": {},
   "source": [
    "## 2.5 Multiplying by a Number"
   ]
  },
  {
   "cell_type": "code",
   "execution_count": 45,
   "id": "0387d4ec-92b2-45e6-844b-f0a91c16fe78",
   "metadata": {},
   "outputs": [],
   "source": [
    "py_list = [1, 2, 3, 4, 5]\n",
    "np_array = np.array(py_list)         "
   ]
  },
  {
   "cell_type": "code",
   "execution_count": 46,
   "id": "0a31e4d0-8057-42c6-a3f2-f339641e55d6",
   "metadata": {},
   "outputs": [
    {
     "data": {
      "text/plain": [
       "array([ 2,  4,  6,  8, 10])"
      ]
     },
     "execution_count": 46,
     "metadata": {},
     "output_type": "execute_result"
    }
   ],
   "source": [
    "py_list*2\n",
    "np_array*2"
   ]
  },
  {
   "cell_type": "markdown",
   "id": "e29ea234-92d7-4e95-af6d-664151cab19e",
   "metadata": {},
   "source": [
    "So multiplying by a number makes a list grow, whereas an array multiplies its elements by the number!\n",
    "\n"
   ]
  },
  {
   "attachments": {},
   "cell_type": "markdown",
   "id": "4b878278",
   "metadata": {},
   "source": [
    "## 2.6 Squaring"
   ]
  },
  {
   "cell_type": "code",
   "execution_count": 48,
   "id": "466f5033-05d8-4dd4-96cb-7ad9f059968d",
   "metadata": {},
   "outputs": [],
   "source": [
    "py_list = [1, 2, 3, 4, 5]\n",
    "np_array = np.array(py_list)"
   ]
  },
  {
   "cell_type": "code",
   "execution_count": 49,
   "id": "18c4244f-4747-449d-8f5d-1bf87dae09c1",
   "metadata": {},
   "outputs": [
    {
     "data": {
      "text/plain": [
       "array([ 1,  4,  9, 16, 25])"
      ]
     },
     "execution_count": 49,
     "metadata": {},
     "output_type": "execute_result"
    }
   ],
   "source": [
    "np_array**2"
   ]
  },
  {
   "cell_type": "code",
   "execution_count": 50,
   "id": "c141db64-eb7c-4ca8-8fe0-652e923c8ed0",
   "metadata": {},
   "outputs": [
    {
     "ename": "TypeError",
     "evalue": "unsupported operand type(s) for ** or pow(): 'list' and 'int'",
     "output_type": "error",
     "traceback": [
      "\u001b[0;31m---------------------------------------------------------------------------\u001b[0m",
      "\u001b[0;31mTypeError\u001b[0m                                 Traceback (most recent call last)",
      "Cell \u001b[0;32mIn[50], line 1\u001b[0m\n\u001b[0;32m----> 1\u001b[0m \u001b[43mpy_list\u001b[49m\u001b[38;5;241;43m*\u001b[39;49m\u001b[38;5;241;43m*\u001b[39;49m\u001b[38;5;241;43m2\u001b[39;49m                      \u001b[38;5;66;03m# Won't work!  \u001b[39;00m\n",
      "\u001b[0;31mTypeError\u001b[0m: unsupported operand type(s) for ** or pow(): 'list' and 'int'"
     ]
    }
   ],
   "source": [
    "py_list**2                      # Won't work!  "
   ]
  },
  {
   "attachments": {},
   "cell_type": "markdown",
   "id": "01bed818",
   "metadata": {},
   "source": [
    "## 2.7 Asking questions"
   ]
  },
  {
   "cell_type": "code",
   "execution_count": 51,
   "id": "d0d03186-0935-439c-a5e7-3db0d1a8c75f",
   "metadata": {},
   "outputs": [],
   "source": [
    "py_list = [1, 2, 3, 4, 5]\n",
    "np_array = np.array(py_list)         "
   ]
  },
  {
   "cell_type": "code",
   "execution_count": 52,
   "id": "9b3c9cc0-e076-4237-b638-15e67913635b",
   "metadata": {},
   "outputs": [
    {
     "data": {
      "text/plain": [
       "array([False, False, False,  True,  True])"
      ]
     },
     "execution_count": 52,
     "metadata": {},
     "output_type": "execute_result"
    }
   ],
   "source": [
    "py_list == 3     # Works, but what IS the question?\n",
    "np_array == 3  \n",
    "np_array > 3  "
   ]
  },
  {
   "cell_type": "code",
   "execution_count": 53,
   "id": "a83610d1-5148-452b-84b5-caf139a0be95",
   "metadata": {
    "scrolled": true
   },
   "outputs": [
    {
     "ename": "TypeError",
     "evalue": "'>' not supported between instances of 'list' and 'int'",
     "output_type": "error",
     "traceback": [
      "\u001b[0;31m---------------------------------------------------------------------------\u001b[0m",
      "\u001b[0;31mTypeError\u001b[0m                                 Traceback (most recent call last)",
      "Cell \u001b[0;32mIn[53], line 1\u001b[0m\n\u001b[0;32m----> 1\u001b[0m \u001b[43mpy_list\u001b[49m\u001b[43m \u001b[49m\u001b[38;5;241;43m>\u001b[39;49m\u001b[43m \u001b[49m\u001b[38;5;241;43m3\u001b[39;49m      \u001b[38;5;66;03m# Won't work!\u001b[39;00m\n",
      "\u001b[0;31mTypeError\u001b[0m: '>' not supported between instances of 'list' and 'int'"
     ]
    }
   ],
   "source": [
    "py_list > 3      # Won't work!"
   ]
  },
  {
   "attachments": {},
   "cell_type": "markdown",
   "id": "b970a3c1",
   "metadata": {},
   "source": [
    "## 2.8 Mathematics"
   ]
  },
  {
   "cell_type": "code",
   "execution_count": 54,
   "id": "ae763f46-e4ab-4c72-ab6f-4209ea7da11e",
   "metadata": {},
   "outputs": [],
   "source": [
    "py_list = [1, 2, 3, 4, 5]\n",
    "np_array = np.array(py_list)         "
   ]
  },
  {
   "cell_type": "code",
   "execution_count": 55,
   "id": "fcfd879c-dfa2-4d15-b323-616fc1fd9b84",
   "metadata": {},
   "outputs": [
    {
     "data": {
      "text/plain": [
       "1.4142135623730951"
      ]
     },
     "execution_count": 55,
     "metadata": {},
     "output_type": "execute_result"
    }
   ],
   "source": [
    "sum(py_list)     # sum() is a base Python function\n",
    "max(py_list)     # max() is a base Python function\n",
    "min(py_list)     # min() is a base Python function\n",
    "np_array.sum()\n",
    "np_array.max()\n",
    "np_array.min()\n",
    "np_array.mean()\n",
    "np_array.std()"
   ]
  },
  {
   "cell_type": "markdown",
   "id": "71504492-1656-4ceb-926b-bfcbd94d97be",
   "metadata": {},
   "source": [
    "**REMEMBER**\n",
    "\n",
    "**roughly speaking** an operation on a list works on the **whole** list.\n",
    "\n",
    "In contrast, an operation on an array works on the **individual elements** of the array."
   ]
  }
 ],
 "metadata": {
  "kernelspec": {
   "display_name": "Python 3 (ipykernel)",
   "language": "python",
   "name": "python3"
  },
  "language_info": {
   "codemirror_mode": {
    "name": "ipython",
    "version": 3
   },
   "file_extension": ".py",
   "mimetype": "text/x-python",
   "name": "python",
   "nbconvert_exporter": "python",
   "pygments_lexer": "ipython3",
   "version": "3.11.7"
  },
  "toc": {
   "base_numbering": 1,
   "nav_menu": {},
   "number_sections": true,
   "sideBar": true,
   "skip_h1_title": false,
   "title_cell": "Table of Contents",
   "title_sidebar": "Contents",
   "toc_cell": false,
   "toc_position": {},
   "toc_section_display": true,
   "toc_window_display": false
  },
  "vscode": {
   "interpreter": {
    "hash": "31f2aee4e71d21fbe5cf8b01ff0e069b9275f58929596ceb00d14d90e3e16cd6"
   }
  }
 },
 "nbformat": 4,
 "nbformat_minor": 5
}
