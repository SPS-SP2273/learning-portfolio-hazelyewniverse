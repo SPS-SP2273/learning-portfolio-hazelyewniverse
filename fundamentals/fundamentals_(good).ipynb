{
 "cells": [
  {
   "attachments": {},
   "cell_type": "markdown",
   "id": "123456",
   "metadata": {},
   "source": [
    "<div style=\"text-align:left;font-size:2em\"><span style=\"font-weight:bolder;font-size:1.25em\">SP2273 | Learning Portfolio</span><br><br><span style=\"font-weight:bold;color:darkred\">Fundamentals (Good)</span></div>"
   ]
  },
  {
   "attachments": {},
   "cell_type": "markdown",
   "id": "a920fa18",
   "metadata": {},
   "source": [
    "# What to expect in this chapter"
   ]
  },
  {
   "cell_type": "markdown",
   "id": "a5f3d35c-55da-420b-bfc1-97ddfa3b3434",
   "metadata": {},
   "source": [
    "We will build on those earlier concepts to add more details tot he same ideas. We will look into different data types and how to combine variables with English."
   ]
  },
  {
   "attachments": {},
   "cell_type": "markdown",
   "id": "e576a1e3",
   "metadata": {},
   "source": [
    "# 1 There is more to <span style=\"color:purple\">if</span>"
   ]
  },
  {
   "cell_type": "markdown",
   "id": "ed60e2f3-fdbb-4f71-8160-d95d4a9be47f",
   "metadata": {},
   "source": [
    "There are situations where we need more branches in an <span style=\"color:purple\">if</span> statement. \n",
    "Python has the <span style=\"color:purple\">elif</span> (else if) statement for such cases.\n",
    "\n",
    "This is how it works:"
   ]
  },
  {
   "cell_type": "code",
   "execution_count": 2,
   "id": "8f055d55-d01d-4cde-9a4a-2f62ca4fa2c5",
   "metadata": {},
   "outputs": [
    {
     "name": "stdout",
     "output_type": "stream",
     "text": [
      "Hello Batman!\n"
     ]
    }
   ],
   "source": [
    "name = 'Batman'\n",
    "\n",
    "if name == 'Batman':\n",
    "    print('Hello Batman!')\n",
    "elif name == 'Robin':\n",
    "    print('Hello Sidekick!')\n",
    "else:\n",
    "    print('Hello World!')"
   ]
  },
  {
   "cell_type": "markdown",
   "id": "f7e76b27-4669-4c91-908b-7bbe4f9c1c13",
   "metadata": {},
   "source": [
    "Basically, \n",
    "\n",
    "if name is Batman, print Hello Batman,\n",
    "\n",
    "if name is Robin, print Hello Sidekick and \n",
    "\n",
    "if neither Batman nor Robin, print Hello World"
   ]
  },
  {
   "attachments": {},
   "cell_type": "markdown",
   "id": "c4fadd89",
   "metadata": {},
   "source": [
    "# 2 Asking questions"
   ]
  },
  {
   "cell_type": "markdown",
   "id": "d07fcfb5-ae84-4506-877e-ddecf692a90c",
   "metadata": {},
   "source": [
    "To use <span style=\"color:purple\">if</span> to make decisions, we need to be able to ask questions, some of which might be complicated. \n",
    "For example,\n"
   ]
  },
  {
   "cell_type": "markdown",
   "id": "a7936848-4d27-41d9-a3d7-576d69730da6",
   "metadata": {},
   "source": [
    "I will ask some questions about the following 2 lists."
   ]
  },
  {
   "cell_type": "code",
   "execution_count": 5,
   "id": "5e06f803-3ce3-4bfa-b12a-cc7619810220",
   "metadata": {},
   "outputs": [],
   "source": [
    "fruits = ['apple', 'banana', 'pineapple', 'jackfruit']\n",
    "vegetables = ['celery', 'potato', 'broccoli', 'kale']"
   ]
  },
  {
   "cell_type": "code",
   "execution_count": 6,
   "id": "a18bf751-57c1-48b7-a243-5ecdb1b27776",
   "metadata": {},
   "outputs": [
    {
     "data": {
      "text/plain": [
       "True"
      ]
     },
     "execution_count": 6,
     "metadata": {},
     "output_type": "execute_result"
    }
   ],
   "source": [
    "'apple' in fruits"
   ]
  },
  {
   "cell_type": "code",
   "execution_count": 7,
   "id": "2e9071b0-f793-4bc3-853d-4029ecef3daf",
   "metadata": {},
   "outputs": [
    {
     "data": {
      "text/plain": [
       "False"
      ]
     },
     "execution_count": 7,
     "metadata": {},
     "output_type": "execute_result"
    }
   ],
   "source": [
    "'peach' in fruits"
   ]
  },
  {
   "cell_type": "code",
   "execution_count": 8,
   "id": "2165f430-1379-4d5c-836d-d74e0069ac28",
   "metadata": {},
   "outputs": [
    {
     "data": {
      "text/plain": [
       "True"
      ]
     },
     "execution_count": 8,
     "metadata": {},
     "output_type": "execute_result"
    }
   ],
   "source": [
    "'peach' not in fruits"
   ]
  },
  {
   "cell_type": "code",
   "execution_count": 9,
   "id": "ecbddd3d-a4d8-4ef8-90f4-173e7aed982c",
   "metadata": {},
   "outputs": [
    {
     "data": {
      "text/plain": [
       "True"
      ]
     },
     "execution_count": 9,
     "metadata": {},
     "output_type": "execute_result"
    }
   ],
   "source": [
    "('apple' in fruits) and ('celery' in vegetables)"
   ]
  },
  {
   "cell_type": "code",
   "execution_count": 10,
   "id": "99bd6c49-0459-4b26-b504-7aae2d82c2d2",
   "metadata": {},
   "outputs": [
    {
     "data": {
      "text/plain": [
       "True"
      ]
     },
     "execution_count": 10,
     "metadata": {},
     "output_type": "execute_result"
    }
   ],
   "source": [
    "('apple' in fruits) or ('celery' in vegetables)"
   ]
  },
  {
   "cell_type": "code",
   "execution_count": 11,
   "id": "5878f111-4360-429f-be21-3c48b5b84c34",
   "metadata": {},
   "outputs": [
    {
     "data": {
      "text/plain": [
       "True"
      ]
     },
     "execution_count": 11,
     "metadata": {},
     "output_type": "execute_result"
    }
   ],
   "source": [
    "'app' in 'apple'"
   ]
  },
  {
   "cell_type": "markdown",
   "id": "466c9a18-a48a-48f2-a3b3-0f7fc875ba48",
   "metadata": {},
   "source": [
    "<span style=\"color:purple\">not</span>, <span style=\"color:purple\">in</span>, <span style=\"color:purple\">and</span> and <span style=\"color:purple\">or</span> are Python <span style=\"color:orange\">keywords</span> that are useful in asking questions."
   ]
  },
  {
   "cell_type": "markdown",
   "id": "03b4b8d2-0828-46ee-8b40-0b3fb68e0e17",
   "metadata": {},
   "source": [
    "In asking quetions, it is important to understand that basic Python only knows how to compare similar things (types) (e.g. numbers or English). So, <span style=\"color:purple\">3 > 10.5</span> will work, but <span style=\"color:purple\">3 > apple</span> will not."
   ]
  },
  {
   "cell_type": "markdown",
   "id": "df0122a9-39a1-413b-a6d0-6cfd815dfa09",
   "metadata": {},
   "source": [
    "However, Python **can** compare <span style=\"color:purple\">'apples'</span> and <span style=\"color:purple\">'oranges'</span>."
   ]
  },
  {
   "cell_type": "code",
   "execution_count": 12,
   "id": "217bc639-c4f3-4b02-a2f3-d1a668fb1ca8",
   "metadata": {},
   "outputs": [
    {
     "data": {
      "text/plain": [
       "False"
      ]
     },
     "execution_count": 12,
     "metadata": {},
     "output_type": "execute_result"
    }
   ],
   "source": [
    "'apples' > 'oranges'"
   ]
  },
  {
   "cell_type": "markdown",
   "id": "8b17e333-46f8-46f3-bbac-2031eacb0927",
   "metadata": {},
   "source": [
    "This comparison works because English letters are internally represented as numbers.\n",
    "\n",
    "E.g. <span style=\"color:purple\">'a'</span> is 97 and <span style=\"color:purple\">'o</span> is 111."
   ]
  },
  {
   "attachments": {},
   "cell_type": "markdown",
   "id": "e4ff492d",
   "metadata": {},
   "source": [
    "## 3.1 Asking Math questions"
   ]
  },
  {
   "cell_type": "markdown",
   "id": "7e117456-6bde-436c-accc-d23f6aea7324",
   "metadata": {},
   "source": [
    "| Question/Condition       | Math Symbol | Python Symbols |\n",
    "|--------------------------|-------------|----------------|\n",
    "| Equals?                  | =           | ==             |\n",
    "| Not equal?               | ≠           | !=             |\n",
    "| Less than?               | <           | <              |\n",
    "| Greater than?            | >           | >              |\n",
    "| Less than or equal?      | ≤           | <=             |\n",
    "| Greater than or equal?   | ≥           | >=             |\n"
   ]
  },
  {
   "cell_type": "markdown",
   "id": "413ce009-2667-4b94-ac81-f1577343b54a",
   "metadata": {},
   "source": [
    "Python also accepts all the following syntax:"
   ]
  },
  {
   "cell_type": "code",
   "execution_count": 55,
   "id": "a9bf30e6-fbfb-47a9-94eb-39a9d1fa99a9",
   "metadata": {},
   "outputs": [
    {
     "data": {
      "text/plain": [
       "True"
      ]
     },
     "execution_count": 55,
     "metadata": {},
     "output_type": "execute_result"
    }
   ],
   "source": [
    "x=10                  #assuming x is 10,\n",
    "\n",
    "x > 5 and x < 15\n",
    "\n",
    "(x > 5) and (x < 15)  #brackets increase readability\n",
    "\n",
    "5 < x < 15            #easiest and neatest to read"
   ]
  },
  {
   "attachments": {},
   "cell_type": "markdown",
   "id": "eb0e3982",
   "metadata": {},
   "source": [
    "# 4 Python stores information in different formats or types"
   ]
  },
  {
   "cell_type": "markdown",
   "id": "fbe5ee14-aa63-4ccf-bd5c-29edb449a2b7",
   "metadata": {},
   "source": [
    "For efficiency (i.e. speed and memory), computers store information in different ways. \n",
    "E.g., there are 4 ways we can store the number <span style=\"color:purple\">1.234</span>.\n",
    "\n",
    "We are also using the function <span style=\"color:purple\">type()</span> to ask Python how it is storing the information."
   ]
  },
  {
   "cell_type": "code",
   "execution_count": 19,
   "id": "87127b16-cd74-4749-a3b8-fd5a0f62e233",
   "metadata": {},
   "outputs": [
    {
     "name": "stdout",
     "output_type": "stream",
     "text": [
      "1 <class 'int'>\n"
     ]
    }
   ],
   "source": [
    "x = int(1.234)\n",
    "print(x, type(x))"
   ]
  },
  {
   "cell_type": "code",
   "execution_count": 20,
   "id": "5f24e4bc-4e8f-492e-968a-dd7db3e312a6",
   "metadata": {},
   "outputs": [
    {
     "name": "stdout",
     "output_type": "stream",
     "text": [
      "1.234 <class 'str'>\n"
     ]
    }
   ],
   "source": [
    "x = str(1.234)\n",
    "print(x, type(x))"
   ]
  },
  {
   "cell_type": "code",
   "execution_count": 21,
   "id": "0fc0eed9-773b-4d64-80cd-3444307808e7",
   "metadata": {},
   "outputs": [
    {
     "name": "stdout",
     "output_type": "stream",
     "text": [
      "1.234 <class 'float'>\n"
     ]
    }
   ],
   "source": [
    "x = float(1.234)\n",
    "print(x, type(x))"
   ]
  },
  {
   "cell_type": "code",
   "execution_count": 22,
   "id": "51afdeca-d808-4cd2-8a46-c7eaff439236",
   "metadata": {},
   "outputs": [
    {
     "name": "stdout",
     "output_type": "stream",
     "text": [
      "(1.234+0j) <class 'complex'>\n"
     ]
    }
   ],
   "source": [
    "x = complex(1.234)\n",
    "print(x, type(x))"
   ]
  },
  {
   "cell_type": "markdown",
   "id": "6385c9f9-e95c-41f1-9a13-c26851c6e707",
   "metadata": {},
   "source": [
    "There are many other types of data. Often, we will need to change the type of a variable."
   ]
  },
  {
   "cell_type": "code",
   "execution_count": 23,
   "id": "e8da1a8b-bcb9-4bf3-b7af-24b073a1217e",
   "metadata": {},
   "outputs": [
    {
     "name": "stdout",
     "output_type": "stream",
     "text": [
      "1.234 <class 'str'>\n"
     ]
    }
   ],
   "source": [
    "x = '1.234'        # x is a string\n",
    "print(x, type(x))"
   ]
  },
  {
   "cell_type": "code",
   "execution_count": 24,
   "id": "05aeb741-5c8b-44cc-8846-57e81f63fa56",
   "metadata": {},
   "outputs": [
    {
     "name": "stdout",
     "output_type": "stream",
     "text": [
      "1.234 <class 'float'>\n"
     ]
    }
   ],
   "source": [
    "x = float(x)       # x is now a decimal number\n",
    "print(x, type(x))"
   ]
  },
  {
   "cell_type": "markdown",
   "id": "0d94312e-8b75-4230-b5d9-f34f0e477637",
   "metadata": {},
   "source": [
    "This is called typecasting, where we cast <span style=\"color:purple\">x</span> to the type <span style=\"color:purple\">float</span>."
   ]
  },
  {
   "attachments": {},
   "cell_type": "markdown",
   "id": "16da00bc",
   "metadata": {},
   "source": [
    "# 5 Never compare floats directly"
   ]
  },
  {
   "attachments": {},
   "cell_type": "markdown",
   "id": "2d727b54",
   "metadata": {},
   "source": [
    "## 5.1 The Problem"
   ]
  },
  {
   "cell_type": "markdown",
   "id": "5fc467df-9938-4efa-b2c2-8efbaf4699ec",
   "metadata": {},
   "source": [
    "We need to compare numbers, especially for scientific work. However, since computers have finite (hardware) resources, floating point numbers cannot be exactly stored in a computer. This leads to errors called <span style=\"color:orange\">roundoff errors</span>."
   ]
  },
  {
   "cell_type": "code",
   "execution_count": 25,
   "id": "8c392356-39dd-42dc-ba48-552d1172af86",
   "metadata": {},
   "outputs": [
    {
     "data": {
      "text/plain": [
       "False"
      ]
     },
     "execution_count": 25,
     "metadata": {},
     "output_type": "execute_result"
    }
   ],
   "source": [
    "a = 0.1\n",
    "a3 = 0.3\n",
    "a * 3 == a3"
   ]
  },
  {
   "cell_type": "code",
   "execution_count": 26,
   "id": "1e2cef4b-231c-402c-8d09-26bfd28a7211",
   "metadata": {},
   "outputs": [
    {
     "data": {
      "text/plain": [
       "'0.29999999999999999'"
      ]
     },
     "execution_count": 26,
     "metadata": {},
     "output_type": "execute_result"
    }
   ],
   "source": [
    "f'{0.3:.17f}'"
   ]
  },
  {
   "attachments": {},
   "cell_type": "markdown",
   "id": "160b937b",
   "metadata": {},
   "source": [
    "## 5.2 A solution"
   ]
  },
  {
   "cell_type": "markdown",
   "id": "a9a622dd-b944-4bf0-9444-e4aeb4567903",
   "metadata": {},
   "source": [
    "To get around these types of issues, we need to check if the variable is **ceps = 1E-10\n",
    "abs(a * 3 - a3) < epslose** to the expected values instead of checking for equality."
   ]
  },
  {
   "cell_type": "code",
   "execution_count": 27,
   "id": "11deab1d-7bdf-4eb0-b749-fe9cb37cddd1",
   "metadata": {},
   "outputs": [
    {
     "data": {
      "text/plain": [
       "True"
      ]
     },
     "execution_count": 27,
     "metadata": {},
     "output_type": "execute_result"
    }
   ],
   "source": [
    "eps = 1E-10\n",
    "abs(a * 3 - a3) < eps"
   ]
  },
  {
   "cell_type": "code",
   "execution_count": 29,
   "id": "e16b615b-8cbb-437a-abf6-e5a6297af3c9",
   "metadata": {},
   "outputs": [],
   "source": [
    "import numpy as np    # Importing Numpy and giving \n",
    "                      # it an alias np \n",
    "                      # because I am lazy"
   ]
  },
  {
   "cell_type": "code",
   "execution_count": 30,
   "id": "b848bc68-0228-4a79-84c6-77f6c547ee7e",
   "metadata": {},
   "outputs": [
    {
     "data": {
      "text/plain": [
       "True"
      ]
     },
     "execution_count": 30,
     "metadata": {},
     "output_type": "execute_result"
    }
   ],
   "source": [
    "np.isclose(a * 3, a3)"
   ]
  },
  {
   "attachments": {},
   "cell_type": "markdown",
   "id": "b872a38e",
   "metadata": {},
   "source": [
    "# 6 Combining English and variables"
   ]
  },
  {
   "cell_type": "markdown",
   "id": "a28c39b3-8436-4a08-983f-19f5041d7210",
   "metadata": {},
   "source": [
    "The ability to seamlessly combine strings (i.e. English) with variable is one of the most valuable coding skills.\n",
    "This will be useful for example when automating personalised  emails to a large class.\n"
   ]
  },
  {
   "cell_type": "code",
   "execution_count": 31,
   "id": "a79c9fb5-e219-4ee2-9ab7-23d0cd4f2132",
   "metadata": {},
   "outputs": [
    {
     "name": "stdout",
     "output_type": "stream",
     "text": [
      "Hello Batman!\n"
     ]
    }
   ],
   "source": [
    "name = \"Batman\"\n",
    "print(f\"Hello {name}!\")"
   ]
  },
  {
   "cell_type": "code",
   "execution_count": 32,
   "id": "a46ce707-cf30-4533-ae48-b509717e279b",
   "metadata": {},
   "outputs": [
    {
     "name": "stdout",
     "output_type": "stream",
     "text": [
      "Hello BATMAN!\n"
     ]
    }
   ],
   "source": [
    "name = \"Batman\"\n",
    "print(f\"Hello {name.upper()}!\")"
   ]
  },
  {
   "cell_type": "code",
   "execution_count": 33,
   "id": "1c1c63be-ff0d-434f-8de0-97394bc71077",
   "metadata": {},
   "outputs": [
    {
     "name": "stdout",
     "output_type": "stream",
     "text": [
      "The value of 10 squared is 100!\n"
     ]
    }
   ],
   "source": [
    "x = 10\n",
    "print(f\"The value of {x} squared is {x**2}!\")"
   ]
  },
  {
   "cell_type": "markdown",
   "id": "9c0631c8-eb6e-46b1-a426-a582aade33cb",
   "metadata": {},
   "source": [
    "Note the <span style=\"color:purple\">f</span> and the <span style=\"color:purple\">{ }</span> in the above command.\n",
    "This is called **f-string** or **string interpolation**."
   ]
  },
  {
   "cell_type": "markdown",
   "id": "174a9f0b-f7bb-4684-b382-8083e924ab86",
   "metadata": {},
   "source": [
    "We can do more with f-strings, like formatting a string or number."
   ]
  },
  {
   "cell_type": "markdown",
   "id": "5138de4b-ef75-443c-8055-035d139f51f4",
   "metadata": {},
   "source": [
    "**EXAMPLE 1**"
   ]
  },
  {
   "cell_type": "code",
   "execution_count": 34,
   "id": "27290c4a-b19b-4157-b147-842958c1c26e",
   "metadata": {},
   "outputs": [
    {
     "name": "stdout",
     "output_type": "stream",
     "text": [
      "Bruce Wayne is Batman.\n"
     ]
    }
   ],
   "source": [
    "text = 'Bruce Wayne is Batman.'\n",
    "print(f'{text}')"
   ]
  },
  {
   "cell_type": "code",
   "execution_count": 35,
   "id": "1ec1efe0-4c7d-4ca5-8f95-ee9f0222d3e9",
   "metadata": {},
   "outputs": [
    {
     "name": "stdout",
     "output_type": "stream",
     "text": [
      "        Bruce Wayne is Batman.\n"
     ]
    }
   ],
   "source": [
    "print(f'{text:>30}')      # A block of 30 characters;\n",
    "                          # aligned right"
   ]
  },
  {
   "cell_type": "code",
   "execution_count": 36,
   "id": "748e4131-401b-4929-8e41-cf3e68800537",
   "metadata": {},
   "outputs": [
    {
     "name": "stdout",
     "output_type": "stream",
     "text": [
      "    Bruce Wayne is Batman.    \n"
     ]
    }
   ],
   "source": [
    "print(f'{text:^30}')      # A block of 30 characters;\n",
    "                          # aligned centre"
   ]
  },
  {
   "cell_type": "code",
   "execution_count": 37,
   "id": "ee2eb9c6-5bf4-49fa-81c5-eef79163855a",
   "metadata": {},
   "outputs": [
    {
     "name": "stdout",
     "output_type": "stream",
     "text": [
      "Bruce Wayne is Batman.        \n"
     ]
    }
   ],
   "source": [
    "print(f'{text:<30}')      # A block of 30 characters;\n",
    "                          # aligned left"
   ]
  },
  {
   "cell_type": "markdown",
   "id": "d47134bc-43a8-4f56-b970-947681496eba",
   "metadata": {},
   "source": [
    "**EXAMPLE 2**"
   ]
  },
  {
   "cell_type": "code",
   "execution_count": 38,
   "id": "cea7d860-ab29-4407-b06f-ed0735d7ffd7",
   "metadata": {},
   "outputs": [
    {
     "name": "stdout",
     "output_type": "stream",
     "text": [
      "The cube of pi to 6 decimal places is 31.006277\n"
     ]
    }
   ],
   "source": [
    "print(f'The cube of pi to 6 decimal places is {np.pi**3:.6f}')"
   ]
  },
  {
   "cell_type": "markdown",
   "id": "9e73b68c-b9fb-416d-9f4a-b7dbb8f806e2",
   "metadata": {},
   "source": [
    "The <span style=\"color:purple\">f</span> in <span style=\"color:purple\">.6f</span> is used to tell the f-string to output the number in decimal notation. "
   ]
  },
  {
   "cell_type": "markdown",
   "id": "03a914e2-a1ab-4cbd-b682-83932525009d",
   "metadata": {},
   "source": [
    "**EXAMPLE 3**"
   ]
  },
  {
   "cell_type": "code",
   "execution_count": 43,
   "id": "4a4de5a0-61a1-47d3-8359-898d9a3698e5",
   "metadata": {},
   "outputs": [
    {
     "name": "stdout",
     "output_type": "stream",
     "text": [
      "The cube of pi to 6 decimal places is 3.100628e+01\n"
     ]
    }
   ],
   "source": [
    "print(f'The cube of pi to 6 decimal places is {np.pi**3:.6e}')"
   ]
  },
  {
   "cell_type": "markdown",
   "id": "217bb1cd-c800-40f5-8ca9-eb8518b6d8f0",
   "metadata": {},
   "source": [
    "The <span style=\"color:purple\">e</span> in <span style=\"color:purple\">.6e</span> is used to tell the f-string to output the number in scientific notation."
   ]
  },
  {
   "attachments": {},
   "cell_type": "markdown",
   "id": "e30e93ad",
   "metadata": {},
   "source": [
    "## 6.1 Structure of f-strings"
   ]
  },
  {
   "cell_type": "markdown",
   "id": "183cfe73-46f3-4f29-aa7b-a21a2f57d4a0",
   "metadata": {},
   "source": [
    "f-string formatting has the structure <span style=\"color:purple\">{X:>0Y.ZW}</span>."
   ]
  },
  {
   "cell_type": "markdown",
   "id": "3330443f-d258-47d2-8a68-1550d0cb84ca",
   "metadata": {},
   "source": [
    "| Letter | Action            | Possible Options                           |\n",
    "|--------|-------------------|--------------------------------------------|\n",
    "| X      | Variable to format | Can be a number or a string               |\n",
    "| >      | Alignment         | $\\textbullet$ `<` (Left justified)                     |\n",
    "|        |                   |$\\textbullet$ `>` (Right justified)                    |\n",
    "|        |                   |$\\textbullet$ `^` (Center justified)                   |\n",
    "| 0      | Use 0’s to pad the spaces | You can use other characters like a space ` ` |\n",
    "| Y      | Total number of characters |                                        |\n",
    "| Z      | Number of decimal places |                                        |\n",
    "| W      | Specifies the type of variable. |$\\textbullet$ `f` (float)                   |\n",
    "|        |                   |$\\textbullet$ `d` (integer)                             |\n",
    "|        |                   |$\\textbullet$ `s` (string)                              |\n",
    "|        |                   |$\\textbullet$ `g` (Asks Python to figure out)           |\n"
   ]
  },
  {
   "attachments": {},
   "cell_type": "markdown",
   "id": "9129080e",
   "metadata": {},
   "source": [
    "# 7 Escape sequences"
   ]
  },
  {
   "cell_type": "markdown",
   "id": "e9722d30-0822-4c84-b2b5-1bf929817d95",
   "metadata": {},
   "source": [
    "It refers to special characters we need when writing English."
   ]
  },
  {
   "cell_type": "code",
   "execution_count": 42,
   "id": "1e8198c2-8090-4e48-a46d-82109641f832",
   "metadata": {},
   "outputs": [
    {
     "name": "stdout",
     "output_type": "stream",
     "text": [
      "Line 1\n",
      "\tLine 2\n",
      "\t\tLine 3\n"
     ]
    }
   ],
   "source": [
    "print('Line 1\\n\\tLine 2\\n\\t\\tLine 3')  #To break a line and add a tab"
   ]
  },
  {
   "cell_type": "markdown",
   "id": "120dd275-c7a3-4cc9-8fa4-e436c15790d8",
   "metadata": {},
   "source": [
    "The <span style=\"color:purple\">\\n</span> is the command to breakline and <span style=\"color:purple\">\\t</span> represents a tab.\n"
   ]
  },
  {
   "cell_type": "markdown",
   "id": "27cda4b2-1015-4cd9-a7bd-5cf91a0cac29",
   "metadata": {},
   "source": [
    "| Escape Sequence | Meaning        |\n",
    "|-----------------|----------------|\n",
    "| `\\'`            | Single quote   |\n",
    "| `\\\\`            | Backslash      |\n",
    "| `\\n`            | Newline        |\n",
    "| `\\t`            | Horizontal Tab |\n"
   ]
  },
  {
   "cell_type": "markdown",
   "id": "a96b4d4f-c653-4fd8-9fdb-b802531420c8",
   "metadata": {},
   "source": [
    "## Example 1"
   ]
  },
  {
   "cell_type": "code",
   "execution_count": 45,
   "id": "5ec73fb5-b67d-4b55-805f-0223619bda1b",
   "metadata": {},
   "outputs": [
    {
     "name": "stdout",
     "output_type": "stream",
     "text": [
      "You're twenty years old.\n"
     ]
    }
   ],
   "source": [
    "print('You\\'re twenty years old.') "
   ]
  },
  {
   "cell_type": "markdown",
   "id": "cf0b44bb-2ef0-4374-af5b-f69c2870b60f",
   "metadata": {},
   "source": [
    "## Example 2"
   ]
  },
  {
   "cell_type": "code",
   "execution_count": 46,
   "id": "5ac4ea70-5ae8-4e8e-ac9d-d6a4f9fd0d42",
   "metadata": {},
   "outputs": [
    {
     "name": "stdout",
     "output_type": "stream",
     "text": [
      "A\\B\\C\n"
     ]
    }
   ],
   "source": [
    "print('A\\\\B\\\\C')"
   ]
  },
  {
   "cell_type": "markdown",
   "id": "d88acde6-6da5-48e4-91f4-551c17bc0666",
   "metadata": {},
   "source": [
    "## Example 3"
   ]
  },
  {
   "cell_type": "code",
   "execution_count": 47,
   "id": "7d998ab5-12d7-4f03-8281-218b771fbde1",
   "metadata": {},
   "outputs": [
    {
     "name": "stdout",
     "output_type": "stream",
     "text": [
      "A\n",
      "B\n",
      "C\n"
     ]
    }
   ],
   "source": [
    "print('A\\nB\\nC')"
   ]
  },
  {
   "cell_type": "markdown",
   "id": "2f491254-2b0c-45d7-8098-c6da8144cc8e",
   "metadata": {},
   "source": [
    "## Example 4"
   ]
  },
  {
   "cell_type": "code",
   "execution_count": 48,
   "id": "1d6cf23d-10f3-44eb-b8d5-6a2be1c29186",
   "metadata": {},
   "outputs": [
    {
     "name": "stdout",
     "output_type": "stream",
     "text": [
      "A\tB\tC\n"
     ]
    }
   ],
   "source": [
    "print('A\\tB\\tC')"
   ]
  },
  {
   "attachments": {},
   "cell_type": "markdown",
   "id": "b6c2e195",
   "metadata": {},
   "source": [
    "# 8 Computers read = from Right to Left!"
   ]
  },
  {
   "cell_type": "markdown",
   "id": "1413d1a9-c076-4b9b-ad4e-5b930ddb3159",
   "metadata": {},
   "source": [
    "The way computers use  <span style=\"color:purple\">=</span> is quirky. "
   ]
  },
  {
   "cell_type": "code",
   "execution_count": 49,
   "id": "5d4551e4-9be2-4191-9456-cced0a93d63d",
   "metadata": {},
   "outputs": [],
   "source": [
    "x = 40\n",
    "y = x + 2"
   ]
  },
  {
   "cell_type": "markdown",
   "id": "c57c6e89-576d-430d-8f5c-f2dd0de2ead9",
   "metadata": {},
   "source": [
    "How Python executes these instructions is as follows:"
   ]
  },
  {
   "cell_type": "markdown",
   "id": "e337f09c-b1c3-4526-b6f9-68bfcd12da7d",
   "metadata": {},
   "source": [
    "This means that the following will work in programming (but not math!)"
   ]
  },
  {
   "cell_type": "code",
   "execution_count": 50,
   "id": "304d9ebe-c8d6-469a-a22b-eacf97165021",
   "metadata": {},
   "outputs": [
    {
     "name": "stdout",
     "output_type": "stream",
     "text": [
      "42\n"
     ]
    }
   ],
   "source": [
    "y = 40\n",
    "y = y + 2\n",
    "print(y)"
   ]
  },
  {
   "cell_type": "markdown",
   "id": "b3f46fb3-4407-4fc9-8e40-6b4c385ad276",
   "metadata": {},
   "source": [
    "You will frequently see variables modified using this syntax. \n",
    "\n",
    "Python also allows the following syntax."
   ]
  },
  {
   "cell_type": "code",
   "execution_count": 51,
   "id": "01e48031-301b-4384-8e4c-d1060ce7c35c",
   "metadata": {},
   "outputs": [],
   "source": [
    "x = y = 10"
   ]
  },
  {
   "attachments": {},
   "cell_type": "markdown",
   "id": "9032e48e",
   "metadata": {},
   "source": [
    "# 9 Shorter and Cleaner Code"
   ]
  },
  {
   "cell_type": "markdown",
   "id": "3feb36cd-64f4-4c4a-bb78-f5e2e1fcd3f9",
   "metadata": {},
   "source": [
    "Here are some shorthand syntax related to the previous point that will make the code neater.\n",
    "\n",
    "This shorthand is used often so even if you do not want to use it.\n",
    "\n",
    "The folllowing 2 sets are presented in different ways but they yield the same result."
   ]
  },
  {
   "cell_type": "code",
   "execution_count": 52,
   "id": "56f3e92b-0162-4ca8-b48e-2315cd847d51",
   "metadata": {},
   "outputs": [
    {
     "data": {
      "text/plain": [
       "42"
      ]
     },
     "execution_count": 52,
     "metadata": {},
     "output_type": "execute_result"
    }
   ],
   "source": [
    "y = 40\n",
    "y = y + 2\n",
    "y\n",
    "y = 40\n",
    "y += 2    # Same as y = y + 2\n",
    "y"
   ]
  },
  {
   "cell_type": "markdown",
   "id": "8199f468-7292-4f21-b5a4-73f28f831e3e",
   "metadata": {},
   "source": [
    "We can replace <span style=\"color:purple\">y = y + 2</span> with <span style=\"color:purple\">y += 2</span>. \n",
    "\n",
    "Similar shorthand notation exists for substraction, division and multiplication."
   ]
  },
  {
   "cell_type": "markdown",
   "id": "aa862f78-a848-40b8-8ad6-ad0524b76e76",
   "metadata": {},
   "source": [
    "| Operation    | Long form     | Shorthand |\n",
    "|--------------|---------------|-----------|\n",
    "| Addition     | `y = y + 2`   | `y += 2`  |\n",
    "| Subtraction  | `y = y - 2`   | `y -= 2`  |\n",
    "| Multiplication | `y = y * 2` | `y *= 2`  |\n",
    "| Division     | `y = y / 2`   | `y /= 2`  |\n"
   ]
  },
  {
   "attachments": {},
   "cell_type": "markdown",
   "id": "73cad1a7",
   "metadata": {},
   "source": [
    "# 10 Python can be a prima-donna."
   ]
  },
  {
   "cell_type": "markdown",
   "id": "c9d5e12b-7873-4e15-92e1-2f44acc95eb6",
   "metadata": {},
   "source": [
    "It can throw a complaint with a long error message if we do something Python doesn't like or understand. \n",
    "\n",
    "We can scroll to the end to see the real issue or problem.\n",
    "\n",
    "We have seen the error message when we used <span style=\"color:purple\">Print()</span> in the previous chapter.\n",
    "\n",
    "We can fix this coding errors by **<span style=\"color:orange\">debugging</span>**. Lots of time is spent of this. \n",
    "\n",
    "The more debugging you do, the more comfortable you will be with thinking and programming. \n",
    "\n",
    "Thus, we should take every opportunity to practice debugging."
   ]
  },
  {
   "attachments": {},
   "cell_type": "markdown",
   "id": "431a89bf",
   "metadata": {},
   "source": [
    "# 11 Best Practices for Scientific Computing"
   ]
  },
  {
   "cell_type": "markdown",
   "id": "97ec3963-5f65-45d5-b016-19afcb54f6e7",
   "metadata": {},
   "source": [
    "The following is an excerpt from Wilson et al (2014). \n",
    "\n",
    "These only apply for **now** and more will be brought up as we progress."
   ]
  },
  {
   "cell_type": "markdown",
   "id": "ae15255b-9bec-4805-a6aa-a7bfd8fb51e5",
   "metadata": {},
   "source": [
    "**1. Write programs for people, not computers.**\n",
    "\n",
    "**2. Optimise software only after it works correctly.**\n",
    "\n",
    "**3. Document design and purpose, not mechanics.**\n",
    "\n",
    "**4. Collaborate.**"
   ]
  },
  {
   "cell_type": "markdown",
   "id": "367fe8b7-96fc-40f9-9868-72a301a20e92",
   "metadata": {},
   "source": [
    "It must be will taken care of if not our code can quickly become unfathomable to others and your future self.\n",
    "\n",
    "It is important to consiously produce easily uderstandable code (e.g., using appropriate variable names). \n",
    "\n",
    "We can also discuss our codes with peers and collaborate. This is helpful because we can get immediate feedback if the code is indecipherable or if a concept has been misunderstood.\n",
    "\n",
    "We can't fall into the pithall by pursuing a perfect solution right from the get-go.\n",
    "\n",
    "It is better to get something working and then we can compliciate things and optimise the code.\n",
    "\n",
    "**IMPORTANT:** start simple and get something working first before perfecting it."
   ]
  },
  {
   "attachments": {},
   "cell_type": "markdown",
   "id": "0aa1db12",
   "metadata": {},
   "source": [
    "# 12 Looking for help"
   ]
  },
  {
   "cell_type": "markdown",
   "id": "a89537e1-c5fc-47fa-b973-f8a34ca58554",
   "metadata": {},
   "source": [
    "We can seek help and get information about Python functions from within Python."
   ]
  },
  {
   "cell_type": "code",
   "execution_count": 54,
   "id": "6346be93-e7b0-4053-b464-b4b4f17d3af5",
   "metadata": {},
   "outputs": [
    {
     "name": "stdout",
     "output_type": "stream",
     "text": [
      "Help on built-in function print in module builtins:\n",
      "\n",
      "print(*args, sep=' ', end='\\n', file=None, flush=False)\n",
      "    Prints the values to a stream, or to sys.stdout by default.\n",
      "    \n",
      "    sep\n",
      "      string inserted between values, default a space.\n",
      "    end\n",
      "      string appended after the last value, default a newline.\n",
      "    file\n",
      "      a file-like object (stream); defaults to the current sys.stdout.\n",
      "    flush\n",
      "      whether to forcibly flush the stream.\n",
      "\n"
     ]
    }
   ],
   "source": [
    "help(print)"
   ]
  },
  {
   "cell_type": "markdown",
   "id": "2d57e0d9-dc1a-453d-b08a-eeb3034f5ace",
   "metadata": {},
   "source": [
    "This is a documentation corresponding to the function <span style=\"color:purple\">print()</span>. \n",
    "\n",
    "Unfortunately, this documentation is not the friendliest.\n",
    "\n",
    "The internet (e.g. stack overflow, Google or ChatGPT) is the fastest way to get a question about programming answered."
   ]
  }
 ],
 "metadata": {
  "kernelspec": {
   "display_name": "Python 3 (ipykernel)",
   "language": "python",
   "name": "python3"
  },
  "language_info": {
   "codemirror_mode": {
    "name": "ipython",
    "version": 3
   },
   "file_extension": ".py",
   "mimetype": "text/x-python",
   "name": "python",
   "nbconvert_exporter": "python",
   "pygments_lexer": "ipython3",
   "version": "3.11.7"
  },
  "toc": {
   "base_numbering": 1,
   "nav_menu": {},
   "number_sections": true,
   "sideBar": true,
   "skip_h1_title": false,
   "title_cell": "Table of Contents",
   "title_sidebar": "Contents",
   "toc_cell": false,
   "toc_position": {},
   "toc_section_display": true,
   "toc_window_display": false
  },
  "vscode": {
   "interpreter": {
    "hash": "31f2aee4e71d21fbe5cf8b01ff0e069b9275f58929596ceb00d14d90e3e16cd6"
   }
  }
 },
 "nbformat": 4,
 "nbformat_minor": 5
}
