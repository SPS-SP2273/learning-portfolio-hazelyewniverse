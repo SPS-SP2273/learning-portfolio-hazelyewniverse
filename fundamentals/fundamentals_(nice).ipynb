{
 "cells": [
  {
   "attachments": {},
   "cell_type": "markdown",
   "id": "123456",
   "metadata": {},
   "source": [
    "<div style=\"text-align:left;font-size:2em\"><span style=\"font-weight:bolder;font-size:1.25em\">SP2273 | Learning Portfolio</span><br><br><span style=\"font-weight:bold;color:darkred\">Fundamentals (Nice)</span></div>"
   ]
  },
  {
   "attachments": {},
   "cell_type": "markdown",
   "id": "bfa1f92c",
   "metadata": {},
   "source": [
    "# 1 If <span style=\"color:purple\">if</span> is not enough"
   ]
  },
  {
   "cell_type": "markdown",
   "id": "6d602ffa-0dc3-4799-a8f4-217316cef1fb",
   "metadata": {},
   "source": [
    "Sometimes you have multiple conditions you want to check. \n",
    "\n",
    "For such situations, the <span style=\"color:purple\">if-elife-else</span> statements can be cumbersome. \n",
    "\n",
    "We can use a <span style=\"color:purple\">match-case</span> statement that goes like this:"
   ]
  },
  {
   "cell_type": "code",
   "execution_count": 1,
   "id": "4e9ea11d-7639-47cb-8318-7cbeaa821df8",
   "metadata": {},
   "outputs": [
    {
     "name": "stdout",
     "output_type": "stream",
     "text": [
      "Hello Hero | Batman!\n"
     ]
    }
   ],
   "source": [
    "name = 'Batman'\n",
    "\n",
    "match name:\n",
    "    case 'Batman':\n",
    "        print('Hello Hero | Batman!')\n",
    "    case 'Robin':\n",
    "        print('Hello Sidekick | Robin!')\n",
    "    case _:\n",
    "        print('Hello World!')"
   ]
  },
  {
   "attachments": {},
   "cell_type": "markdown",
   "id": "bb857e3e",
   "metadata": {},
   "source": [
    "# 2 Ternary operators or Conditional Statements"
   ]
  },
  {
   "cell_type": "markdown",
   "id": "3b616631-54c5-4f78-9513-d603b5f74b8f",
   "metadata": {},
   "source": [
    "Python offers **ternary operators** (containing 3 parts) that can be useful to make your code more readable and less verbose."
   ]
  },
  {
   "cell_type": "markdown",
   "id": "e67af85b-e141-4c08-bb14-7873b737c94d",
   "metadata": {},
   "source": [
    "## Example 1"
   ]
  },
  {
   "cell_type": "code",
   "execution_count": 8,
   "id": "833233f7-6f61-4194-a5a4-8238477e34a6",
   "metadata": {},
   "outputs": [
    {
     "name": "stdout",
     "output_type": "stream",
     "text": [
      "Bonjour!\n"
     ]
    }
   ],
   "source": [
    "# WAY 1\n",
    "\n",
    "nationality = 'French'\n",
    "if nationality == 'French':\n",
    "    greeting = \"Bonjour!\"\n",
    "else:\n",
    "    greeting = \"Hello!\"\n",
    "\n",
    "print(greeting)"
   ]
  },
  {
   "cell_type": "code",
   "execution_count": 10,
   "id": "ec0f7668-1933-4d94-acf8-6a54fac44ec9",
   "metadata": {},
   "outputs": [
    {
     "name": "stdout",
     "output_type": "stream",
     "text": [
      "Bonjour!\n"
     ]
    }
   ],
   "source": [
    "# WAY 2\n",
    "\n",
    "greeting = \"Bonjour!\" if nationality == 'French' else \"Hello!\"\n",
    "print(greeting)"
   ]
  },
  {
   "cell_type": "code",
   "execution_count": 12,
   "id": "aa5c39dd-8739-48f1-8c82-99d1f21afd5d",
   "metadata": {},
   "outputs": [
    {
     "name": "stdout",
     "output_type": "stream",
     "text": [
      "Bonjour!\n"
     ]
    }
   ],
   "source": [
    "# WAY 3\n",
    "\n",
    "(\"Hello!\", \"Bonjour!\")[nationality == 'French']\n",
    "print(greeting)"
   ]
  },
  {
   "cell_type": "markdown",
   "id": "f14eb9e8-5380-45c1-a56e-f84a52a71e11",
   "metadata": {},
   "source": [
    "## Example 2"
   ]
  },
  {
   "cell_type": "code",
   "execution_count": 15,
   "id": "53a11b99-9748-450e-96d8-877b72ec45fe",
   "metadata": {},
   "outputs": [],
   "source": [
    "text = None\n",
    "message = text or \"No message!\""
   ]
  },
  {
   "attachments": {},
   "cell_type": "markdown",
   "id": "3167a10a",
   "metadata": {},
   "source": [
    "# 3 Swapping values"
   ]
  },
  {
   "cell_type": "markdown",
   "id": "e0deb7af-707a-4eb6-9954-2b7e9c1098b9",
   "metadata": {},
   "source": [
    "If I wish to swap the content of 2 variable, I can:"
   ]
  },
  {
   "cell_type": "code",
   "execution_count": 16,
   "id": "e5dfe836-4226-441a-9eb1-981b05ffc038",
   "metadata": {},
   "outputs": [
    {
     "name": "stdout",
     "output_type": "stream",
     "text": [
      "2 1\n"
     ]
    }
   ],
   "source": [
    "a, b = 1, 2\n",
    "a, b = b, a\n",
    "print(a, b)"
   ]
  },
  {
   "attachments": {},
   "cell_type": "markdown",
   "id": "da916b8a",
   "metadata": {},
   "source": [
    "# 4 There are more types"
   ]
  },
  {
   "cell_type": "markdown",
   "id": "0b4d5212-3958-46fc-892c-23c2a1c53446",
   "metadata": {},
   "source": [
    "We discussed how we should never check the equality of 2 floats because it will be influenced by rounding off errors.\n",
    "\n",
    "What if you want to do some absurdly precise calculations?\n",
    "\n",
    "One way around this is to use higher precision types like <span style=\"color:purple\">np.float32</span> or <span style=\"color:purple\">np.float64</span>. \n",
    "\n",
    "To demonstrate what these offer let me use <span style=\"color:purple\">np.finfo()</span> to query the limits applicable to floating point operations. \n",
    "\n",
    "The following gives the difference between 1.0 and the next biggest nearest float for the various types:\n"
   ]
  },
  {
   "cell_type": "code",
   "execution_count": 18,
   "id": "ea5adac6-b3ad-4b01-98e8-e108d50bb6a3",
   "metadata": {},
   "outputs": [],
   "source": [
    "import numpy as np\n"
   ]
  },
  {
   "cell_type": "code",
   "execution_count": 23,
   "id": "fba0356d-c820-4945-9f8c-bbb6015fbd58",
   "metadata": {},
   "outputs": [
    {
     "name": "stdout",
     "output_type": "stream",
     "text": [
      "float          : 2.220446049250313e-16\n",
      "float16        : 0.000977\n",
      "float32        : 1.1920929e-07\n",
      "float64        : 2.220446049250313e-16\n"
     ]
    }
   ],
   "source": [
    "my_types = [\n",
    "    float,       # Default for core Python on my machine\n",
    "    np.float16,\n",
    "    np.float32,\n",
    "    np.float64,\n",
    "]\n",
    "\n",
    "for my_type in my_types:\n",
    "    print(f'{my_type.__name__:<15s}:', np.finfo(my_type).eps)"
   ]
  },
  {
   "attachments": {},
   "cell_type": "markdown",
   "id": "9775cc65",
   "metadata": {},
   "source": [
    "# 5 Operator precedance"
   ]
  },
  {
   "cell_type": "markdown",
   "id": "5565da34-42ca-4651-963f-783e2c3cc5bb",
   "metadata": {},
   "source": [
    "There is a 'pecking order' among the various operators in Python.\n",
    "\n",
    "This idea is called <span style=\"color:orange\">operator precedence</span>.\n",
    "\n",
    "This is the summary of how this is set up in Python."
   ]
  },
  {
   "cell_type": "markdown",
   "id": "5d01920a-6d20-4aaf-b823-22a7202bfc45",
   "metadata": {},
   "source": [
    "1. Highest precedence at the top, lowest at the bottom.\n",
    "2. Operators in the same box evaluate left to right"
   ]
  },
  {
   "cell_type": "markdown",
   "id": "6f3666a5-72ea-4952-9a33-0d377cda24dd",
   "metadata": {},
   "source": [
    "| Description                | Operator                   |\n",
    "|----------------------------|----------------------------|\n",
    "| Parentheses (grouping)     | `()`                       |\n",
    "| Function call              | `f(args...)`               |\n",
    "| Slicing                    | `x[index:index]`           |\n",
    "| Subscription               | `x[index]`                 |\n",
    "| Attribute reference        | `x.attribute`              |\n",
    "| Exponentiation             | `**`                       |\n",
    "| Bitwise not                | `~x`                       |\n",
    "| Positive, negative         | `+x`, `-x`                 |\n",
    "| Multiplication, division, remainder | `*`, `/`, `%`  |\n",
    "| Addition, subtraction      | `+`, `-`                   |\n",
    "| Bitwise shifts             | `<<`, `>>`                 |\n",
    "| Bitwise AND                | `&`                        |\n",
    "| Bitwise XOR                | `^`                        |\n",
    "| Bitwise OR                 | `\\|`                       |\n",
    "| Comparisons, membership, identity | `in`, `not in`, `is`, `is not`, `<`, `<=`, `>`, `>=`, `!=`, `==` |\n",
    "| Boolean NOT                | `not x`                    |\n",
    "| Boolean AND                | `and`                      |\n",
    "| Boolean OR                 | `or`                       |\n",
    "| Lambda expression          | `lambda`                   |\n"
   ]
  },
  {
   "attachments": {},
   "cell_type": "markdown",
   "id": "651026de",
   "metadata": {},
   "source": [
    "# 6 Variables in Python are just names"
   ]
  },
  {
   "attachments": {},
   "cell_type": "markdown",
   "id": "81afb83b",
   "metadata": {},
   "source": [
    "## 6.1 The Problem"
   ]
  },
  {
   "cell_type": "markdown",
   "id": "4728b95d-10a1-42e5-a195-ec561c170d5e",
   "metadata": {},
   "source": [
    "Since we use variables all the time, it is good to understand how they work.\n",
    "\n",
    "This is particularly true for Python because certain Python variables can be sneaky!"
   ]
  },
  {
   "cell_type": "markdown",
   "id": "158ec1c9-fd88-462e-b6d3-5c9819d7cabc",
   "metadata": {},
   "source": [
    "Prediction: x: [1, 2, 3], y: [1, 2, 3]\n",
    "\n",
    "'y' is assigned to the same list that 'x' refers to, so when you append '3' to 'y', it happens to the list that both 'x' and 'y' reference."
   ]
  },
  {
   "cell_type": "code",
   "execution_count": 25,
   "id": "69b916d5-3913-4aba-8bac-04293fdeec4c",
   "metadata": {},
   "outputs": [
    {
     "name": "stdout",
     "output_type": "stream",
     "text": [
      "x: [1, 2, 3], y: [1, 2, 3]\n"
     ]
    }
   ],
   "source": [
    "x = [1, 2]\n",
    "y = x\n",
    "y.append(3)\n",
    "\n",
    "print(f\"x: {x}, y: {y}\")"
   ]
  },
  {
   "attachments": {},
   "cell_type": "markdown",
   "id": "96518caa",
   "metadata": {},
   "source": [
    "## 6.2 An explanation"
   ]
  },
  {
   "cell_type": "code",
   "execution_count": 28,
   "id": "fa4280ba-1d8c-41dc-ad01-4fd2f54ce8c9",
   "metadata": {},
   "outputs": [
    {
     "name": "stdout",
     "output_type": "stream",
     "text": [
      "x: 4312509560, y: 4312509560, 1: 4312509560\n"
     ]
    }
   ],
   "source": [
    "'''CODE 1'''\n",
    "x = 1\n",
    "y = 1\n",
    "\n",
    "print(f\"x: {id(x)}, y: {id(y)}, 1: {id(1)}\")"
   ]
  },
  {
   "cell_type": "markdown",
   "id": "ed0af579-98d8-4214-840d-6d0caa1ae142",
   "metadata": {},
   "source": [
    "The above code tells that <span style=\"color:purple\">x</span>, <span style=\"color:purple\">y</span> both have the same id as <span style=\"color:purple\">1</span>.\n",
    "\n",
    "The following figure tries to explain what is happpening."
   ]
  },
  {
   "cell_type": "markdown",
   "id": "fbb363ab-af83-4399-9530-a8b117df8d61",
   "metadata": {},
   "source": [
    "1. **Before** the code is run, Python has things or **objects** <span style=\"color:purple\">1</span>, <span style=\"color:purple\">2</span> and <span style=\"color:purple\">a</span> that have 3 properties: **type**, **value** and **id**. E.g., <span style=\"color:purple\">1</span> can have the value 1, type <span style=\"color:purple\">int</span>, and some id. <span style=\"color:purple\">a</span> can have the value 'a', type <span style=\"color:purple\">str</span> and some id.\n",
    "\n",
    "2. **After** the code is run, <span style=\"color:purple\">x</span> and <span style=\"color:purple\">y</span> are 'looking at' or bound to <span style=\"color:purple\">1</span>. So, <span style=\"color:purple\">x</span> and <span style=\"color:purple\">y</span> are referred to as **names** that are **bound** to <span style=\"color:purple\">1</span>."
   ]
  },
  {
   "cell_type": "code",
   "execution_count": 29,
   "id": "af38e0cc-5936-451c-85c0-f7c204466c7b",
   "metadata": {},
   "outputs": [
    {
     "name": "stdout",
     "output_type": "stream",
     "text": [
      "x: 4312509560, y: 4312509592\n"
     ]
    }
   ],
   "source": [
    "'''CODE 2'''\n",
    "x = 1\n",
    "y = x + 1\n",
    "\n",
    "print(f\"x: {id(x)}, y: {id(y)}\")"
   ]
  },
  {
   "cell_type": "code",
   "execution_count": 30,
   "id": "158250d5-6207-480f-bc51-9d4e7e3dc9f4",
   "metadata": {},
   "outputs": [
    {
     "name": "stdout",
     "output_type": "stream",
     "text": [
      "1: 4312509560, 2: 4312509592\n"
     ]
    }
   ],
   "source": [
    "print(f\"1: {id(1)}, 2: {id(2)}\")"
   ]
  },
  {
   "cell_type": "markdown",
   "id": "05dc7608-c6b2-45a9-b2c0-c5fd23ec160d",
   "metadata": {},
   "source": [
    "Since the mathematical operation requires <span style=\"color:purple\">y</span> to have the value <span style=\"color:purple\">2</span>, <span style=\"color:purple\">y</span> now gets bound to object <span style=\"color:purple\">2</span>. \n",
    "\n",
    "This happens because the value of object <span style=\"color:purple\">1</span> **cannot be changed**, so the binding is changed instead."
   ]
  },
  {
   "cell_type": "markdown",
   "id": "41c1bc62-f758-4cd4-ab3d-4117bc247371",
   "metadata": {},
   "source": [
    "Objects such as <span style=\"color:purple\">1</span> whose values cannot be changed are called **immutable**. Other include <span style=\"color:purple\">str</span>, <span style=\"color:purple\">float</span>, <span style=\"color:purple\">bool</span>."
   ]
  },
  {
   "cell_type": "markdown",
   "id": "ce5da459-1d25-4734-8600-aac279b21ac9",
   "metadata": {},
   "source": [
    "There are also objects whose values **can** be changed.\n",
    "\n",
    "These types are called **mutable** and include <span style=\"color:purple\">lists</span> and <span style=\"color:purple\">dictionaries</span> and instances of classes.\n",
    "\n",
    "These behave differently, as highlighted in the problem above."
   ]
  },
  {
   "cell_type": "code",
   "execution_count": 31,
   "id": "fb41f869-bd0e-4c96-a48c-ee41c640ac8e",
   "metadata": {},
   "outputs": [],
   "source": [
    "# x is bound to a list object with a value [1 ,2]\n",
    "x = [1, 2]\n",
    "\n",
    "# y is bound to the SAME list object with a value [1 ,2]\n",
    "y = x\n",
    "\n",
    "# y is used to change the value of the object from  [1, 2] to [1, 2, 3]\n",
    "y.append(3)"
   ]
  },
  {
   "attachments": {},
   "cell_type": "markdown",
   "id": "89a766fc",
   "metadata": {},
   "source": [
    "## 6.3 A solution"
   ]
  },
  {
   "cell_type": "markdown",
   "id": "a8efac65-dc3c-42f3-b27a-7c0b71b66563",
   "metadata": {},
   "source": [
    "If we really want <span style=\"color:purple\">y</span> to have an independent copy of <span style=\"color:purple\">x</span>, we can use:"
   ]
  },
  {
   "cell_type": "code",
   "execution_count": 32,
   "id": "3d72a875-b167-4712-8c43-b0df44bbdaf8",
   "metadata": {},
   "outputs": [],
   "source": [
    "y = x.copy()"
   ]
  },
  {
   "cell_type": "markdown",
   "id": "52ed2f08-41e2-4fe3-baa5-5c6dd48cd2f9",
   "metadata": {},
   "source": [
    "Be very careful when using **mutable** data types as variables."
   ]
  },
  {
   "attachments": {},
   "cell_type": "markdown",
   "id": "b2cf5045",
   "metadata": {},
   "source": [
    "# 7 == is not the same as is"
   ]
  },
  {
   "cell_type": "markdown",
   "id": "d2cffc93-8c84-49dd-b3c2-8d4adfda42a5",
   "metadata": {},
   "source": [
    "Python has a few ways of comparing 'items'. <span style=\"color:purple\">==</span> and <span style=\"color:purple\">is</span> are 2 examples.\n",
    "\n",
    "Here is the difference between them:\n",
    "\n",
    "<span style=\"color:purple\">x is y</span> checks for **identity**. i.e. it asks if <span style=\"color:purple\">x</span> and <span style=\"color:purple\">y</span> are bound to the same object by comparing the ID.\n",
    "\n",
    "<span style=\"color:purple\">x == y</span> checks for **equality** by **running a function** that checks for equality (such as <span style=\"color:purple\">_eq_</span> of a class)."
   ]
  }
 ],
 "metadata": {
  "kernelspec": {
   "display_name": "Python 3 (ipykernel)",
   "language": "python",
   "name": "python3"
  },
  "language_info": {
   "codemirror_mode": {
    "name": "ipython",
    "version": 3
   },
   "file_extension": ".py",
   "mimetype": "text/x-python",
   "name": "python",
   "nbconvert_exporter": "python",
   "pygments_lexer": "ipython3",
   "version": "3.11.7"
  },
  "toc": {
   "base_numbering": 1,
   "nav_menu": {},
   "number_sections": true,
   "sideBar": true,
   "skip_h1_title": false,
   "title_cell": "Table of Contents",
   "title_sidebar": "Contents",
   "toc_cell": false,
   "toc_position": {},
   "toc_section_display": true,
   "toc_window_display": false
  },
  "vscode": {
   "interpreter": {
    "hash": "31f2aee4e71d21fbe5cf8b01ff0e069b9275f58929596ceb00d14d90e3e16cd6"
   }
  }
 },
 "nbformat": 4,
 "nbformat_minor": 5
}
