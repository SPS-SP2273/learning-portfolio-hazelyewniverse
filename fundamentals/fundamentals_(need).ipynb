{
 "cells": [
  {
   "attachments": {},
   "cell_type": "markdown",
   "id": "123456",
   "metadata": {},
   "source": [
    "<div style=\"text-align:left;font-size:2em\"><span style=\"font-weight:bolder;font-size:1.25em\">SP2273 | Learning Portfolio</span><br><br><span style=\"font-weight:bold;color:darkred\">Fundamentals (Need)</span></div>"
   ]
  },
  {
   "attachments": {},
   "cell_type": "markdown",
   "id": "48245a87",
   "metadata": {},
   "source": [
    "# What to expect in this chapter"
   ]
  },
  {
   "cell_type": "markdown",
   "id": "5ec544d1-c15a-41cc-be93-6a04503e3634",
   "metadata": {},
   "source": [
    "1. Essential basics of Python\n",
    "2. Absolute fundamnetals of Python's syntax\n",
    "   + Indentations (spaces, tabs) to identify blocks of code\n",
    "   + How to use the dot (.)\n",
    "   + How to extend Python's abilities by importing packages"
   ]
  },
  {
   "attachments": {},
   "cell_type": "markdown",
   "id": "81f9a3a0",
   "metadata": {},
   "source": [
    "# Functions"
   ]
  },
  {
   "cell_type": "code",
   "execution_count": 54,
   "id": "4a9e931e-cb76-4eea-aea0-650fb8aa7e38",
   "metadata": {},
   "outputs": [
    {
     "name": "stdout",
     "output_type": "stream",
     "text": [
      "Hello world!\n"
     ]
    }
   ],
   "source": [
    "print('Hello world!')"
   ]
  },
  {
   "cell_type": "markdown",
   "id": "946f7111-2774-43e5-a1eb-48b2e26cde23",
   "metadata": {},
   "source": [
    "<span style=\"color:purple\">print()</span> is a <span style=\"color:orange\">function</span>.\n",
    "\n",
    "It can be thought of as 'something' that does a specific task. \n",
    "\n",
    "<span style=\"color:purple\">print()</span> accepts the \"Hello world\" <span style=\"color:orange\">argument</span> and prints it to the screen."
   ]
  },
  {
   "cell_type": "markdown",
   "id": "36e4b40f-b267-4dc3-9f82-3e6fc6107762",
   "metadata": {},
   "source": [
    "Parentheses, () , always follow a function.\n",
    "\n",
    "We use these parentheses to pass arguments to the function. Most functions expect arguments; the parentheses are left empty for those functions that don't require an argument (e.g.<span style=\"color:purple\">exit()</span>.)"
   ]
  },
  {
   "cell_type": "markdown",
   "id": "c86f186e-4fd8-49ab-a65b-7a80553f74be",
   "metadata": {},
   "source": [
    "<span style=\"color:purple\">print()</span> is a core (in-built) function of Python.\n",
    "We can also define our own functions. THis is an extremely powerful feature."
   ]
  },
  {
   "cell_type": "markdown",
   "id": "25bc2eec-1624-4621-851e-687a57c67e3b",
   "metadata": {},
   "source": [
    "The above is an example of what we call <span style=\"color:orange\">code</span>; instructions written using a syntax that a programming language understands"
   ]
  },
  {
   "cell_type": "markdown",
   "id": "3920b0a6-00d8-44fb-ad79-8e1f6fe6faff",
   "metadata": {},
   "source": [
    "- A function is 'something' that executes a specific task.\n",
    "- A function may or may not accept arguments.\n",
    "- We can define our own functions."
   ]
  },
  {
   "attachments": {},
   "cell_type": "markdown",
   "id": "506bb9d3",
   "metadata": {},
   "source": [
    "# Python is interpreted"
   ]
  },
  {
   "cell_type": "markdown",
   "id": "46b147d5-cf83-4d0f-9c56-9d2da66bea2e",
   "metadata": {},
   "source": [
    "What we refer to as 'Python' is really the Python <span style=\"color:orange\">interpreter</span>."
   ]
  },
  {
   "cell_type": "markdown",
   "id": "abadd814-e5f0-497e-ad65-bffe14364e22",
   "metadata": {},
   "source": [
    "An interpreter works **sequentially, one command at a time**. "
   ]
  },
  {
   "cell_type": "code",
   "execution_count": 55,
   "id": "e61ab615-5532-42fd-96fd-c204a5ca2e35",
   "metadata": {},
   "outputs": [
    {
     "name": "stdout",
     "output_type": "stream",
     "text": [
      "Hello World\n",
      "Hello World again\n"
     ]
    }
   ],
   "source": [
    "print('Hello World')\n",
    "print('Hello World again')"
   ]
  },
  {
   "cell_type": "markdown",
   "id": "edea1aaa-fe85-4e71-ae68-75fcecd82c6a",
   "metadata": {},
   "source": [
    "The interpreter stops and complains if there is an error in the command it is currently executing."
   ]
  },
  {
   "attachments": {},
   "cell_type": "markdown",
   "id": "103a8321",
   "metadata": {},
   "source": [
    "# Python is sensitive."
   ]
  },
  {
   "cell_type": "markdown",
   "id": "25c73f59-4a2b-41cd-af0c-294479699324",
   "metadata": {},
   "source": [
    "Python is case-sensitive, so <span style=\"color:purple\">print()</span> is different from <span style=\"color:purple\">print()</span>."
   ]
  },
  {
   "cell_type": "code",
   "execution_count": 56,
   "id": "f641c47e-9a5d-43d1-801e-61800ad46981",
   "metadata": {},
   "outputs": [
    {
     "name": "stdout",
     "output_type": "stream",
     "text": [
      "Hello World\n"
     ]
    }
   ],
   "source": [
    "print('Hello World')"
   ]
  },
  {
   "cell_type": "code",
   "execution_count": 57,
   "id": "7d133d7b-2450-45a3-ba51-0b38dc0ba776",
   "metadata": {},
   "outputs": [
    {
     "ename": "NameError",
     "evalue": "name 'Print' is not defined",
     "output_type": "error",
     "traceback": [
      "\u001b[0;31m---------------------------------------------------------------------------\u001b[0m",
      "\u001b[0;31mNameError\u001b[0m                                 Traceback (most recent call last)",
      "Cell \u001b[0;32mIn[57], line 1\u001b[0m\n\u001b[0;32m----> 1\u001b[0m \u001b[43mPrint\u001b[49m(\u001b[38;5;124m'\u001b[39m\u001b[38;5;124mHello World\u001b[39m\u001b[38;5;124m'\u001b[39m)\n",
      "\u001b[0;31mNameError\u001b[0m: name 'Print' is not defined"
     ]
    }
   ],
   "source": [
    "Print('Hello World')"
   ]
  },
  {
   "attachments": {},
   "cell_type": "markdown",
   "id": "7e8ba475",
   "metadata": {},
   "source": [
    "# Comments"
   ]
  },
  {
   "cell_type": "markdown",
   "id": "86bdae5a-4432-4af6-909f-5046dfafea78",
   "metadata": {},
   "source": [
    "You will notice that I wrote additional information (e.g. WILL work or WILL NOT work) in the above code by inserting a <span style=\"color:purple\">#</span>. These are called <span style=\"color:orange\">comments</span>."
   ]
  },
  {
   "cell_type": "markdown",
   "id": "593d3268-9a24-4462-85e3-3bef392fe0d9",
   "metadata": {},
   "source": [
    "Python ignores all comments."
   ]
  },
  {
   "cell_type": "markdown",
   "id": "b60b57dd-9ce0-4c26-b299-7a616421eeb5",
   "metadata": {},
   "source": [
    "Anything between <span style=\"color:purple\">#</span> and the end of the line constitutes the comment."
   ]
  },
  {
   "cell_type": "code",
   "execution_count": 58,
   "id": "7ad0f206-d180-443f-bc7b-3d16248c6854",
   "metadata": {},
   "outputs": [
    {
     "name": "stdout",
     "output_type": "stream",
     "text": [
      "One\n",
      "Three\n"
     ]
    }
   ],
   "source": [
    "# This is a comment\n",
    "print('One')              # This is a comment.\n",
    "# print('Two')            # The interpreter ignores this line.\n",
    "print('Three')            # This is\n",
    "                          # also a way to\n",
    "                          # write comments"
   ]
  },
  {
   "cell_type": "code",
   "execution_count": 59,
   "id": "133d649c-5d29-44af-9a4a-93bdf557bd10",
   "metadata": {},
   "outputs": [
    {
     "name": "stdout",
     "output_type": "stream",
     "text": [
      "One\n",
      "Three\n"
     ]
    }
   ],
   "source": [
    "print('One') \n",
    "# print('Two')\n",
    "print('Three')  "
   ]
  },
  {
   "cell_type": "markdown",
   "id": "224ddd70-5385-4b4c-aee2-510b90403422",
   "metadata": {},
   "source": [
    "The second line is a comment and the interpreter ignores the line."
   ]
  },
  {
   "cell_type": "markdown",
   "id": "05098cbe-0766-43de-9885-fe259055d697",
   "metadata": {},
   "source": [
    "It is important to note that comments are for you and me. However, it must be used carefully as unnecessary comments create clutter and hinder code readability."
   ]
  },
  {
   "cell_type": "code",
   "execution_count": 60,
   "id": "7864568b-4e09-4155-9b9f-cf2a3041f966",
   "metadata": {},
   "outputs": [
    {
     "name": "stdout",
     "output_type": "stream",
     "text": [
      "Hello world\n"
     ]
    }
   ],
   "source": [
    "print(\"Hello world\" )     # Printing \"Hello World.\""
   ]
  },
  {
   "cell_type": "markdown",
   "id": "8762b0ed-f6c6-40aa-a6d9-6f29590e9f41",
   "metadata": {},
   "source": [
    "Unless you possess an infallible memory, you will definitely foret what the code is meant to do in a day or two (or faster). So, write comments to help your future self understand the **purpose** of the code. \n",
    "You will develop a knack for writing good comments as you gain more experience.\n",
    "\n",
    "For the moment:\n",
    "Use comments to emphasise the purpose of the code."
   ]
  },
  {
   "attachments": {},
   "cell_type": "markdown",
   "id": "a5b785f5",
   "metadata": {},
   "source": [
    "# = is not the same as =="
   ]
  },
  {
   "cell_type": "markdown",
   "id": "6e9aa7a4-d1c5-4487-a520-8a8fa2b34236",
   "metadata": {},
   "source": [
    "You will see <span style=\"color:purple\">=</span> and <span style=\"color:purple\">==</span> used in programming. \n",
    "These mean 2 very different things."
   ]
  },
  {
   "cell_type": "markdown",
   "id": "1cb215a1-fe78-411a-aa94-1e9ce9bd7782",
   "metadata": {},
   "source": [
    "<span style=\"color:purple\">=</span> is used to **set** something equal."
   ]
  },
  {
   "cell_type": "code",
   "execution_count": 61,
   "id": "1c3904a6-71c1-45bc-9f97-32580105d328",
   "metadata": {},
   "outputs": [],
   "source": [
    "name = 'Batman'   # Make name carry 'Batman'"
   ]
  },
  {
   "cell_type": "markdown",
   "id": "cdbc1dd2-b060-45b3-b61f-81104cdb9430",
   "metadata": {},
   "source": [
    "<span style=\"color:purple\">==</span> is used to **check** if something is equal. (i.e., asking a question)."
   ]
  },
  {
   "cell_type": "code",
   "execution_count": 62,
   "id": "c78bec67-3480-45bb-aff5-94a14cc2623b",
   "metadata": {},
   "outputs": [
    {
     "data": {
      "text/plain": [
       "True"
      ]
     },
     "execution_count": 62,
     "metadata": {},
     "output_type": "execute_result"
    }
   ],
   "source": [
    "name == 'Batman'  # Tell me if name is equal to 'Batman'?\n",
    "                  # Answer:  True or False"
   ]
  },
  {
   "cell_type": "markdown",
   "id": "9f526c7f-c494-473c-953b-6478feccd88d",
   "metadata": {},
   "source": [
    "<span style=\"color:purple\">=</span> is **not** the same as <span style=\"color:purple\">==</span>."
   ]
  },
  {
   "cell_type": "markdown",
   "id": "91fbcdba-37b0-463c-ac20-0d684bdb61fb",
   "metadata": {},
   "source": [
    "<span style=\"color:purple\">==</span> assigns a value."
   ]
  },
  {
   "cell_type": "markdown",
   "id": "6032fc92-3994-49db-af34-1bde2cc578fc",
   "metadata": {},
   "source": [
    "<span style=\"color:purple\">==</span> asks a question."
   ]
  },
  {
   "attachments": {},
   "cell_type": "markdown",
   "id": "34a756fe",
   "metadata": {},
   "source": [
    "# Use if to make decisions"
   ]
  },
  {
   "cell_type": "markdown",
   "id": "af70cb69-8e57-45a9-b704-a6d570b78470",
   "metadata": {},
   "source": [
    "Making decisions based on data is a cornerstone of life and programming. We accomplish this with the <span style=\"color:purple\">if</span> statement. Specifically, <span style=\"color:purple\">if</span> can be used to branch the flow of the program."
   ]
  },
  {
   "cell_type": "code",
   "execution_count": 63,
   "id": "45c37d84-db23-4c32-b42a-c7093772e4c4",
   "metadata": {},
   "outputs": [
    {
     "name": "stdout",
     "output_type": "stream",
     "text": [
      "Hello Batman!\n"
     ]
    }
   ],
   "source": [
    "name = 'Batman'\n",
    "\n",
    "if name == 'Batman':\n",
    "    print('Hello Batman!')\n",
    "else:\n",
    "    print('Hello World!')"
   ]
  },
  {
   "cell_type": "markdown",
   "id": "dc7a4e8a-c3b6-4f85-899b-1e5fe96bccd0",
   "metadata": {},
   "source": [
    "A typical <span style=\"color:purple\">if</span> statement asks a question (i.e., tests a condition) and has something to do if the answer is <span style=\"color:purple\">True</span> (printing *Hello Batman!*) and something else (printing *Hello World!*) if it is not. **Notice** the use of <span style=\"color:purple\">:</span> and <span style=\"color:orange\">indentations</span> (spaces or tabs) to define what to do if the answer is <span style=\"color:purple\">True</span> and what to do if the answer is <span style=\"color:purple\">False</span>."
   ]
  },
  {
   "cell_type": "markdown",
   "id": "361a5caf-44b8-44d8-8f71-f2e626204e91",
   "metadata": {},
   "source": [
    "We can use <span style=\"color:purple\">if</span> to make decisions!"
   ]
  },
  {
   "attachments": {},
   "cell_type": "markdown",
   "id": "4602f0e3",
   "metadata": {},
   "source": [
    "# Indentations (spaces) are sooo IMPORTANT!"
   ]
  },
  {
   "cell_type": "markdown",
   "id": "81c4a584-cc8f-4192-9f97-d49e1f7cd970",
   "metadata": {},
   "source": [
    "With python, this code **will** work."
   ]
  },
  {
   "cell_type": "code",
   "execution_count": 64,
   "id": "25cb0f41-412b-4978-90ad-724cd814cfe7",
   "metadata": {},
   "outputs": [
    {
     "name": "stdout",
     "output_type": "stream",
     "text": [
      "10\n"
     ]
    }
   ],
   "source": [
    "x = 10\n",
    "print(x)"
   ]
  },
  {
   "cell_type": "markdown",
   "id": "5feb31a7-c9ba-4702-8f0b-1cca15de273e",
   "metadata": {},
   "source": [
    "However, the following will **not** work."
   ]
  },
  {
   "cell_type": "code",
   "execution_count": 65,
   "id": "582a6f3f-eadc-4995-8f3b-a83d78066a16",
   "metadata": {},
   "outputs": [
    {
     "ename": "IndentationError",
     "evalue": "unexpected indent (1537435392.py, line 2)",
     "output_type": "error",
     "traceback": [
      "\u001b[0;36m  Cell \u001b[0;32mIn[65], line 2\u001b[0;36m\u001b[0m\n\u001b[0;31m    print(x)\u001b[0m\n\u001b[0m    ^\u001b[0m\n\u001b[0;31mIndentationError\u001b[0m\u001b[0;31m:\u001b[0m unexpected indent\n"
     ]
    }
   ],
   "source": [
    "x = 10\n",
    " print(x)"
   ]
  },
  {
   "cell_type": "markdown",
   "id": "abcd5d65-cb60-4b35-961a-67e9dc3b794c",
   "metadata": {},
   "source": [
    "You can understand why there is an error by looking at the structure of the <span style=\"color:purple\">if</span> statement. Notice that Python uses an indentation to separate the <span style=\"color:purple\">True</span> and <span style=\"color:purple\">False</span> 'blocks'. So you cannot use indentations (spaces) indiscriminately as this will confuse Python. \n",
    "\n",
    "Python is easy to read because of the use of indentations.\n",
    "Other languages like C++ and R, they use brackets, making them look cluncky.\n",
    "\n",
    "For example, the previous statement in R looks like this:"
   ]
  },
  {
   "cell_type": "code",
   "execution_count": 66,
   "id": "bc25eba3-4793-4d1a-a2e1-2dad72a2d2f9",
   "metadata": {},
   "outputs": [
    {
     "ename": "SyntaxError",
     "evalue": "invalid syntax (40591002.py, line 1)",
     "output_type": "error",
     "traceback": [
      "\u001b[0;36m  Cell \u001b[0;32mIn[66], line 1\u001b[0;36m\u001b[0m\n\u001b[0;31m    if (name == 'Batman') {\u001b[0m\n\u001b[0m                          ^\u001b[0m\n\u001b[0;31mSyntaxError\u001b[0m\u001b[0;31m:\u001b[0m invalid syntax\n"
     ]
    }
   ],
   "source": [
    "if (name == 'Batman') {\n",
    "  print('Hello Hero | Batman!')\n",
    "} else {\n",
    "  print('Hello World!')\n",
    "}"
   ]
  },
  {
   "cell_type": "markdown",
   "id": "73c8db8d-e387-4984-9e88-851c355db507",
   "metadata": {},
   "source": [
    "Indentations play a **crucial** role in Python, do not use them indiscriminately.\n",
    "\n",
    "<span style=\"color:purple\">:</span> is used to designate a block of code."
   ]
  },
  {
   "cell_type": "markdown",
   "id": "9a11d0cc-b765-4e5f-8beb-7b322905b335",
   "metadata": {},
   "source": [
    "Do not mix spaces and tabs!\n",
    "\n",
    "Just use the <span style=\"color:purple\">tab</span> key consistently."
   ]
  },
  {
   "attachments": {},
   "cell_type": "markdown",
   "id": "8040d958",
   "metadata": {},
   "source": [
    "# ‘age’ is English, age is a variable."
   ]
  },
  {
   "cell_type": "markdown",
   "id": "6dad7494-18fe-4ae9-a8bc-32d5cc0c01c9",
   "metadata": {},
   "source": [
    "Variable are 'things' that can hold information.\n",
    "\n",
    "You can give almost any name for a variable.\n",
    "\n",
    "However, it is best to provide a name that describes the data it 'carries'.\n",
    "\n",
    "E.g., we can store a student's age using the variable <span style=\"color:purple\">a = 24</span>. However, it is better to write <span style=\"color:purple\">age = 24</span>. It is even better to write <span style=\"color:purple\">student_age = 24</span>."
   ]
  },
  {
   "cell_type": "markdown",
   "id": "8151b1a9-ac4d-4ba4-ae9f-1b0edf720eef",
   "metadata": {},
   "source": [
    "Be careful about mixing up English with variables.\n",
    "\n",
    "E.g., there is a difference between the following."
   ]
  },
  {
   "cell_type": "code",
   "execution_count": 67,
   "id": "9f3c267c-fcc7-4024-8881-3f3b5c65326a",
   "metadata": {},
   "outputs": [
    {
     "name": "stdout",
     "output_type": "stream",
     "text": [
      "10\n"
     ]
    }
   ],
   "source": [
    "print(age)       # Print the value of the variable age"
   ]
  },
  {
   "cell_type": "markdown",
   "id": "40a4deeb-d22f-4bfd-97f4-2ec55bf50820",
   "metadata": {},
   "source": [
    "It tries to print the value of the variable age."
   ]
  },
  {
   "cell_type": "code",
   "execution_count": 68,
   "id": "2edbbd10-07f9-44cd-999b-b75d989ba8c7",
   "metadata": {},
   "outputs": [
    {
     "name": "stdout",
     "output_type": "stream",
     "text": [
      "age\n"
     ]
    }
   ],
   "source": [
    "print(\"age\")     # Print the English word 'age'"
   ]
  },
  {
   "cell_type": "markdown",
   "id": "57aa7020-5b56-44cf-ac99-a37cbd078c95",
   "metadata": {},
   "source": [
    "It prints the English word \"age\"."
   ]
  },
  {
   "cell_type": "markdown",
   "id": "8364210f-e678-4e58-a0bf-6f5bd389ce60",
   "metadata": {},
   "source": [
    "Python complains if the variable <span style=\"color:purple\">age</span> has yet to be assigned a value.\n",
    "\n",
    "However, something like this will work:"
   ]
  },
  {
   "cell_type": "code",
   "execution_count": 69,
   "id": "59cfbab7-5021-4bb9-aaa8-b2e7dd29752f",
   "metadata": {},
   "outputs": [
    {
     "name": "stdout",
     "output_type": "stream",
     "text": [
      "10\n"
     ]
    }
   ],
   "source": [
    "age = 10\n",
    "print(age)"
   ]
  },
  {
   "cell_type": "markdown",
   "id": "e1ac9500-1216-445c-9e03-de5835c704db",
   "metadata": {},
   "source": [
    "**Note** that you can use either matching pairs of <span style=\"color:purple\">''</span> or <span style=\"color:purple\">\"\"</span>.\n",
    "\n",
    "However, it is always good to be consistent. \n",
    "\n",
    "Sometimes, it is good to haev both because you need to do things like:"
   ]
  },
  {
   "cell_type": "code",
   "execution_count": 70,
   "id": "47ec086e-9a13-4f98-baff-7912c4009d6d",
   "metadata": {},
   "outputs": [
    {
     "name": "stdout",
     "output_type": "stream",
     "text": [
      "You're twenty years old.\n"
     ]
    }
   ],
   "source": [
    "print(\"You're twenty years old.\")"
   ]
  },
  {
   "attachments": {},
   "cell_type": "markdown",
   "id": "a0dde09d",
   "metadata": {},
   "source": [
    "# Brackets"
   ]
  },
  {
   "cell_type": "markdown",
   "id": "60034fd7-a64a-4a58-b9fe-a5f149f25918",
   "metadata": {},
   "source": [
    "Python uses all three types of brackets <span style=\"color:purple\">( )</span>, <span style=\"color:purple\">[ ]</span> abd <span style=\"color:purple\">{ }</span>."
   ]
  },
  {
   "cell_type": "markdown",
   "id": "e9a5c845-54cd-41f6-9b95-65673a82a498",
   "metadata": {},
   "source": [
    "Python uses <span style=\"color:purple\">( )</span> in calls to function."
   ]
  },
  {
   "cell_type": "code",
   "execution_count": 71,
   "id": "b916e6db-983d-4c1e-bd8f-f005b0e0e2df",
   "metadata": {},
   "outputs": [
    {
     "name": "stdout",
     "output_type": "stream",
     "text": [
      "Hello!\n"
     ]
    }
   ],
   "source": [
    "print('Hello!')             # In functions"
   ]
  },
  {
   "cell_type": "markdown",
   "id": "0ca56e16-67a0-4dd3-a0a4-2062c0e63547",
   "metadata": {},
   "source": [
    "Python uses <span style=\"color:purple\">( )</span> for mathematics."
   ]
  },
  {
   "cell_type": "code",
   "execution_count": 72,
   "id": "0bfb4e5a-12f3-4580-8410-05f498aa6977",
   "metadata": {},
   "outputs": [
    {
     "data": {
      "text/plain": [
       "15"
      ]
     },
     "execution_count": 72,
     "metadata": {},
     "output_type": "execute_result"
    }
   ],
   "source": [
    "(1 + 2) * 5                 # For math"
   ]
  },
  {
   "cell_type": "markdown",
   "id": "b1260997-b015-4279-a028-83d6b8c0fd47",
   "metadata": {},
   "source": [
    "Python uses <span style=\"color:purple\">[ ]</span> for lists of data."
   ]
  },
  {
   "cell_type": "code",
   "execution_count": 73,
   "id": "ffd422c1-9050-479d-a9de-ec57c2fcbf9a",
   "metadata": {},
   "outputs": [],
   "source": [
    "py_list = [1, 2, 3, 4, 5]   # A 1D list\n",
    "\n",
    "py_list_2 = [               # A 2D list\n",
    "                [1, \"A\"],      \n",
    "                [2, \"B\"],\n",
    "                [3, \"C\"],\n",
    "                [4, \"D\"],\n",
    "                [5, \"E\"]\n",
    "            ]"
   ]
  },
  {
   "cell_type": "markdown",
   "id": "1542d3ef-b1fb-4827-b1e1-4208c28980df",
   "metadata": {},
   "source": [
    "Python uses <span style=\"color:purple\">{ }</span> to store data in a 'thing' called Python uses <span style=\"color:orange\">dictionary</span>."
   ]
  },
  {
   "cell_type": "markdown",
   "id": "be19dd7d-06f0-4d88-b91c-c0bfada0f86f",
   "metadata": {},
   "source": [
    "personal_info = {\n",
    "    'Names': 'Batman',\n",
    "    'Real Name': 'Bruce Wayne',\n",
    "    'Age': 55,\n",
    "    'Affiliation': 'Justice League',\n",
    "    'Universe': 'DC'\n",
    "}"
   ]
  },
  {
   "cell_type": "markdown",
   "id": "092cd0b7-55a9-4b51-859f-67b043bb89c2",
   "metadata": {},
   "source": [
    "Notice that the dictionary uses a **key** to identify a **value** (e.g., 'Real Name' -> 'Bruce Wayne'). \n",
    "\n",
    "This is a neat and useful way to store data and quickly access information.\n",
    "\n",
    "Example:"
   ]
  },
  {
   "cell_type": "code",
   "execution_count": 74,
   "id": "5e67a625-a9f1-4612-82fe-0739d5d0d878",
   "metadata": {},
   "outputs": [
    {
     "name": "stdout",
     "output_type": "stream",
     "text": [
      "Bruce Wayne\n"
     ]
    }
   ],
   "source": [
    "print(personal_info['Real Name'])    "
   ]
  },
  {
   "attachments": {},
   "cell_type": "markdown",
   "id": "b1585742",
   "metadata": {},
   "source": [
    "# Giving Python superpowers with Packages"
   ]
  },
  {
   "cell_type": "markdown",
   "id": "024ae50b-5836-4ae1-b6a7-8eef2691b1cf",
   "metadata": {},
   "source": [
    "Next, we will look at an essential, super-powerful feature of Python. We will use the example of doing Mathematics using Python. Let's say we want to calculate\n",
    "$\\frac{1\\times[(2-3)+4]^5}{6}$"
   ]
  },
  {
   "cell_type": "markdown",
   "id": "665c3c68-d6a7-481f-9cc0-96e63df0abb6",
   "metadata": {},
   "source": [
    "We can do this by:"
   ]
  },
  {
   "cell_type": "code",
   "execution_count": 48,
   "id": "9b637e00-1653-4b22-8bba-50024743a7d6",
   "metadata": {},
   "outputs": [
    {
     "data": {
      "text/plain": [
       "40.5"
      ]
     },
     "execution_count": 48,
     "metadata": {},
     "output_type": "execute_result"
    }
   ],
   "source": [
    "1 * ((2 - 3) + 4) ** 5 / 6"
   ]
  },
  {
   "cell_type": "markdown",
   "id": "fe3b090d-0570-4b58-85c0-320f055a437d",
   "metadata": {},
   "source": [
    "How about $\\sqrt{4}$?"
   ]
  },
  {
   "cell_type": "code",
   "execution_count": 50,
   "id": "5e0a78af-e0b8-49c1-a9ab-498d859f9e42",
   "metadata": {},
   "outputs": [
    {
     "ename": "NameError",
     "evalue": "name 'sqrt' is not defined",
     "output_type": "error",
     "traceback": [
      "\u001b[0;31m---------------------------------------------------------------------------\u001b[0m",
      "\u001b[0;31mNameError\u001b[0m                                 Traceback (most recent call last)",
      "Cell \u001b[0;32mIn[50], line 1\u001b[0m\n\u001b[0;32m----> 1\u001b[0m \u001b[43msqrt\u001b[49m(\u001b[38;5;241m4\u001b[39m)\n",
      "\u001b[0;31mNameError\u001b[0m: name 'sqrt' is not defined"
     ]
    }
   ],
   "source": [
    "sqrt(4)"
   ]
  },
  {
   "cell_type": "markdown",
   "id": "6b93da82-cc09-4770-a2fd-ee3bb5cb425c",
   "metadata": {},
   "source": [
    "Python cannot calculate square roots but this is not a problem as we can imbue Python with newer functionality by using <span style=\"color:orange\">packages</span>. \n",
    "\n",
    "For instance, I can give Python more math skills by using (importing) the <span style=\"color:purple\">math</span> package. "
   ]
  },
  {
   "cell_type": "markdown",
   "id": "a60a8e29-75b9-456b-81ff-daf92296581f",
   "metadata": {},
   "source": [
    "## Importing the <span style=\"color:purple\">math</span> package"
   ]
  },
  {
   "cell_type": "code",
   "execution_count": 52,
   "id": "823ce76a-f673-434d-9841-f2a9d5b228f0",
   "metadata": {},
   "outputs": [],
   "source": [
    "import math         # Adding(importing) the functions\n",
    "                    # of the 'math' package    "
   ]
  },
  {
   "cell_type": "code",
   "execution_count": 75,
   "id": "42fcd90f-29ea-4184-bd5d-d4d0d2240bd9",
   "metadata": {},
   "outputs": [
    {
     "data": {
      "text/plain": [
       "2.0"
      ]
     },
     "execution_count": 75,
     "metadata": {},
     "output_type": "execute_result"
    }
   ],
   "source": [
    "math.sqrt(4)"
   ]
  },
  {
   "attachments": {},
   "cell_type": "markdown",
   "id": "ab758e20",
   "metadata": {},
   "source": [
    "##  Importing the <span style=\"color:purple\">numpy</span> package"
   ]
  },
  {
   "cell_type": "markdown",
   "id": "dedeb3f4-ca61-48a7-ba27-f9e11781d7a5",
   "metadata": {},
   "source": [
    "<span style=\"color:purple\">math</span> is one of many modules that offer the <span style=\"color:purple\">sqrt ( )</span> package functionality.\n",
    "\n",
    "We can use the super useful <span style=\"color:purple\">Numpy</span> to use its <span style=\"color:purple\">sqrt ( )</span> function."
   ]
  },
  {
   "cell_type": "code",
   "execution_count": 76,
   "id": "493c872e-0f61-4dc0-ac98-54696ecd35bd",
   "metadata": {},
   "outputs": [],
   "source": [
    "import numpy as np    # Importing Numpy and giving \n",
    "                      # it an alias np \n",
    "                      # because I am lazy"
   ]
  },
  {
   "cell_type": "markdown",
   "id": "b6121ccf-b71d-482b-89c5-d308890838e9",
   "metadata": {},
   "source": [
    "We can use the <span style=\"color:purple\">sqrt ( )</span> function of the <span style=\"color:purple\">Numpy</span> module.\n",
    "Since it was imported with an alias (<span style=\"color:purple\">np</span>), I can be lazy and use <span style=\"color:purple\">np</span> instead of the longer <span style=\"color:purple\">numpy</span>."
   ]
  },
  {
   "cell_type": "code",
   "execution_count": 77,
   "id": "73670093-76f5-4bae-8ff9-7b9d9441496f",
   "metadata": {},
   "outputs": [
    {
     "data": {
      "text/plain": [
       "2.0"
      ]
     },
     "execution_count": 77,
     "metadata": {},
     "output_type": "execute_result"
    }
   ],
   "source": [
    "np.sqrt(4)"
   ]
  },
  {
   "attachments": {},
   "cell_type": "markdown",
   "id": "2b5178bd",
   "metadata": {},
   "source": [
    "## Why so many packages?"
   ]
  },
  {
   "cell_type": "markdown",
   "id": "9e093a5e-384a-4d89-bcab-4d7c11ab30d8",
   "metadata": {},
   "source": [
    "There are different versions because they have different capabilities and efficiencies.\n",
    "\n",
    "E.g., the <span style=\"color:purple\">Numpy</span> version can handle a list of numbers:"
   ]
  },
  {
   "cell_type": "code",
   "execution_count": 78,
   "id": "0cb86de1-94e3-4fa0-b4d1-7b5c9c57ed04",
   "metadata": {},
   "outputs": [
    {
     "data": {
      "text/plain": [
       "array([2., 3., 4.])"
      ]
     },
     "execution_count": 78,
     "metadata": {},
     "output_type": "execute_result"
    }
   ],
   "source": [
    "np.sqrt([4, 9, 16])"
   ]
  },
  {
   "cell_type": "markdown",
   "id": "a5e45126-6cc1-4c59-bbe5-b5604b5905e0",
   "metadata": {},
   "source": [
    "We can give Python 'superpowers' by importing packages.\n",
    "\n",
    "You must import a package only once.\n",
    "\n",
    "There are different ways to import packages (e.g. with or without an 'alias)."
   ]
  },
  {
   "attachments": {},
   "cell_type": "markdown",
   "id": "8a76a1ec",
   "metadata": {},
   "source": [
    "# The dot (.)"
   ]
  },
  {
   "cell_type": "markdown",
   "id": "79cb1ec7-0747-4b6a-8f70-a9eaabd6cdb8",
   "metadata": {},
   "source": [
    "The dot (.) used in Python (and many programming languages). This dot is used to indicate **ownership**! \n",
    "\n",
    "Consider the code below!"
   ]
  },
  {
   "cell_type": "code",
   "execution_count": 79,
   "id": "fbd4487f-56b9-4124-91b4-fca69970d496",
   "metadata": {},
   "outputs": [
    {
     "data": {
      "text/plain": [
       "2.0"
      ]
     },
     "execution_count": 79,
     "metadata": {},
     "output_type": "execute_result"
    }
   ],
   "source": [
    "math.sqrt(4)\n",
    "np.sqrt(4)"
   ]
  },
  {
   "cell_type": "markdown",
   "id": "0b3d566c-5f9c-4a38-bf6e-49db1059541d",
   "metadata": {},
   "source": [
    "In the first line, we use the <span style=\"color:purple\">sqrt ( )</span> function that **belongs** to the math module.\n",
    "\n",
    "In the second line, we use the <span style=\"color:purple\">sqrt ( )</span> function that **belongs** to NumPy.\n",
    "\n",
    "Everything in Python (e.g. numbers, letters) has functions and attributes that belong to them. We can access them using the dot. E.g. the following will split the sentence into words."
   ]
  },
  {
   "cell_type": "code",
   "execution_count": 80,
   "id": "d6cf7205-0708-4a13-8e0a-b00e4d640c3b",
   "metadata": {},
   "outputs": [
    {
     "data": {
      "text/plain": [
       "['I', 'am', 'Batman']"
      ]
     },
     "execution_count": 80,
     "metadata": {},
     "output_type": "execute_result"
    }
   ],
   "source": [
    "\"I am Batman\".split()"
   ]
  },
  {
   "cell_type": "markdown",
   "id": "3fbf31f4-20fc-4213-9fc1-083bb67b173a",
   "metadata": {},
   "source": [
    "However, the following will not work because having a <span style=\"color:purple\">split ( )</span> function for numebrs makes no sense."
   ]
  },
  {
   "cell_type": "code",
   "execution_count": 81,
   "id": "c022119b-4b82-46bb-b5b0-eb50060b6be4",
   "metadata": {},
   "outputs": [
    {
     "ename": "SyntaxError",
     "evalue": "invalid decimal literal (3897031440.py, line 1)",
     "output_type": "error",
     "traceback": [
      "\u001b[0;36m  Cell \u001b[0;32mIn[81], line 1\u001b[0;36m\u001b[0m\n\u001b[0;31m    1234.split()\u001b[0m\n\u001b[0m        ^\u001b[0m\n\u001b[0;31mSyntaxError\u001b[0m\u001b[0;31m:\u001b[0m invalid decimal literal\n"
     ]
    }
   ],
   "source": [
    "1234.split()"
   ]
  },
  {
   "cell_type": "markdown",
   "id": "d88f82ac-26cd-48f1-9a74-e813ea7cb6eb",
   "metadata": {},
   "source": [
    "The things that can be accessed using the dot depend on what the dot is attached to. \n",
    "\n",
    "This will become more obvious very quickly as you use Python more.\n",
    "\n",
    "The dot (.) indicates ownership, and what it can access depends on the context."
   ]
  }
 ],
 "metadata": {
  "kernelspec": {
   "display_name": "Python 3 (ipykernel)",
   "language": "python",
   "name": "python3"
  },
  "language_info": {
   "codemirror_mode": {
    "name": "ipython",
    "version": 3
   },
   "file_extension": ".py",
   "mimetype": "text/x-python",
   "name": "python",
   "nbconvert_exporter": "python",
   "pygments_lexer": "ipython3",
   "version": "3.11.7"
  },
  "toc": {
   "base_numbering": 1,
   "nav_menu": {},
   "number_sections": true,
   "sideBar": true,
   "skip_h1_title": false,
   "title_cell": "Table of Contents",
   "title_sidebar": "Contents",
   "toc_cell": false,
   "toc_position": {},
   "toc_section_display": true,
   "toc_window_display": false
  },
  "vscode": {
   "interpreter": {
    "hash": "31f2aee4e71d21fbe5cf8b01ff0e069b9275f58929596ceb00d14d90e3e16cd6"
   }
  }
 },
 "nbformat": 4,
 "nbformat_minor": 5
}
