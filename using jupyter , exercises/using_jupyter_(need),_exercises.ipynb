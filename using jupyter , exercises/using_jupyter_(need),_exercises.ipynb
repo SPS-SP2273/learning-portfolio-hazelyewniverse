{
 "cells": [
  {
   "cell_type": "markdown",
   "id": "123456",
   "metadata": {},
   "source": [
    "<div style=\"text-align:left;font-size:2em\"><span style=\"font-weight:bolder;font-size:1.25em\">SP2273 | Learning Portfolio</span><br><br><span style=\"font-weight:bold;color:darkred\">Using Jupyter (Need), Exercises</span></div>"
   ]
  },
  {
   "cell_type": "markdown",
   "id": "12925647",
   "metadata": {},
   "source": [
    "# Exercise 1"
   ]
  },
  {
   "cell_type": "markdown",
   "id": "8edec684",
   "metadata": {},
   "source": [
    "## Quadratic Equations"
   ]
  },
  {
   "cell_type": "markdown",
   "id": "7c31c8b4",
   "metadata": {},
   "source": [
    "### Introduction"
   ]
  },
  {
   "cell_type": "markdown",
   "id": "5208bef3",
   "metadata": {},
   "source": [
    "General Form of an Quadratic Equation"
   ]
  },
  {
   "cell_type": "markdown",
   "id": "78c9b3b8",
   "metadata": {},
   "source": [
    "$ax^2 + bx + c = 0$"
   ]
  },
  {
   "cell_type": "markdown",
   "id": "b57ae026",
   "metadata": {},
   "source": [
    "### Solutions"
   ]
  },
  {
   "cell_type": "markdown",
   "id": "351b3fed",
   "metadata": {},
   "source": [
    "$x=\\frac{-b \\pm \\sqrt{b^2-4ac}}{2a}$"
   ]
  },
  {
   "cell_type": "markdown",
   "id": "bfcddbf6",
   "metadata": {},
   "source": [
    "### Discriminant"
   ]
  },
  {
   "cell_type": "markdown",
   "id": "2f2e1571",
   "metadata": {},
   "source": [
    "The quantity $\\Delta = b^2 - 4ac$ is called the **discriminant** of the equation and decides the nature of its solutions. \n"
   ]
  },
  {
   "cell_type": "markdown",
   "id": "c9e54017",
   "metadata": {},
   "source": [
    "| $Discriminant$ | $Roots$ |\n",
    "|------------|------------|\n",
    "| $\\Delta = b^2 - 4ac = 0$ | A single solution of $-b/(2a)$ |\n",
    "| $\\Delta = b^2 - 4ac > 0$ | Two distinct solutions |\n",
    "| $\\Delta = b^2 - 4ac < 0$ | No real solutions; both are complex |\n",
    "\n"
   ]
  },
  {
   "cell_type": "markdown",
   "id": "e5735387",
   "metadata": {},
   "source": [
    "# Exercise 2"
   ]
  },
  {
   "cell_type": "markdown",
   "id": "2d5471cc",
   "metadata": {},
   "source": [
    "## What is a Git repository?"
   ]
  },
  {
   "cell_type": "markdown",
   "id": "73c7c16e",
   "metadata": {},
   "source": [
    "It is a virtual storage of a project and it allows the user to track and save versions of the code that can be retrieved when needed. It contains all the files and each of their revision hisotry and can exist locally on the user's own computer or as a remote copy on another computer. In this case, we are using GitHub as a remote repository."
   ]
  },
  {
   "cell_type": "markdown",
   "id": "db4775ac",
   "metadata": {},
   "source": [
    "## Git keeps tracks of ____BLANK____ in the files in our repository.\n"
   ]
  },
  {
   "cell_type": "markdown",
   "id": "e48fa0dd",
   "metadata": {},
   "source": [
    "Blank, in this case means, changes."
   ]
  },
  {
   "cell_type": "markdown",
   "id": "6e92853b",
   "metadata": {},
   "source": [
    "## What is a commit?"
   ]
  },
  {
   "cell_type": "markdown",
   "id": "9c92a3c4",
   "metadata": {},
   "source": [
    "It can be understood as a snapshot of the user's repository at a particular point of time. It is basically saving a file, but when we commit with Git, we create a unique ID that can let us keep a record of what changes were made and when they were made. It is an important part of Git as it allows its users to track the history of hcanges and rever to previous versions if necessary, much like Google Docs."
   ]
  },
  {
   "cell_type": "markdown",
   "id": "2fcecb01",
   "metadata": {},
   "source": [
    "## What is a push?"
   ]
  },
  {
   "cell_type": "markdown",
   "id": "40cd06c7",
   "metadata": {},
   "source": [
    "A push can be understood as uploading the local repository content to a remote repository, it sends the commmitted changes made by the user into a remote repository, thus making the new version accessible to others. This allows commits to be transferred from the user's local repository to a remote one."
   ]
  },
  {
   "cell_type": "markdown",
   "id": "bd827276",
   "metadata": {},
   "source": [
    "## What is a pull?"
   ]
  },
  {
   "cell_type": "markdown",
   "id": "8f3db8c5",
   "metadata": {},
   "source": [
    "It can be understood as the act of fetching and downloading content from a remote repository and immediately updating the local repository to mathch the content. It is a combination of git fetch and git merge, where Git fetches changes from the remote repository and merges them into the current branch in its local repository."
   ]
  },
  {
   "cell_type": "markdown",
   "id": "f85e0c1b",
   "metadata": {},
   "source": [
    "## What is the difference between GitHub and GitHub Desktop?"
   ]
  },
  {
   "cell_type": "markdown",
   "id": "2f16dbee",
   "metadata": {},
   "source": [
    "GitHub can be understood as a cloud sotrage service for coding projecs. It allows the users to save the coding work online so that many can work on it. Just like how Google Drive and Dropbox, but for coding. It has different tools for keeping track of problems, sharing ideas, organising tasks, and even keeping notes for projects.\n",
    "\n",
    "GitHub Desktop is an application that makes using GitHub easier by helping to save changes, update online projects without those changes or bring updates from the online project to the user's computer without having to type in complex commands."
   ]
  }
 ],
 "metadata": {
  "kernelspec": {
   "display_name": "Python 3 (ipykernel)",
   "language": "python",
   "name": "python3"
  },
  "language_info": {
   "codemirror_mode": {
    "name": "ipython",
    "version": 3
   },
   "file_extension": ".py",
   "mimetype": "text/x-python",
   "name": "python",
   "nbconvert_exporter": "python",
   "pygments_lexer": "ipython3",
   "version": "3.11.7"
  },
  "toc": {
   "base_numbering": 1,
   "nav_menu": {},
   "number_sections": true,
   "sideBar": true,
   "skip_h1_title": false,
   "title_cell": "Table of Contents",
   "title_sidebar": "Contents",
   "toc_cell": false,
   "toc_position": {},
   "toc_section_display": true,
   "toc_window_display": false
  },
  "vscode": {
   "interpreter": {
    "hash": "31f2aee4e71d21fbe5cf8b01ff0e069b9275f58929596ceb00d14d90e3e16cd6"
   }
  }
 },
 "nbformat": 4,
 "nbformat_minor": 5
}
