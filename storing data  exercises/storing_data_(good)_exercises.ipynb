{
 "cells": [
  {
   "attachments": {},
   "cell_type": "markdown",
   "id": "123456",
   "metadata": {},
   "source": [
    "<div style=\"text-align:left;font-size:2em\"><span style=\"font-weight:bolder;font-size:1.25em\">SP2273 | Learning Portfolio</span><br><br><span style=\"font-weight:bold;color:darkred\">Storing Data (Good) Exercises</span></div>"
   ]
  },
  {
   "cell_type": "markdown",
   "id": "f9e58088-445d-4ae6-b79f-9207acfc3bf3",
   "metadata": {},
   "source": [
    "## Exercise 1"
   ]
  },
  {
   "cell_type": "markdown",
   "id": "eb777036-34c4-4e37-8502-98946d3415e8",
   "metadata": {},
   "source": [
    "| Term      | Brief description |\n",
    "|-----------|-------------------|\n",
    "| Subsetting| choose a subset of data from a list or an array|\n",
    "| Indexing  | choose a single element from a list or an array|\n",
    "| Slicing   | choose a range of elements from a list or an array|\n",
    "| Masking   | choose a set of data based on a set of conditions|\n"
   ]
  },
  {
   "cell_type": "markdown",
   "id": "08ab36b0-2ac6-40d5-a769-3a5bd0240caf",
   "metadata": {},
   "source": [
    "## Exercise 2"
   ]
  },
  {
   "cell_type": "code",
   "execution_count": 1,
   "id": "21f12a1a-255f-47af-9c26-ab5acddbe2f5",
   "metadata": {},
   "outputs": [],
   "source": [
    "import numpy as np"
   ]
  },
  {
   "cell_type": "code",
   "execution_count": 10,
   "id": "2cce0acc-7407-47eb-b1e8-3376f7e084fc",
   "metadata": {},
   "outputs": [
    {
     "data": {
      "text/plain": [
       "array(['A', 'C', 'E', 'G', 'I'], dtype='<U21')"
      ]
     },
     "execution_count": 10,
     "metadata": {},
     "output_type": "execute_result"
    }
   ],
   "source": [
    "np_array_2d = np.array([[1, \"A\"], [3, \"C\"], [2, \"B\"], [4, \"D\"],\n",
    "                        [5, \"E\"], [7, \"G\"], [6, \"F\"], [8, \"H\"],\n",
    "                        [10, \"J\"], [9, \"I\"]])\n",
    "\n",
    "first_elements_strings = np_array_2d[:, 0] #creating a 2D NumPy array\n",
    "first_elements_int = first_elements_strings.astype(int) #subset all the first elements\n",
    "remainders = first_elements_int % 2 # % to get the remainder for division by 2\n",
    "mask = remainders != 0 #creating a mask\n",
    "odd_letters = np_array_2d[:, 1][mask] #extraction of corresponding second elements)\n",
    "\n",
    "odd_letters"
   ]
  }
 ],
 "metadata": {
  "kernelspec": {
   "display_name": "Python 3 (ipykernel)",
   "language": "python",
   "name": "python3"
  },
  "language_info": {
   "codemirror_mode": {
    "name": "ipython",
    "version": 3
   },
   "file_extension": ".py",
   "mimetype": "text/x-python",
   "name": "python",
   "nbconvert_exporter": "python",
   "pygments_lexer": "ipython3",
   "version": "3.11.7"
  },
  "toc": {
   "base_numbering": 1,
   "nav_menu": {},
   "number_sections": true,
   "sideBar": true,
   "skip_h1_title": false,
   "title_cell": "Table of Contents",
   "title_sidebar": "Contents",
   "toc_cell": false,
   "toc_position": {},
   "toc_section_display": true,
   "toc_window_display": false
  },
  "vscode": {
   "interpreter": {
    "hash": "31f2aee4e71d21fbe5cf8b01ff0e069b9275f58929596ceb00d14d90e3e16cd6"
   }
  }
 },
 "nbformat": 4,
 "nbformat_minor": 5
}
