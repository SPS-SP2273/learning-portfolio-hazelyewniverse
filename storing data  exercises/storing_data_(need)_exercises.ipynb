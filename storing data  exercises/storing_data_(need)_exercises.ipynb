{
 "cells": [
  {
   "attachments": {},
   "cell_type": "markdown",
   "id": "123456",
   "metadata": {},
   "source": [
    "<div style=\"text-align:left;font-size:2em\"><span style=\"font-weight:bolder;font-size:1.25em\">SP2273 | Learning Portfolio</span><br><br><span style=\"font-weight:bold;color:darkred\">Storing Data (Need) Exercises</span></div>"
   ]
  },
  {
   "cell_type": "markdown",
   "id": "67e9f94e-6568-42cc-a6c0-8f4ef950641d",
   "metadata": {},
   "source": [
    "## Exercise 1"
   ]
  },
  {
   "cell_type": "markdown",
   "id": "63253410-1ff0-4557-b3c9-6fff339d6608",
   "metadata": {},
   "source": [
    "Two similarities between Lists and Arrays"
   ]
  },
  {
   "cell_type": "markdown",
   "id": "8626d3cb-d14e-449e-9acd-567627c18a38",
   "metadata": {},
   "source": [
    "1. The order is important so that it will work.\n",
    "\n",
    "*2. Ways to access data by using an index corresponidng to that data's position.*"
   ]
  },
  {
   "cell_type": "markdown",
   "id": "35f19c56-7544-423b-864b-4e3835022429",
   "metadata": {},
   "source": [
    "Two differences between Lists and Arrays"
   ]
  },
  {
   "cell_type": "markdown",
   "id": "edb5f333-bb38-44e9-a404-3a729c4aec70",
   "metadata": {},
   "source": [
    "1. Size differences - lists are more flexible and can be changed at anytime but new arrays need to be created if changes need to be made.\n",
    "\n",
    "2. Arrays are fussy about types - arrays need to have only a single data list but lists are more flexible"
   ]
  },
  {
   "cell_type": "markdown",
   "id": "59a22b6b-a84a-4f5b-8023-592ddd37667c",
   "metadata": {},
   "source": [
    "## Exercise 2"
   ]
  },
  {
   "cell_type": "code",
   "execution_count": 8,
   "id": "a7666c6a-1e41-42d1-99cc-2db1b38f8993",
   "metadata": {},
   "outputs": [
    {
     "name": "stdout",
     "output_type": "stream",
     "text": [
      "a1\n",
      "c3\n",
      "e5\n",
      "g7\n",
      "i9\n"
     ]
    }
   ],
   "source": [
    "py_list = [\"a1\", \"b2\", \"c3\", \"d4\", \"e5\", \"f6\", \"g7\", \"h8\", \"i9\", \"j10\"]\n",
    "print (py_list [0]) # Prints 'a1'\n",
    "print (py_list [2]) # Prints 'c3'\n",
    "print (py_list [4]) # Prints 'e5'\n",
    "print (py_list [6]) # Prints 'g7'\n",
    "print(py_list[8])   # Prints 'i9'"
   ]
  },
  {
   "cell_type": "markdown",
   "id": "e4a653ba-5812-402e-8435-d9a9a839f6f1",
   "metadata": {},
   "source": [
    "## Exercise 3"
   ]
  },
  {
   "cell_type": "code",
   "execution_count": 11,
   "id": "5ad5ccc2-d754-4ed5-b812-deb24ac310dc",
   "metadata": {},
   "outputs": [
    {
     "name": "stdout",
     "output_type": "stream",
     "text": [
      "Boron\n",
      "Carbon\n"
     ]
    }
   ],
   "source": [
    "elements = ['Hydrogen',\n",
    "            'Helium', 'Lithium',\n",
    "            'Beryllium', 'Boron', 'Carbon',\n",
    "            'Nitrogen', 'Oxygen',\n",
    "            'Fluorine',\n",
    "            'Neon']\n",
    "print (elements[4])\n",
    "print (elements[-5])"
   ]
  },
  {
   "cell_type": "markdown",
   "id": "65a287b2-954f-4463-81ad-a8bfb5972413",
   "metadata": {},
   "source": [
    "## Exercise 4"
   ]
  },
  {
   "cell_type": "code",
   "execution_count": 12,
   "id": "9e43f6e1-fedb-4125-9cc6-a68d3140d31a",
   "metadata": {},
   "outputs": [],
   "source": [
    "import numpy as np"
   ]
  },
  {
   "cell_type": "code",
   "execution_count": 22,
   "id": "298f7a19-1180-40d4-85b7-eb099116ee3f",
   "metadata": {},
   "outputs": [
    {
     "name": "stdout",
     "output_type": "stream",
     "text": [
      "9\n"
     ]
    }
   ],
   "source": [
    "numbers=[45, 60, 1, 30, 96, 1, 96, 57, 16, 1,\n",
    "        99, 62, 86, 43, 42, 60, 59, 1, 1, 35,\n",
    "        83, 47, 34, 28, 68, 23, 22, 92, 1, 79,\n",
    "        1, 29, 94, 72, 46, 47, 1, 74, 32, 20,\n",
    "        8, 37, 35, 1, 89, 29, 86, 19, 43, 61]\n",
    "np_numbers = np.array(numbers)     # Convert list to a NumPy array\n",
    "num_ones = np.sum(np_numbers == 1) # '==' compares each element to 1\n",
    "                                   #sum to count the number of 'True' values\n",
    "print(num_ones)"
   ]
  }
 ],
 "metadata": {
  "kernelspec": {
   "display_name": "Python 3 (ipykernel)",
   "language": "python",
   "name": "python3"
  },
  "language_info": {
   "codemirror_mode": {
    "name": "ipython",
    "version": 3
   },
   "file_extension": ".py",
   "mimetype": "text/x-python",
   "name": "python",
   "nbconvert_exporter": "python",
   "pygments_lexer": "ipython3",
   "version": "3.11.7"
  },
  "toc": {
   "base_numbering": 1,
   "nav_menu": {},
   "number_sections": true,
   "sideBar": true,
   "skip_h1_title": false,
   "title_cell": "Table of Contents",
   "title_sidebar": "Contents",
   "toc_cell": false,
   "toc_position": {},
   "toc_section_display": true,
   "toc_window_display": false
  },
  "vscode": {
   "interpreter": {
    "hash": "31f2aee4e71d21fbe5cf8b01ff0e069b9275f58929596ceb00d14d90e3e16cd6"
   }
  }
 },
 "nbformat": 4,
 "nbformat_minor": 5
}
