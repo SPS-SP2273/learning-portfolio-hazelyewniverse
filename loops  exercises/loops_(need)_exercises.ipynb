{
 "cells": [
  {
   "attachments": {},
   "cell_type": "markdown",
   "id": "123456",
   "metadata": {},
   "source": [
    "<div style=\"text-align:left;font-size:2em\"><span style=\"font-weight:bolder;font-size:1.25em\">SP2273 | Learning Portfolio</span><br><br><span style=\"font-weight:bold;color:darkred\">Loops (Need) Exercises</span></div>"
   ]
  },
  {
   "cell_type": "markdown",
   "id": "a7e82a18-99b7-4fbe-bc8b-e76caef1928c",
   "metadata": {},
   "source": [
    "# Exercise 1"
   ]
  },
  {
   "cell_type": "code",
   "execution_count": 5,
   "id": "1004bd86-cd0a-40d6-9c8d-eaa17e6dbe3a",
   "metadata": {},
   "outputs": [
    {
     "name": "stdout",
     "output_type": "stream",
     "text": [
      "Celsius: 0.0, Farenheit: 32.0\n",
      "Celsius: 5.0, Farenheit: 41.0\n",
      "Celsius: 10.0, Farenheit: 50.0\n",
      "Celsius: 15.0, Farenheit: 59.0\n",
      "Celsius: 20.0, Farenheit: 68.0\n",
      "Celsius: 25.0, Farenheit: 77.0\n",
      "Celsius: 30.0, Farenheit: 86.0\n",
      "Celsius: 35.0, Farenheit: 95.0\n",
      "Celsius: 40.0, Farenheit: 104.0\n",
      "Celsius: 45.0, Farenheit: 113.0\n",
      "Celsius: 50.0, Farenheit: 122.0\n"
     ]
    }
   ],
   "source": [
    "temperatures_celsius = [\n",
    "    0, 5, 10, 15, 20, 25,\n",
    "    30, 35, 40, 45, 50\n",
    "]\n",
    "\n",
    "for temp_c in temperatures_celsius: \n",
    "    temp_f = (9/5*temp_c) + 32\n",
    "    print(f\"Celsius: {float(temp_c)}, Farenheit: {temp_f}\")\n"
   ]
  },
  {
   "cell_type": "markdown",
   "id": "bd19045d-bec6-4c2e-8bf0-2a4fed614d32",
   "metadata": {},
   "source": [
    "# Exercise 2"
   ]
  },
  {
   "cell_type": "markdown",
   "id": "075638d1-0c3f-4d78-b6f4-2879910b8919",
   "metadata": {},
   "source": [
    "You can put a loop within a loop to do doubly loopy stuff. Here is an example:\n",
    "\n"
   ]
  },
  {
   "cell_type": "code",
   "execution_count": 6,
   "id": "30e6abf4-27fd-4771-84d8-114793e6abad",
   "metadata": {},
   "outputs": [
    {
     "name": "stdout",
     "output_type": "stream",
     "text": [
      "A1\tA2\tA3\t\n",
      "\n",
      "B1\tB2\tB3\t\n",
      "\n",
      "C1\tC2\tC3\t\n",
      "\n"
     ]
    }
   ],
   "source": [
    "for letter in ['A', 'B', 'C']:\n",
    "    for number in [1, 2, 3]:\n",
    "        print(f'{letter}{number}', end='\\t')\n",
    "    print('\\n')"
   ]
  },
  {
   "cell_type": "code",
   "execution_count": 9,
   "id": "fc1e02a7-6558-4c1c-9ab2-8c48599c248b",
   "metadata": {},
   "outputs": [
    {
     "name": "stdout",
     "output_type": "stream",
     "text": [
      "1\t2\t3\t4\t5\t\n",
      "\n",
      "2\t4\t6\t8\t10\t\n",
      "\n",
      "3\t6\t9\t12\t15\t\n",
      "\n",
      "4\t8\t12\t16\t20\t\n",
      "\n",
      "5\t10\t15\t20\t25\t\n",
      "\n"
     ]
    }
   ],
   "source": [
    "for row in [1, 2, 3, 4, 5]:\n",
    "    for column in [1, 2, 3, 4, 5]:\n",
    "        print(f'{row*column}', end='\\t')\n",
    "    print('\\n')"
   ]
  }
 ],
 "metadata": {
  "kernelspec": {
   "display_name": "Python 3 (ipykernel)",
   "language": "python",
   "name": "python3"
  },
  "language_info": {
   "codemirror_mode": {
    "name": "ipython",
    "version": 3
   },
   "file_extension": ".py",
   "mimetype": "text/x-python",
   "name": "python",
   "nbconvert_exporter": "python",
   "pygments_lexer": "ipython3",
   "version": "3.11.7"
  },
  "toc": {
   "base_numbering": 1,
   "nav_menu": {},
   "number_sections": true,
   "sideBar": true,
   "skip_h1_title": false,
   "title_cell": "Table of Contents",
   "title_sidebar": "Contents",
   "toc_cell": false,
   "toc_position": {},
   "toc_section_display": true,
   "toc_window_display": false
  },
  "vscode": {
   "interpreter": {
    "hash": "31f2aee4e71d21fbe5cf8b01ff0e069b9275f58929596ceb00d14d90e3e16cd6"
   }
  }
 },
 "nbformat": 4,
 "nbformat_minor": 5
}
